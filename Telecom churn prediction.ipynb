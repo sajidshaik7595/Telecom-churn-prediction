{
 "cells": [
  {
   "cell_type": "markdown",
   "id": "01c600c3",
   "metadata": {},
   "source": [
    "# BUSINESS CASE:"
   ]
  },
  {
   "cell_type": "markdown",
   "id": "a7713759",
   "metadata": {},
   "source": [
    "### No-Churn Telecom is an established Telecom operator in Europe with more than a decade in Business.Due to new players in the market ,telecom industry has become very competative and retaining customers becoming a challenge\n",
    "\n",
    "### In spite of No_Churn intiatives of reducing tariffs and promoting more offers ,the churn rate( percentage of customers migrating to competitors) is well above 10%\n",
    "\n",
    "### No-Churn wants to explore possibility of machine learning to help with following use cases to retain competitive edge in the industry"
   ]
  },
  {
   "cell_type": "code",
   "execution_count": 1,
   "id": "d93cb87b",
   "metadata": {},
   "outputs": [],
   "source": [
    "import os\n",
    "import mysql.connector\n",
    "import pandas as pd\n",
    "import numpy as np"
   ]
  },
  {
   "cell_type": "code",
   "execution_count": 2,
   "id": "5b8bda24",
   "metadata": {},
   "outputs": [
    {
     "name": "stdout",
     "output_type": "stream",
     "text": [
      "<mysql.connector.connection.MySQLConnection object at 0x00000203C55975B0>\n"
     ]
    }
   ],
   "source": [
    "connection=mysql.connector.connect(host = '18.136.157.135',\n",
    "                                  user ='dm_team3',\n",
    "                                  password= 'DM!$!Team!27@9!20&')\n",
    "print(connection)"
   ]
  },
  {
   "cell_type": "code",
   "execution_count": 3,
   "id": "9f751c2d",
   "metadata": {},
   "outputs": [
    {
     "name": "stdout",
     "output_type": "stream",
     "text": [
      "('information_schema',)\n",
      "('project_telecom',)\n"
     ]
    }
   ],
   "source": [
    "cursor = connection.cursor()\n",
    "cursor.execute('show databases')\n",
    "for i in cursor:\n",
    "    print(i)"
   ]
  },
  {
   "cell_type": "code",
   "execution_count": 4,
   "id": "3d2b39a0",
   "metadata": {},
   "outputs": [],
   "source": [
    "connection=mysql.connector.connect(host = '18.136.157.135',\n",
    "                                  user ='dm_team3',\n",
    "                                  password= 'DM!$!Team!27@9!20&',\n",
    "                                  database='project_telecom')"
   ]
  },
  {
   "cell_type": "code",
   "execution_count": 5,
   "id": "a3704739",
   "metadata": {},
   "outputs": [
    {
     "data": {
      "text/plain": [
       "<mysql.connector.connection.MySQLConnection at 0x203c5597b80>"
      ]
     },
     "execution_count": 5,
     "metadata": {},
     "output_type": "execute_result"
    }
   ],
   "source": [
    "connection"
   ]
  },
  {
   "cell_type": "code",
   "execution_count": 6,
   "id": "181a8ad5",
   "metadata": {},
   "outputs": [
    {
     "name": "stdout",
     "output_type": "stream",
     "text": [
      "  Tables_in_project_telecom\n",
      "0        telecom_churn_data\n"
     ]
    }
   ],
   "source": [
    "db_tables=pd.read_sql_query('show tables',connection)\n",
    "print(db_tables)"
   ]
  },
  {
   "cell_type": "code",
   "execution_count": 7,
   "id": "ad8cf423",
   "metadata": {},
   "outputs": [],
   "source": [
    "sql = 'select * from telecom_churn_data'"
   ]
  },
  {
   "cell_type": "code",
   "execution_count": 8,
   "id": "e4d9f750",
   "metadata": {},
   "outputs": [],
   "source": [
    "from sqlalchemy import create_engine"
   ]
  },
  {
   "cell_type": "code",
   "execution_count": 9,
   "id": "45a0ec8f",
   "metadata": {},
   "outputs": [],
   "source": [
    "df = pd.read_sql(sql,connection)"
   ]
  },
  {
   "cell_type": "code",
   "execution_count": 10,
   "id": "1c0ff90b",
   "metadata": {},
   "outputs": [
    {
     "data": {
      "text/html": [
       "<div>\n",
       "<style scoped>\n",
       "    .dataframe tbody tr th:only-of-type {\n",
       "        vertical-align: middle;\n",
       "    }\n",
       "\n",
       "    .dataframe tbody tr th {\n",
       "        vertical-align: top;\n",
       "    }\n",
       "\n",
       "    .dataframe thead th {\n",
       "        text-align: right;\n",
       "    }\n",
       "</style>\n",
       "<table border=\"1\" class=\"dataframe\">\n",
       "  <thead>\n",
       "    <tr style=\"text-align: right;\">\n",
       "      <th></th>\n",
       "      <th>columns1</th>\n",
       "      <th>columns2</th>\n",
       "      <th>columns3</th>\n",
       "      <th>columns4</th>\n",
       "      <th>columns5</th>\n",
       "      <th>columns6</th>\n",
       "      <th>columns7</th>\n",
       "      <th>columns8</th>\n",
       "      <th>columns9</th>\n",
       "      <th>columns10</th>\n",
       "      <th>...</th>\n",
       "      <th>columns12</th>\n",
       "      <th>columns13</th>\n",
       "      <th>columns14</th>\n",
       "      <th>columns15</th>\n",
       "      <th>columns16</th>\n",
       "      <th>columns17</th>\n",
       "      <th>columns18</th>\n",
       "      <th>columns19</th>\n",
       "      <th>columns20</th>\n",
       "      <th>columns21</th>\n",
       "    </tr>\n",
       "  </thead>\n",
       "  <tbody>\n",
       "    <tr>\n",
       "      <th>0</th>\n",
       "      <td>KS</td>\n",
       "      <td>128</td>\n",
       "      <td>415</td>\n",
       "      <td>382-4657</td>\n",
       "      <td>no</td>\n",
       "      <td>yes</td>\n",
       "      <td>25</td>\n",
       "      <td>265.1</td>\n",
       "      <td>110</td>\n",
       "      <td>45.07</td>\n",
       "      <td>...</td>\n",
       "      <td>99</td>\n",
       "      <td>16.78</td>\n",
       "      <td>244.7</td>\n",
       "      <td>91</td>\n",
       "      <td>11.01</td>\n",
       "      <td>10</td>\n",
       "      <td>3</td>\n",
       "      <td>2.7</td>\n",
       "      <td>1</td>\n",
       "      <td>False.</td>\n",
       "    </tr>\n",
       "    <tr>\n",
       "      <th>1</th>\n",
       "      <td>OH</td>\n",
       "      <td>107</td>\n",
       "      <td>415</td>\n",
       "      <td>371-7191</td>\n",
       "      <td>no</td>\n",
       "      <td>yes</td>\n",
       "      <td>26</td>\n",
       "      <td>161.6</td>\n",
       "      <td>123</td>\n",
       "      <td>27.47</td>\n",
       "      <td>...</td>\n",
       "      <td>103</td>\n",
       "      <td>16.62</td>\n",
       "      <td>254.4</td>\n",
       "      <td>103</td>\n",
       "      <td>11.45</td>\n",
       "      <td>13.7</td>\n",
       "      <td>3</td>\n",
       "      <td>3.7</td>\n",
       "      <td>1</td>\n",
       "      <td>False.</td>\n",
       "    </tr>\n",
       "    <tr>\n",
       "      <th>2</th>\n",
       "      <td>NJ</td>\n",
       "      <td>137</td>\n",
       "      <td>415</td>\n",
       "      <td>358-1921</td>\n",
       "      <td>no</td>\n",
       "      <td>no</td>\n",
       "      <td>0</td>\n",
       "      <td>243.4</td>\n",
       "      <td>114</td>\n",
       "      <td>41.38</td>\n",
       "      <td>...</td>\n",
       "      <td>110</td>\n",
       "      <td>10.3</td>\n",
       "      <td>162.6</td>\n",
       "      <td>104</td>\n",
       "      <td>7.32</td>\n",
       "      <td>12.2</td>\n",
       "      <td>5</td>\n",
       "      <td>3.29</td>\n",
       "      <td>0</td>\n",
       "      <td>False.</td>\n",
       "    </tr>\n",
       "    <tr>\n",
       "      <th>3</th>\n",
       "      <td>OH</td>\n",
       "      <td>84</td>\n",
       "      <td>408</td>\n",
       "      <td>375-9999</td>\n",
       "      <td>yes</td>\n",
       "      <td>no</td>\n",
       "      <td>0</td>\n",
       "      <td>299.4</td>\n",
       "      <td>71</td>\n",
       "      <td>50.9</td>\n",
       "      <td>...</td>\n",
       "      <td>88</td>\n",
       "      <td>5.26</td>\n",
       "      <td>196.9</td>\n",
       "      <td>89</td>\n",
       "      <td>8.86</td>\n",
       "      <td>6.6</td>\n",
       "      <td>7</td>\n",
       "      <td>1.78</td>\n",
       "      <td>2</td>\n",
       "      <td>False.</td>\n",
       "    </tr>\n",
       "    <tr>\n",
       "      <th>4</th>\n",
       "      <td>OK</td>\n",
       "      <td>75</td>\n",
       "      <td>415</td>\n",
       "      <td>330-6626</td>\n",
       "      <td>yes</td>\n",
       "      <td>no</td>\n",
       "      <td>0</td>\n",
       "      <td>166.7</td>\n",
       "      <td>113</td>\n",
       "      <td>28.34</td>\n",
       "      <td>...</td>\n",
       "      <td>122</td>\n",
       "      <td>12.61</td>\n",
       "      <td>186.9</td>\n",
       "      <td>121</td>\n",
       "      <td>8.41</td>\n",
       "      <td>10.1</td>\n",
       "      <td>3</td>\n",
       "      <td>2.73</td>\n",
       "      <td>3</td>\n",
       "      <td>False.</td>\n",
       "    </tr>\n",
       "  </tbody>\n",
       "</table>\n",
       "<p>5 rows × 21 columns</p>\n",
       "</div>"
      ],
      "text/plain": [
       "  columns1 columns2 columns3   columns4 columns5 columns6 columns7 columns8  \\\n",
       "0       KS      128      415   382-4657       no      yes       25    265.1   \n",
       "1       OH      107      415   371-7191       no      yes       26    161.6   \n",
       "2       NJ      137      415   358-1921       no       no        0    243.4   \n",
       "3       OH       84      408   375-9999      yes       no        0    299.4   \n",
       "4       OK       75      415   330-6626      yes       no        0    166.7   \n",
       "\n",
       "  columns9 columns10  ... columns12 columns13 columns14 columns15 columns16  \\\n",
       "0      110     45.07  ...        99     16.78     244.7        91     11.01   \n",
       "1      123     27.47  ...       103     16.62     254.4       103     11.45   \n",
       "2      114     41.38  ...       110      10.3     162.6       104      7.32   \n",
       "3       71      50.9  ...        88      5.26     196.9        89      8.86   \n",
       "4      113     28.34  ...       122     12.61     186.9       121      8.41   \n",
       "\n",
       "  columns17 columns18 columns19 columns20 columns21  \n",
       "0        10         3       2.7         1    False.  \n",
       "1      13.7         3       3.7         1    False.  \n",
       "2      12.2         5      3.29         0    False.  \n",
       "3       6.6         7      1.78         2    False.  \n",
       "4      10.1         3      2.73         3    False.  \n",
       "\n",
       "[5 rows x 21 columns]"
      ]
     },
     "execution_count": 10,
     "metadata": {},
     "output_type": "execute_result"
    }
   ],
   "source": [
    "df.head()"
   ]
  },
  {
   "cell_type": "code",
   "execution_count": 11,
   "id": "ad501c27",
   "metadata": {},
   "outputs": [],
   "source": [
    "df.columns=['State', 'Acc_len', 'Area_code', 'Phone', 'Int_plan', 'Vmail_plan',\n",
    "       'Vmail_message', 'Day_min', 'Day_calls', 'Day_charge', 'Eve_mins',\n",
    "       'Eve_calls', 'Eve_charge', 'Night_mins', 'Night_calls', 'Night_charge',\n",
    "       'Int_mins', 'Int_calls', 'Int_charge', 'Custserv_calls', 'Churn']"
   ]
  },
  {
   "cell_type": "code",
   "execution_count": 12,
   "id": "28b8161f",
   "metadata": {},
   "outputs": [
    {
     "name": "stdout",
     "output_type": "stream",
     "text": [
      "<class 'pandas.core.frame.DataFrame'>\n",
      "RangeIndex: 4617 entries, 0 to 4616\n",
      "Data columns (total 21 columns):\n",
      " #   Column          Non-Null Count  Dtype \n",
      "---  ------          --------------  ----- \n",
      " 0   State           4617 non-null   object\n",
      " 1   Acc_len         4617 non-null   object\n",
      " 2   Area_code       4617 non-null   object\n",
      " 3   Phone           4617 non-null   object\n",
      " 4   Int_plan        4617 non-null   object\n",
      " 5   Vmail_plan      4617 non-null   object\n",
      " 6   Vmail_message   4617 non-null   object\n",
      " 7   Day_min         4617 non-null   object\n",
      " 8   Day_calls       4617 non-null   object\n",
      " 9   Day_charge      4617 non-null   object\n",
      " 10  Eve_mins        4617 non-null   object\n",
      " 11  Eve_calls       4617 non-null   object\n",
      " 12  Eve_charge      4617 non-null   object\n",
      " 13  Night_mins      4617 non-null   object\n",
      " 14  Night_calls     4617 non-null   object\n",
      " 15  Night_charge    4617 non-null   object\n",
      " 16  Int_mins        4617 non-null   object\n",
      " 17  Int_calls       4617 non-null   object\n",
      " 18  Int_charge      4617 non-null   object\n",
      " 19  Custserv_calls  4617 non-null   object\n",
      " 20  Churn           4617 non-null   object\n",
      "dtypes: object(21)\n",
      "memory usage: 757.6+ KB\n"
     ]
    }
   ],
   "source": [
    "df.info()"
   ]
  },
  {
   "cell_type": "code",
   "execution_count": 13,
   "id": "33cda68d",
   "metadata": {},
   "outputs": [
    {
     "data": {
      "text/html": [
       "<div>\n",
       "<style scoped>\n",
       "    .dataframe tbody tr th:only-of-type {\n",
       "        vertical-align: middle;\n",
       "    }\n",
       "\n",
       "    .dataframe tbody tr th {\n",
       "        vertical-align: top;\n",
       "    }\n",
       "\n",
       "    .dataframe thead th {\n",
       "        text-align: right;\n",
       "    }\n",
       "</style>\n",
       "<table border=\"1\" class=\"dataframe\">\n",
       "  <thead>\n",
       "    <tr style=\"text-align: right;\">\n",
       "      <th></th>\n",
       "      <th>State</th>\n",
       "      <th>Acc_len</th>\n",
       "      <th>Area_code</th>\n",
       "      <th>Phone</th>\n",
       "      <th>Int_plan</th>\n",
       "      <th>Vmail_plan</th>\n",
       "      <th>Vmail_message</th>\n",
       "      <th>Day_min</th>\n",
       "      <th>Day_calls</th>\n",
       "      <th>Day_charge</th>\n",
       "      <th>...</th>\n",
       "      <th>Eve_calls</th>\n",
       "      <th>Eve_charge</th>\n",
       "      <th>Night_mins</th>\n",
       "      <th>Night_calls</th>\n",
       "      <th>Night_charge</th>\n",
       "      <th>Int_mins</th>\n",
       "      <th>Int_calls</th>\n",
       "      <th>Int_charge</th>\n",
       "      <th>Custserv_calls</th>\n",
       "      <th>Churn</th>\n",
       "    </tr>\n",
       "  </thead>\n",
       "  <tbody>\n",
       "    <tr>\n",
       "      <th>0</th>\n",
       "      <td>KS</td>\n",
       "      <td>128</td>\n",
       "      <td>415</td>\n",
       "      <td>382-4657</td>\n",
       "      <td>no</td>\n",
       "      <td>yes</td>\n",
       "      <td>25</td>\n",
       "      <td>265.1</td>\n",
       "      <td>110</td>\n",
       "      <td>45.07</td>\n",
       "      <td>...</td>\n",
       "      <td>99</td>\n",
       "      <td>16.78</td>\n",
       "      <td>244.7</td>\n",
       "      <td>91</td>\n",
       "      <td>11.01</td>\n",
       "      <td>10</td>\n",
       "      <td>3</td>\n",
       "      <td>2.7</td>\n",
       "      <td>1</td>\n",
       "      <td>False.</td>\n",
       "    </tr>\n",
       "    <tr>\n",
       "      <th>1</th>\n",
       "      <td>OH</td>\n",
       "      <td>107</td>\n",
       "      <td>415</td>\n",
       "      <td>371-7191</td>\n",
       "      <td>no</td>\n",
       "      <td>yes</td>\n",
       "      <td>26</td>\n",
       "      <td>161.6</td>\n",
       "      <td>123</td>\n",
       "      <td>27.47</td>\n",
       "      <td>...</td>\n",
       "      <td>103</td>\n",
       "      <td>16.62</td>\n",
       "      <td>254.4</td>\n",
       "      <td>103</td>\n",
       "      <td>11.45</td>\n",
       "      <td>13.7</td>\n",
       "      <td>3</td>\n",
       "      <td>3.7</td>\n",
       "      <td>1</td>\n",
       "      <td>False.</td>\n",
       "    </tr>\n",
       "    <tr>\n",
       "      <th>2</th>\n",
       "      <td>NJ</td>\n",
       "      <td>137</td>\n",
       "      <td>415</td>\n",
       "      <td>358-1921</td>\n",
       "      <td>no</td>\n",
       "      <td>no</td>\n",
       "      <td>0</td>\n",
       "      <td>243.4</td>\n",
       "      <td>114</td>\n",
       "      <td>41.38</td>\n",
       "      <td>...</td>\n",
       "      <td>110</td>\n",
       "      <td>10.3</td>\n",
       "      <td>162.6</td>\n",
       "      <td>104</td>\n",
       "      <td>7.32</td>\n",
       "      <td>12.2</td>\n",
       "      <td>5</td>\n",
       "      <td>3.29</td>\n",
       "      <td>0</td>\n",
       "      <td>False.</td>\n",
       "    </tr>\n",
       "    <tr>\n",
       "      <th>3</th>\n",
       "      <td>OH</td>\n",
       "      <td>84</td>\n",
       "      <td>408</td>\n",
       "      <td>375-9999</td>\n",
       "      <td>yes</td>\n",
       "      <td>no</td>\n",
       "      <td>0</td>\n",
       "      <td>299.4</td>\n",
       "      <td>71</td>\n",
       "      <td>50.9</td>\n",
       "      <td>...</td>\n",
       "      <td>88</td>\n",
       "      <td>5.26</td>\n",
       "      <td>196.9</td>\n",
       "      <td>89</td>\n",
       "      <td>8.86</td>\n",
       "      <td>6.6</td>\n",
       "      <td>7</td>\n",
       "      <td>1.78</td>\n",
       "      <td>2</td>\n",
       "      <td>False.</td>\n",
       "    </tr>\n",
       "    <tr>\n",
       "      <th>4</th>\n",
       "      <td>OK</td>\n",
       "      <td>75</td>\n",
       "      <td>415</td>\n",
       "      <td>330-6626</td>\n",
       "      <td>yes</td>\n",
       "      <td>no</td>\n",
       "      <td>0</td>\n",
       "      <td>166.7</td>\n",
       "      <td>113</td>\n",
       "      <td>28.34</td>\n",
       "      <td>...</td>\n",
       "      <td>122</td>\n",
       "      <td>12.61</td>\n",
       "      <td>186.9</td>\n",
       "      <td>121</td>\n",
       "      <td>8.41</td>\n",
       "      <td>10.1</td>\n",
       "      <td>3</td>\n",
       "      <td>2.73</td>\n",
       "      <td>3</td>\n",
       "      <td>False.</td>\n",
       "    </tr>\n",
       "  </tbody>\n",
       "</table>\n",
       "<p>5 rows × 21 columns</p>\n",
       "</div>"
      ],
      "text/plain": [
       "  State Acc_len Area_code      Phone Int_plan Vmail_plan Vmail_message  \\\n",
       "0    KS     128       415   382-4657       no        yes            25   \n",
       "1    OH     107       415   371-7191       no        yes            26   \n",
       "2    NJ     137       415   358-1921       no         no             0   \n",
       "3    OH      84       408   375-9999      yes         no             0   \n",
       "4    OK      75       415   330-6626      yes         no             0   \n",
       "\n",
       "  Day_min Day_calls Day_charge  ... Eve_calls Eve_charge Night_mins  \\\n",
       "0   265.1       110      45.07  ...        99      16.78      244.7   \n",
       "1   161.6       123      27.47  ...       103      16.62      254.4   \n",
       "2   243.4       114      41.38  ...       110       10.3      162.6   \n",
       "3   299.4        71       50.9  ...        88       5.26      196.9   \n",
       "4   166.7       113      28.34  ...       122      12.61      186.9   \n",
       "\n",
       "  Night_calls Night_charge Int_mins Int_calls Int_charge Custserv_calls  \\\n",
       "0          91        11.01       10         3        2.7              1   \n",
       "1         103        11.45     13.7         3        3.7              1   \n",
       "2         104         7.32     12.2         5       3.29              0   \n",
       "3          89         8.86      6.6         7       1.78              2   \n",
       "4         121         8.41     10.1         3       2.73              3   \n",
       "\n",
       "     Churn  \n",
       "0   False.  \n",
       "1   False.  \n",
       "2   False.  \n",
       "3   False.  \n",
       "4   False.  \n",
       "\n",
       "[5 rows x 21 columns]"
      ]
     },
     "execution_count": 13,
     "metadata": {},
     "output_type": "execute_result"
    }
   ],
   "source": [
    "df.head()"
   ]
  },
  {
   "cell_type": "code",
   "execution_count": 14,
   "id": "3ca175bc",
   "metadata": {},
   "outputs": [
    {
     "data": {
      "text/plain": [
       "State             0\n",
       "Acc_len           0\n",
       "Area_code         0\n",
       "Phone             0\n",
       "Int_plan          0\n",
       "Vmail_plan        0\n",
       "Vmail_message     0\n",
       "Day_min           0\n",
       "Day_calls         0\n",
       "Day_charge        0\n",
       "Eve_mins          0\n",
       "Eve_calls         0\n",
       "Eve_charge        0\n",
       "Night_mins        0\n",
       "Night_calls       0\n",
       "Night_charge      0\n",
       "Int_mins          0\n",
       "Int_calls         0\n",
       "Int_charge        0\n",
       "Custserv_calls    0\n",
       "Churn             0\n",
       "dtype: int64"
      ]
     },
     "execution_count": 14,
     "metadata": {},
     "output_type": "execute_result"
    }
   ],
   "source": [
    "df.isnull().sum()"
   ]
  },
  {
   "cell_type": "code",
   "execution_count": 15,
   "id": "55c21655",
   "metadata": {},
   "outputs": [
    {
     "data": {
      "text/plain": [
       "Index(['State', 'Acc_len', 'Area_code', 'Phone', 'Int_plan', 'Vmail_plan',\n",
       "       'Vmail_message', 'Day_min', 'Day_calls', 'Day_charge', 'Eve_mins',\n",
       "       'Eve_calls', 'Eve_charge', 'Night_mins', 'Night_calls', 'Night_charge',\n",
       "       'Int_mins', 'Int_calls', 'Int_charge', 'Custserv_calls', 'Churn'],\n",
       "      dtype='object')"
      ]
     },
     "execution_count": 15,
     "metadata": {},
     "output_type": "execute_result"
    }
   ],
   "source": [
    "df.columns"
   ]
  },
  {
   "cell_type": "code",
   "execution_count": 16,
   "id": "b14e71c6",
   "metadata": {},
   "outputs": [],
   "source": [
    "#creating a list except the elements which are catergorical[state,Int_plan,Phone,Vmail_plan,Churn]\n",
    "list = ['Acc_len', 'Area_code','Vmail_message', 'Day_min', 'Day_calls', 'Day_charge', 'Eve_mins',\n",
    "       'Eve_calls', 'Eve_charge', 'Night_mins', 'Night_calls', 'Night_charge',\n",
    "       'Int_mins', 'Int_calls', 'Int_charge', 'Custserv_calls']\n",
    "\n",
    "#ff['Acc_len']= pd.to_numeric(ff.Acc_len,errors='coerce')\n",
    "\n",
    "df[list]= df[list].apply(pd.to_numeric,errors='coerce')"
   ]
  },
  {
   "cell_type": "code",
   "execution_count": 17,
   "id": "7663a795",
   "metadata": {},
   "outputs": [
    {
     "name": "stdout",
     "output_type": "stream",
     "text": [
      "<class 'pandas.core.frame.DataFrame'>\n",
      "RangeIndex: 4617 entries, 0 to 4616\n",
      "Data columns (total 21 columns):\n",
      " #   Column          Non-Null Count  Dtype  \n",
      "---  ------          --------------  -----  \n",
      " 0   State           4617 non-null   object \n",
      " 1   Acc_len         4617 non-null   int64  \n",
      " 2   Area_code       4617 non-null   int64  \n",
      " 3   Phone           4617 non-null   object \n",
      " 4   Int_plan        4617 non-null   object \n",
      " 5   Vmail_plan      4617 non-null   object \n",
      " 6   Vmail_message   4617 non-null   int64  \n",
      " 7   Day_min         4617 non-null   float64\n",
      " 8   Day_calls       4617 non-null   int64  \n",
      " 9   Day_charge      4617 non-null   float64\n",
      " 10  Eve_mins        4617 non-null   float64\n",
      " 11  Eve_calls       4617 non-null   int64  \n",
      " 12  Eve_charge      4617 non-null   float64\n",
      " 13  Night_mins      4617 non-null   float64\n",
      " 14  Night_calls     4617 non-null   int64  \n",
      " 15  Night_charge    4617 non-null   float64\n",
      " 16  Int_mins        4617 non-null   float64\n",
      " 17  Int_calls       4617 non-null   int64  \n",
      " 18  Int_charge      4617 non-null   float64\n",
      " 19  Custserv_calls  4617 non-null   int64  \n",
      " 20  Churn           4617 non-null   object \n",
      "dtypes: float64(8), int64(8), object(5)\n",
      "memory usage: 757.6+ KB\n"
     ]
    }
   ],
   "source": [
    "df.info()"
   ]
  },
  {
   "cell_type": "code",
   "execution_count": 18,
   "id": "ba5b47ad",
   "metadata": {},
   "outputs": [
    {
     "data": {
      "text/html": [
       "<div>\n",
       "<style scoped>\n",
       "    .dataframe tbody tr th:only-of-type {\n",
       "        vertical-align: middle;\n",
       "    }\n",
       "\n",
       "    .dataframe tbody tr th {\n",
       "        vertical-align: top;\n",
       "    }\n",
       "\n",
       "    .dataframe thead th {\n",
       "        text-align: right;\n",
       "    }\n",
       "</style>\n",
       "<table border=\"1\" class=\"dataframe\">\n",
       "  <thead>\n",
       "    <tr style=\"text-align: right;\">\n",
       "      <th></th>\n",
       "      <th>State</th>\n",
       "      <th>Acc_len</th>\n",
       "      <th>Area_code</th>\n",
       "      <th>Phone</th>\n",
       "      <th>Int_plan</th>\n",
       "      <th>Vmail_plan</th>\n",
       "      <th>Vmail_message</th>\n",
       "      <th>Day_min</th>\n",
       "      <th>Day_calls</th>\n",
       "      <th>Day_charge</th>\n",
       "      <th>...</th>\n",
       "      <th>Eve_calls</th>\n",
       "      <th>Eve_charge</th>\n",
       "      <th>Night_mins</th>\n",
       "      <th>Night_calls</th>\n",
       "      <th>Night_charge</th>\n",
       "      <th>Int_mins</th>\n",
       "      <th>Int_calls</th>\n",
       "      <th>Int_charge</th>\n",
       "      <th>Custserv_calls</th>\n",
       "      <th>Churn</th>\n",
       "    </tr>\n",
       "  </thead>\n",
       "  <tbody>\n",
       "    <tr>\n",
       "      <th>0</th>\n",
       "      <td>KS</td>\n",
       "      <td>128</td>\n",
       "      <td>415</td>\n",
       "      <td>382-4657</td>\n",
       "      <td>no</td>\n",
       "      <td>yes</td>\n",
       "      <td>25</td>\n",
       "      <td>265.1</td>\n",
       "      <td>110</td>\n",
       "      <td>45.07</td>\n",
       "      <td>...</td>\n",
       "      <td>99</td>\n",
       "      <td>16.78</td>\n",
       "      <td>244.7</td>\n",
       "      <td>91</td>\n",
       "      <td>11.01</td>\n",
       "      <td>10.0</td>\n",
       "      <td>3</td>\n",
       "      <td>2.70</td>\n",
       "      <td>1</td>\n",
       "      <td>False.</td>\n",
       "    </tr>\n",
       "    <tr>\n",
       "      <th>1</th>\n",
       "      <td>OH</td>\n",
       "      <td>107</td>\n",
       "      <td>415</td>\n",
       "      <td>371-7191</td>\n",
       "      <td>no</td>\n",
       "      <td>yes</td>\n",
       "      <td>26</td>\n",
       "      <td>161.6</td>\n",
       "      <td>123</td>\n",
       "      <td>27.47</td>\n",
       "      <td>...</td>\n",
       "      <td>103</td>\n",
       "      <td>16.62</td>\n",
       "      <td>254.4</td>\n",
       "      <td>103</td>\n",
       "      <td>11.45</td>\n",
       "      <td>13.7</td>\n",
       "      <td>3</td>\n",
       "      <td>3.70</td>\n",
       "      <td>1</td>\n",
       "      <td>False.</td>\n",
       "    </tr>\n",
       "    <tr>\n",
       "      <th>2</th>\n",
       "      <td>NJ</td>\n",
       "      <td>137</td>\n",
       "      <td>415</td>\n",
       "      <td>358-1921</td>\n",
       "      <td>no</td>\n",
       "      <td>no</td>\n",
       "      <td>0</td>\n",
       "      <td>243.4</td>\n",
       "      <td>114</td>\n",
       "      <td>41.38</td>\n",
       "      <td>...</td>\n",
       "      <td>110</td>\n",
       "      <td>10.30</td>\n",
       "      <td>162.6</td>\n",
       "      <td>104</td>\n",
       "      <td>7.32</td>\n",
       "      <td>12.2</td>\n",
       "      <td>5</td>\n",
       "      <td>3.29</td>\n",
       "      <td>0</td>\n",
       "      <td>False.</td>\n",
       "    </tr>\n",
       "    <tr>\n",
       "      <th>3</th>\n",
       "      <td>OH</td>\n",
       "      <td>84</td>\n",
       "      <td>408</td>\n",
       "      <td>375-9999</td>\n",
       "      <td>yes</td>\n",
       "      <td>no</td>\n",
       "      <td>0</td>\n",
       "      <td>299.4</td>\n",
       "      <td>71</td>\n",
       "      <td>50.90</td>\n",
       "      <td>...</td>\n",
       "      <td>88</td>\n",
       "      <td>5.26</td>\n",
       "      <td>196.9</td>\n",
       "      <td>89</td>\n",
       "      <td>8.86</td>\n",
       "      <td>6.6</td>\n",
       "      <td>7</td>\n",
       "      <td>1.78</td>\n",
       "      <td>2</td>\n",
       "      <td>False.</td>\n",
       "    </tr>\n",
       "    <tr>\n",
       "      <th>4</th>\n",
       "      <td>OK</td>\n",
       "      <td>75</td>\n",
       "      <td>415</td>\n",
       "      <td>330-6626</td>\n",
       "      <td>yes</td>\n",
       "      <td>no</td>\n",
       "      <td>0</td>\n",
       "      <td>166.7</td>\n",
       "      <td>113</td>\n",
       "      <td>28.34</td>\n",
       "      <td>...</td>\n",
       "      <td>122</td>\n",
       "      <td>12.61</td>\n",
       "      <td>186.9</td>\n",
       "      <td>121</td>\n",
       "      <td>8.41</td>\n",
       "      <td>10.1</td>\n",
       "      <td>3</td>\n",
       "      <td>2.73</td>\n",
       "      <td>3</td>\n",
       "      <td>False.</td>\n",
       "    </tr>\n",
       "  </tbody>\n",
       "</table>\n",
       "<p>5 rows × 21 columns</p>\n",
       "</div>"
      ],
      "text/plain": [
       "  State  Acc_len  Area_code      Phone Int_plan Vmail_plan  Vmail_message  \\\n",
       "0    KS      128        415   382-4657       no        yes             25   \n",
       "1    OH      107        415   371-7191       no        yes             26   \n",
       "2    NJ      137        415   358-1921       no         no              0   \n",
       "3    OH       84        408   375-9999      yes         no              0   \n",
       "4    OK       75        415   330-6626      yes         no              0   \n",
       "\n",
       "   Day_min  Day_calls  Day_charge  ...  Eve_calls  Eve_charge  Night_mins  \\\n",
       "0    265.1        110       45.07  ...         99       16.78       244.7   \n",
       "1    161.6        123       27.47  ...        103       16.62       254.4   \n",
       "2    243.4        114       41.38  ...        110       10.30       162.6   \n",
       "3    299.4         71       50.90  ...         88        5.26       196.9   \n",
       "4    166.7        113       28.34  ...        122       12.61       186.9   \n",
       "\n",
       "   Night_calls  Night_charge  Int_mins  Int_calls  Int_charge  Custserv_calls  \\\n",
       "0           91         11.01      10.0          3        2.70               1   \n",
       "1          103         11.45      13.7          3        3.70               1   \n",
       "2          104          7.32      12.2          5        3.29               0   \n",
       "3           89          8.86       6.6          7        1.78               2   \n",
       "4          121          8.41      10.1          3        2.73               3   \n",
       "\n",
       "     Churn  \n",
       "0   False.  \n",
       "1   False.  \n",
       "2   False.  \n",
       "3   False.  \n",
       "4   False.  \n",
       "\n",
       "[5 rows x 21 columns]"
      ]
     },
     "execution_count": 18,
     "metadata": {},
     "output_type": "execute_result"
    }
   ],
   "source": [
    "df.head()"
   ]
  },
  {
   "cell_type": "code",
   "execution_count": 19,
   "id": "11567d46",
   "metadata": {},
   "outputs": [
    {
     "name": "stdout",
     "output_type": "stream",
     "text": [
      "(4617, 20)\n"
     ]
    }
   ],
   "source": [
    "#dropping phone field -not required since it is unique\n",
    "df.drop(columns='Phone',inplace=True)\n",
    "print(df.shape)"
   ]
  },
  {
   "cell_type": "code",
   "execution_count": 20,
   "id": "dc2d1bd0",
   "metadata": {},
   "outputs": [],
   "source": [
    "df_bfre_enc= df.to_csv('df_bfre_enc.csv',index=False)"
   ]
  },
  {
   "cell_type": "code",
   "execution_count": 21,
   "id": "cb9ae546",
   "metadata": {},
   "outputs": [
    {
     "data": {
      "text/html": [
       "<div>\n",
       "<style scoped>\n",
       "    .dataframe tbody tr th:only-of-type {\n",
       "        vertical-align: middle;\n",
       "    }\n",
       "\n",
       "    .dataframe tbody tr th {\n",
       "        vertical-align: top;\n",
       "    }\n",
       "\n",
       "    .dataframe thead th {\n",
       "        text-align: right;\n",
       "    }\n",
       "</style>\n",
       "<table border=\"1\" class=\"dataframe\">\n",
       "  <thead>\n",
       "    <tr style=\"text-align: right;\">\n",
       "      <th></th>\n",
       "      <th>State</th>\n",
       "      <th>Acc_len</th>\n",
       "      <th>Area_code</th>\n",
       "      <th>Int_plan</th>\n",
       "      <th>Vmail_plan</th>\n",
       "      <th>Vmail_message</th>\n",
       "      <th>Day_min</th>\n",
       "      <th>Day_calls</th>\n",
       "      <th>Day_charge</th>\n",
       "      <th>Eve_mins</th>\n",
       "      <th>Eve_calls</th>\n",
       "      <th>Eve_charge</th>\n",
       "      <th>Night_mins</th>\n",
       "      <th>Night_calls</th>\n",
       "      <th>Night_charge</th>\n",
       "      <th>Int_mins</th>\n",
       "      <th>Int_calls</th>\n",
       "      <th>Int_charge</th>\n",
       "      <th>Custserv_calls</th>\n",
       "      <th>Churn</th>\n",
       "    </tr>\n",
       "  </thead>\n",
       "  <tbody>\n",
       "    <tr>\n",
       "      <th>0</th>\n",
       "      <td>KS</td>\n",
       "      <td>128</td>\n",
       "      <td>415</td>\n",
       "      <td>no</td>\n",
       "      <td>yes</td>\n",
       "      <td>25</td>\n",
       "      <td>265.1</td>\n",
       "      <td>110</td>\n",
       "      <td>45.07</td>\n",
       "      <td>197.4</td>\n",
       "      <td>99</td>\n",
       "      <td>16.78</td>\n",
       "      <td>244.7</td>\n",
       "      <td>91</td>\n",
       "      <td>11.01</td>\n",
       "      <td>10.0</td>\n",
       "      <td>3</td>\n",
       "      <td>2.70</td>\n",
       "      <td>1</td>\n",
       "      <td>False.</td>\n",
       "    </tr>\n",
       "    <tr>\n",
       "      <th>1</th>\n",
       "      <td>OH</td>\n",
       "      <td>107</td>\n",
       "      <td>415</td>\n",
       "      <td>no</td>\n",
       "      <td>yes</td>\n",
       "      <td>26</td>\n",
       "      <td>161.6</td>\n",
       "      <td>123</td>\n",
       "      <td>27.47</td>\n",
       "      <td>195.5</td>\n",
       "      <td>103</td>\n",
       "      <td>16.62</td>\n",
       "      <td>254.4</td>\n",
       "      <td>103</td>\n",
       "      <td>11.45</td>\n",
       "      <td>13.7</td>\n",
       "      <td>3</td>\n",
       "      <td>3.70</td>\n",
       "      <td>1</td>\n",
       "      <td>False.</td>\n",
       "    </tr>\n",
       "    <tr>\n",
       "      <th>2</th>\n",
       "      <td>NJ</td>\n",
       "      <td>137</td>\n",
       "      <td>415</td>\n",
       "      <td>no</td>\n",
       "      <td>no</td>\n",
       "      <td>0</td>\n",
       "      <td>243.4</td>\n",
       "      <td>114</td>\n",
       "      <td>41.38</td>\n",
       "      <td>121.2</td>\n",
       "      <td>110</td>\n",
       "      <td>10.30</td>\n",
       "      <td>162.6</td>\n",
       "      <td>104</td>\n",
       "      <td>7.32</td>\n",
       "      <td>12.2</td>\n",
       "      <td>5</td>\n",
       "      <td>3.29</td>\n",
       "      <td>0</td>\n",
       "      <td>False.</td>\n",
       "    </tr>\n",
       "    <tr>\n",
       "      <th>3</th>\n",
       "      <td>OH</td>\n",
       "      <td>84</td>\n",
       "      <td>408</td>\n",
       "      <td>yes</td>\n",
       "      <td>no</td>\n",
       "      <td>0</td>\n",
       "      <td>299.4</td>\n",
       "      <td>71</td>\n",
       "      <td>50.90</td>\n",
       "      <td>61.9</td>\n",
       "      <td>88</td>\n",
       "      <td>5.26</td>\n",
       "      <td>196.9</td>\n",
       "      <td>89</td>\n",
       "      <td>8.86</td>\n",
       "      <td>6.6</td>\n",
       "      <td>7</td>\n",
       "      <td>1.78</td>\n",
       "      <td>2</td>\n",
       "      <td>False.</td>\n",
       "    </tr>\n",
       "    <tr>\n",
       "      <th>4</th>\n",
       "      <td>OK</td>\n",
       "      <td>75</td>\n",
       "      <td>415</td>\n",
       "      <td>yes</td>\n",
       "      <td>no</td>\n",
       "      <td>0</td>\n",
       "      <td>166.7</td>\n",
       "      <td>113</td>\n",
       "      <td>28.34</td>\n",
       "      <td>148.3</td>\n",
       "      <td>122</td>\n",
       "      <td>12.61</td>\n",
       "      <td>186.9</td>\n",
       "      <td>121</td>\n",
       "      <td>8.41</td>\n",
       "      <td>10.1</td>\n",
       "      <td>3</td>\n",
       "      <td>2.73</td>\n",
       "      <td>3</td>\n",
       "      <td>False.</td>\n",
       "    </tr>\n",
       "  </tbody>\n",
       "</table>\n",
       "</div>"
      ],
      "text/plain": [
       "  State  Acc_len  Area_code Int_plan Vmail_plan  Vmail_message  Day_min  \\\n",
       "0    KS      128        415       no        yes             25    265.1   \n",
       "1    OH      107        415       no        yes             26    161.6   \n",
       "2    NJ      137        415       no         no              0    243.4   \n",
       "3    OH       84        408      yes         no              0    299.4   \n",
       "4    OK       75        415      yes         no              0    166.7   \n",
       "\n",
       "   Day_calls  Day_charge  Eve_mins  Eve_calls  Eve_charge  Night_mins  \\\n",
       "0        110       45.07     197.4         99       16.78       244.7   \n",
       "1        123       27.47     195.5        103       16.62       254.4   \n",
       "2        114       41.38     121.2        110       10.30       162.6   \n",
       "3         71       50.90      61.9         88        5.26       196.9   \n",
       "4        113       28.34     148.3        122       12.61       186.9   \n",
       "\n",
       "   Night_calls  Night_charge  Int_mins  Int_calls  Int_charge  Custserv_calls  \\\n",
       "0           91         11.01      10.0          3        2.70               1   \n",
       "1          103         11.45      13.7          3        3.70               1   \n",
       "2          104          7.32      12.2          5        3.29               0   \n",
       "3           89          8.86       6.6          7        1.78               2   \n",
       "4          121          8.41      10.1          3        2.73               3   \n",
       "\n",
       "     Churn  \n",
       "0   False.  \n",
       "1   False.  \n",
       "2   False.  \n",
       "3   False.  \n",
       "4   False.  "
      ]
     },
     "execution_count": 21,
     "metadata": {},
     "output_type": "execute_result"
    }
   ],
   "source": [
    "df.head()"
   ]
  },
  {
   "cell_type": "code",
   "execution_count": 22,
   "id": "2208c0cc",
   "metadata": {},
   "outputs": [],
   "source": [
    "from sklearn.preprocessing import LabelEncoder\n",
    "\n",
    "list1=['Int_plan','Vmail_plan','Churn']\n",
    "encoder = LabelEncoder()\n",
    "for i in list1:\n",
    "    df[i]=encoder.fit_transform(df[i])"
   ]
  },
  {
   "cell_type": "code",
   "execution_count": 23,
   "id": "73a9b112",
   "metadata": {},
   "outputs": [
    {
     "name": "stdout",
     "output_type": "stream",
     "text": [
      "<class 'pandas.core.frame.DataFrame'>\n",
      "RangeIndex: 4617 entries, 0 to 4616\n",
      "Data columns (total 20 columns):\n",
      " #   Column          Non-Null Count  Dtype  \n",
      "---  ------          --------------  -----  \n",
      " 0   State           4617 non-null   object \n",
      " 1   Acc_len         4617 non-null   int64  \n",
      " 2   Area_code       4617 non-null   int64  \n",
      " 3   Int_plan        4617 non-null   int32  \n",
      " 4   Vmail_plan      4617 non-null   int32  \n",
      " 5   Vmail_message   4617 non-null   int64  \n",
      " 6   Day_min         4617 non-null   float64\n",
      " 7   Day_calls       4617 non-null   int64  \n",
      " 8   Day_charge      4617 non-null   float64\n",
      " 9   Eve_mins        4617 non-null   float64\n",
      " 10  Eve_calls       4617 non-null   int64  \n",
      " 11  Eve_charge      4617 non-null   float64\n",
      " 12  Night_mins      4617 non-null   float64\n",
      " 13  Night_calls     4617 non-null   int64  \n",
      " 14  Night_charge    4617 non-null   float64\n",
      " 15  Int_mins        4617 non-null   float64\n",
      " 16  Int_calls       4617 non-null   int64  \n",
      " 17  Int_charge      4617 non-null   float64\n",
      " 18  Custserv_calls  4617 non-null   int64  \n",
      " 19  Churn           4617 non-null   int32  \n",
      "dtypes: float64(8), int32(3), int64(8), object(1)\n",
      "memory usage: 667.4+ KB\n"
     ]
    }
   ],
   "source": [
    "df.info()"
   ]
  },
  {
   "cell_type": "code",
   "execution_count": 24,
   "id": "bb75f9f3",
   "metadata": {},
   "outputs": [],
   "source": [
    "df.head()\n",
    "df_after_enc=df.to_csv('df_after_enc.csv',index=False)"
   ]
  },
  {
   "cell_type": "code",
   "execution_count": 25,
   "id": "7473f57c",
   "metadata": {},
   "outputs": [
    {
     "data": {
      "text/plain": [
       "WV    149\n",
       "AL    114\n",
       "MN    112\n",
       "OH    110\n",
       "ID    110\n",
       "VA    109\n",
       "NY    109\n",
       "OR    107\n",
       "NJ    106\n",
       "WY    106\n",
       "TX    105\n",
       "UT    104\n",
       "WI     99\n",
       "MI     98\n",
       "MA     97\n",
       "KS     96\n",
       "VT     95\n",
       "ME     95\n",
       "CT     92\n",
       "MD     92\n",
       "MT     92\n",
       "MS     91\n",
       "NH     91\n",
       "CO     91\n",
       "KY     90\n",
       "RI     90\n",
       "NV     89\n",
       "IN     89\n",
       "DE     89\n",
       "WA     89\n",
       "FL     85\n",
       "NM     84\n",
       "MO     84\n",
       "SC     83\n",
       "NC     83\n",
       "TN     83\n",
       "DC     82\n",
       "AZ     81\n",
       "ND     80\n",
       "OK     80\n",
       "HI     79\n",
       "NE     79\n",
       "IL     79\n",
       "AR     77\n",
       "GA     77\n",
       "SD     76\n",
       "LA     73\n",
       "AK     69\n",
       "PA     68\n",
       "IA     65\n",
       "CA     44\n",
       "Name: State, dtype: int64"
      ]
     },
     "execution_count": 25,
     "metadata": {},
     "output_type": "execute_result"
    }
   ],
   "source": [
    "df.State.value_counts()"
   ]
  },
  {
   "cell_type": "code",
   "execution_count": 26,
   "id": "93f3b556",
   "metadata": {},
   "outputs": [],
   "source": [
    "from sklearn.preprocessing import LabelEncoder\n",
    "label_encoder=LabelEncoder()\n",
    "df.Int_plan=label_encoder.fit_transform(df.Int_plan)\n",
    "df.Vmail_plan=label_encoder.fit_transform(df.Vmail_plan)\n",
    "df.Churn=label_encoder.fit_transform(df.Churn)\n",
    "df.State=label_encoder.fit_transform(df.State)"
   ]
  },
  {
   "cell_type": "code",
   "execution_count": 27,
   "id": "6dd12bae",
   "metadata": {},
   "outputs": [
    {
     "data": {
      "text/html": [
       "<div>\n",
       "<style scoped>\n",
       "    .dataframe tbody tr th:only-of-type {\n",
       "        vertical-align: middle;\n",
       "    }\n",
       "\n",
       "    .dataframe tbody tr th {\n",
       "        vertical-align: top;\n",
       "    }\n",
       "\n",
       "    .dataframe thead th {\n",
       "        text-align: right;\n",
       "    }\n",
       "</style>\n",
       "<table border=\"1\" class=\"dataframe\">\n",
       "  <thead>\n",
       "    <tr style=\"text-align: right;\">\n",
       "      <th></th>\n",
       "      <th>State</th>\n",
       "      <th>Acc_len</th>\n",
       "      <th>Area_code</th>\n",
       "      <th>Int_plan</th>\n",
       "      <th>Vmail_plan</th>\n",
       "      <th>Vmail_message</th>\n",
       "      <th>Day_min</th>\n",
       "      <th>Day_calls</th>\n",
       "      <th>Day_charge</th>\n",
       "      <th>Eve_mins</th>\n",
       "      <th>Eve_calls</th>\n",
       "      <th>Eve_charge</th>\n",
       "      <th>Night_mins</th>\n",
       "      <th>Night_calls</th>\n",
       "      <th>Night_charge</th>\n",
       "      <th>Int_mins</th>\n",
       "      <th>Int_calls</th>\n",
       "      <th>Int_charge</th>\n",
       "      <th>Custserv_calls</th>\n",
       "      <th>Churn</th>\n",
       "    </tr>\n",
       "  </thead>\n",
       "  <tbody>\n",
       "    <tr>\n",
       "      <th>0</th>\n",
       "      <td>16</td>\n",
       "      <td>128</td>\n",
       "      <td>415</td>\n",
       "      <td>0</td>\n",
       "      <td>1</td>\n",
       "      <td>25</td>\n",
       "      <td>265.1</td>\n",
       "      <td>110</td>\n",
       "      <td>45.07</td>\n",
       "      <td>197.4</td>\n",
       "      <td>99</td>\n",
       "      <td>16.78</td>\n",
       "      <td>244.7</td>\n",
       "      <td>91</td>\n",
       "      <td>11.01</td>\n",
       "      <td>10.0</td>\n",
       "      <td>3</td>\n",
       "      <td>2.70</td>\n",
       "      <td>1</td>\n",
       "      <td>0</td>\n",
       "    </tr>\n",
       "    <tr>\n",
       "      <th>1</th>\n",
       "      <td>35</td>\n",
       "      <td>107</td>\n",
       "      <td>415</td>\n",
       "      <td>0</td>\n",
       "      <td>1</td>\n",
       "      <td>26</td>\n",
       "      <td>161.6</td>\n",
       "      <td>123</td>\n",
       "      <td>27.47</td>\n",
       "      <td>195.5</td>\n",
       "      <td>103</td>\n",
       "      <td>16.62</td>\n",
       "      <td>254.4</td>\n",
       "      <td>103</td>\n",
       "      <td>11.45</td>\n",
       "      <td>13.7</td>\n",
       "      <td>3</td>\n",
       "      <td>3.70</td>\n",
       "      <td>1</td>\n",
       "      <td>0</td>\n",
       "    </tr>\n",
       "    <tr>\n",
       "      <th>2</th>\n",
       "      <td>31</td>\n",
       "      <td>137</td>\n",
       "      <td>415</td>\n",
       "      <td>0</td>\n",
       "      <td>0</td>\n",
       "      <td>0</td>\n",
       "      <td>243.4</td>\n",
       "      <td>114</td>\n",
       "      <td>41.38</td>\n",
       "      <td>121.2</td>\n",
       "      <td>110</td>\n",
       "      <td>10.30</td>\n",
       "      <td>162.6</td>\n",
       "      <td>104</td>\n",
       "      <td>7.32</td>\n",
       "      <td>12.2</td>\n",
       "      <td>5</td>\n",
       "      <td>3.29</td>\n",
       "      <td>0</td>\n",
       "      <td>0</td>\n",
       "    </tr>\n",
       "    <tr>\n",
       "      <th>3</th>\n",
       "      <td>35</td>\n",
       "      <td>84</td>\n",
       "      <td>408</td>\n",
       "      <td>1</td>\n",
       "      <td>0</td>\n",
       "      <td>0</td>\n",
       "      <td>299.4</td>\n",
       "      <td>71</td>\n",
       "      <td>50.90</td>\n",
       "      <td>61.9</td>\n",
       "      <td>88</td>\n",
       "      <td>5.26</td>\n",
       "      <td>196.9</td>\n",
       "      <td>89</td>\n",
       "      <td>8.86</td>\n",
       "      <td>6.6</td>\n",
       "      <td>7</td>\n",
       "      <td>1.78</td>\n",
       "      <td>2</td>\n",
       "      <td>0</td>\n",
       "    </tr>\n",
       "    <tr>\n",
       "      <th>4</th>\n",
       "      <td>36</td>\n",
       "      <td>75</td>\n",
       "      <td>415</td>\n",
       "      <td>1</td>\n",
       "      <td>0</td>\n",
       "      <td>0</td>\n",
       "      <td>166.7</td>\n",
       "      <td>113</td>\n",
       "      <td>28.34</td>\n",
       "      <td>148.3</td>\n",
       "      <td>122</td>\n",
       "      <td>12.61</td>\n",
       "      <td>186.9</td>\n",
       "      <td>121</td>\n",
       "      <td>8.41</td>\n",
       "      <td>10.1</td>\n",
       "      <td>3</td>\n",
       "      <td>2.73</td>\n",
       "      <td>3</td>\n",
       "      <td>0</td>\n",
       "    </tr>\n",
       "  </tbody>\n",
       "</table>\n",
       "</div>"
      ],
      "text/plain": [
       "   State  Acc_len  Area_code  Int_plan  Vmail_plan  Vmail_message  Day_min  \\\n",
       "0     16      128        415         0           1             25    265.1   \n",
       "1     35      107        415         0           1             26    161.6   \n",
       "2     31      137        415         0           0              0    243.4   \n",
       "3     35       84        408         1           0              0    299.4   \n",
       "4     36       75        415         1           0              0    166.7   \n",
       "\n",
       "   Day_calls  Day_charge  Eve_mins  Eve_calls  Eve_charge  Night_mins  \\\n",
       "0        110       45.07     197.4         99       16.78       244.7   \n",
       "1        123       27.47     195.5        103       16.62       254.4   \n",
       "2        114       41.38     121.2        110       10.30       162.6   \n",
       "3         71       50.90      61.9         88        5.26       196.9   \n",
       "4        113       28.34     148.3        122       12.61       186.9   \n",
       "\n",
       "   Night_calls  Night_charge  Int_mins  Int_calls  Int_charge  Custserv_calls  \\\n",
       "0           91         11.01      10.0          3        2.70               1   \n",
       "1          103         11.45      13.7          3        3.70               1   \n",
       "2          104          7.32      12.2          5        3.29               0   \n",
       "3           89          8.86       6.6          7        1.78               2   \n",
       "4          121          8.41      10.1          3        2.73               3   \n",
       "\n",
       "   Churn  \n",
       "0      0  \n",
       "1      0  \n",
       "2      0  \n",
       "3      0  \n",
       "4      0  "
      ]
     },
     "execution_count": 27,
     "metadata": {},
     "output_type": "execute_result"
    }
   ],
   "source": [
    "df.head()"
   ]
  },
  {
   "cell_type": "code",
   "execution_count": 28,
   "id": "48ba4530",
   "metadata": {},
   "outputs": [],
   "source": [
    "cleaned = df.to_csv('cleaned_dataset.csv',index=False)"
   ]
  },
  {
   "cell_type": "code",
   "execution_count": 29,
   "id": "bf07a8b8",
   "metadata": {},
   "outputs": [
    {
     "name": "stdout",
     "output_type": "stream",
     "text": [
      "<class 'pandas.core.frame.DataFrame'>\n",
      "RangeIndex: 4617 entries, 0 to 4616\n",
      "Data columns (total 20 columns):\n",
      " #   Column          Non-Null Count  Dtype  \n",
      "---  ------          --------------  -----  \n",
      " 0   State           4617 non-null   int32  \n",
      " 1   Acc_len         4617 non-null   int64  \n",
      " 2   Area_code       4617 non-null   int64  \n",
      " 3   Int_plan        4617 non-null   int64  \n",
      " 4   Vmail_plan      4617 non-null   int64  \n",
      " 5   Vmail_message   4617 non-null   int64  \n",
      " 6   Day_min         4617 non-null   float64\n",
      " 7   Day_calls       4617 non-null   int64  \n",
      " 8   Day_charge      4617 non-null   float64\n",
      " 9   Eve_mins        4617 non-null   float64\n",
      " 10  Eve_calls       4617 non-null   int64  \n",
      " 11  Eve_charge      4617 non-null   float64\n",
      " 12  Night_mins      4617 non-null   float64\n",
      " 13  Night_calls     4617 non-null   int64  \n",
      " 14  Night_charge    4617 non-null   float64\n",
      " 15  Int_mins        4617 non-null   float64\n",
      " 16  Int_calls       4617 non-null   int64  \n",
      " 17  Int_charge      4617 non-null   float64\n",
      " 18  Custserv_calls  4617 non-null   int64  \n",
      " 19  Churn           4617 non-null   int64  \n",
      "dtypes: float64(8), int32(1), int64(11)\n",
      "memory usage: 703.5 KB\n"
     ]
    }
   ],
   "source": [
    "df.info()"
   ]
  },
  {
   "cell_type": "code",
   "execution_count": 30,
   "id": "e2542243",
   "metadata": {},
   "outputs": [],
   "source": [
    "df=pd.read_csv('cleaned_dataset.csv')"
   ]
  },
  {
   "cell_type": "code",
   "execution_count": 31,
   "id": "f96c4063",
   "metadata": {},
   "outputs": [
    {
     "data": {
      "text/html": [
       "<div>\n",
       "<style scoped>\n",
       "    .dataframe tbody tr th:only-of-type {\n",
       "        vertical-align: middle;\n",
       "    }\n",
       "\n",
       "    .dataframe tbody tr th {\n",
       "        vertical-align: top;\n",
       "    }\n",
       "\n",
       "    .dataframe thead th {\n",
       "        text-align: right;\n",
       "    }\n",
       "</style>\n",
       "<table border=\"1\" class=\"dataframe\">\n",
       "  <thead>\n",
       "    <tr style=\"text-align: right;\">\n",
       "      <th></th>\n",
       "      <th>State</th>\n",
       "      <th>Acc_len</th>\n",
       "      <th>Area_code</th>\n",
       "      <th>Int_plan</th>\n",
       "      <th>Vmail_plan</th>\n",
       "      <th>Vmail_message</th>\n",
       "      <th>Day_min</th>\n",
       "      <th>Day_calls</th>\n",
       "      <th>Day_charge</th>\n",
       "      <th>Eve_mins</th>\n",
       "      <th>Eve_calls</th>\n",
       "      <th>Eve_charge</th>\n",
       "      <th>Night_mins</th>\n",
       "      <th>Night_calls</th>\n",
       "      <th>Night_charge</th>\n",
       "      <th>Int_mins</th>\n",
       "      <th>Int_calls</th>\n",
       "      <th>Int_charge</th>\n",
       "      <th>Custserv_calls</th>\n",
       "      <th>Churn</th>\n",
       "    </tr>\n",
       "  </thead>\n",
       "  <tbody>\n",
       "    <tr>\n",
       "      <th>0</th>\n",
       "      <td>16</td>\n",
       "      <td>128</td>\n",
       "      <td>415</td>\n",
       "      <td>0</td>\n",
       "      <td>1</td>\n",
       "      <td>25</td>\n",
       "      <td>265.1</td>\n",
       "      <td>110</td>\n",
       "      <td>45.07</td>\n",
       "      <td>197.4</td>\n",
       "      <td>99</td>\n",
       "      <td>16.78</td>\n",
       "      <td>244.7</td>\n",
       "      <td>91</td>\n",
       "      <td>11.01</td>\n",
       "      <td>10.0</td>\n",
       "      <td>3</td>\n",
       "      <td>2.70</td>\n",
       "      <td>1</td>\n",
       "      <td>0</td>\n",
       "    </tr>\n",
       "    <tr>\n",
       "      <th>1</th>\n",
       "      <td>35</td>\n",
       "      <td>107</td>\n",
       "      <td>415</td>\n",
       "      <td>0</td>\n",
       "      <td>1</td>\n",
       "      <td>26</td>\n",
       "      <td>161.6</td>\n",
       "      <td>123</td>\n",
       "      <td>27.47</td>\n",
       "      <td>195.5</td>\n",
       "      <td>103</td>\n",
       "      <td>16.62</td>\n",
       "      <td>254.4</td>\n",
       "      <td>103</td>\n",
       "      <td>11.45</td>\n",
       "      <td>13.7</td>\n",
       "      <td>3</td>\n",
       "      <td>3.70</td>\n",
       "      <td>1</td>\n",
       "      <td>0</td>\n",
       "    </tr>\n",
       "    <tr>\n",
       "      <th>2</th>\n",
       "      <td>31</td>\n",
       "      <td>137</td>\n",
       "      <td>415</td>\n",
       "      <td>0</td>\n",
       "      <td>0</td>\n",
       "      <td>0</td>\n",
       "      <td>243.4</td>\n",
       "      <td>114</td>\n",
       "      <td>41.38</td>\n",
       "      <td>121.2</td>\n",
       "      <td>110</td>\n",
       "      <td>10.30</td>\n",
       "      <td>162.6</td>\n",
       "      <td>104</td>\n",
       "      <td>7.32</td>\n",
       "      <td>12.2</td>\n",
       "      <td>5</td>\n",
       "      <td>3.29</td>\n",
       "      <td>0</td>\n",
       "      <td>0</td>\n",
       "    </tr>\n",
       "    <tr>\n",
       "      <th>3</th>\n",
       "      <td>35</td>\n",
       "      <td>84</td>\n",
       "      <td>408</td>\n",
       "      <td>1</td>\n",
       "      <td>0</td>\n",
       "      <td>0</td>\n",
       "      <td>299.4</td>\n",
       "      <td>71</td>\n",
       "      <td>50.90</td>\n",
       "      <td>61.9</td>\n",
       "      <td>88</td>\n",
       "      <td>5.26</td>\n",
       "      <td>196.9</td>\n",
       "      <td>89</td>\n",
       "      <td>8.86</td>\n",
       "      <td>6.6</td>\n",
       "      <td>7</td>\n",
       "      <td>1.78</td>\n",
       "      <td>2</td>\n",
       "      <td>0</td>\n",
       "    </tr>\n",
       "    <tr>\n",
       "      <th>4</th>\n",
       "      <td>36</td>\n",
       "      <td>75</td>\n",
       "      <td>415</td>\n",
       "      <td>1</td>\n",
       "      <td>0</td>\n",
       "      <td>0</td>\n",
       "      <td>166.7</td>\n",
       "      <td>113</td>\n",
       "      <td>28.34</td>\n",
       "      <td>148.3</td>\n",
       "      <td>122</td>\n",
       "      <td>12.61</td>\n",
       "      <td>186.9</td>\n",
       "      <td>121</td>\n",
       "      <td>8.41</td>\n",
       "      <td>10.1</td>\n",
       "      <td>3</td>\n",
       "      <td>2.73</td>\n",
       "      <td>3</td>\n",
       "      <td>0</td>\n",
       "    </tr>\n",
       "  </tbody>\n",
       "</table>\n",
       "</div>"
      ],
      "text/plain": [
       "   State  Acc_len  Area_code  Int_plan  Vmail_plan  Vmail_message  Day_min  \\\n",
       "0     16      128        415         0           1             25    265.1   \n",
       "1     35      107        415         0           1             26    161.6   \n",
       "2     31      137        415         0           0              0    243.4   \n",
       "3     35       84        408         1           0              0    299.4   \n",
       "4     36       75        415         1           0              0    166.7   \n",
       "\n",
       "   Day_calls  Day_charge  Eve_mins  Eve_calls  Eve_charge  Night_mins  \\\n",
       "0        110       45.07     197.4         99       16.78       244.7   \n",
       "1        123       27.47     195.5        103       16.62       254.4   \n",
       "2        114       41.38     121.2        110       10.30       162.6   \n",
       "3         71       50.90      61.9         88        5.26       196.9   \n",
       "4        113       28.34     148.3        122       12.61       186.9   \n",
       "\n",
       "   Night_calls  Night_charge  Int_mins  Int_calls  Int_charge  Custserv_calls  \\\n",
       "0           91         11.01      10.0          3        2.70               1   \n",
       "1          103         11.45      13.7          3        3.70               1   \n",
       "2          104          7.32      12.2          5        3.29               0   \n",
       "3           89          8.86       6.6          7        1.78               2   \n",
       "4          121          8.41      10.1          3        2.73               3   \n",
       "\n",
       "   Churn  \n",
       "0      0  \n",
       "1      0  \n",
       "2      0  \n",
       "3      0  \n",
       "4      0  "
      ]
     },
     "execution_count": 31,
     "metadata": {},
     "output_type": "execute_result"
    }
   ],
   "source": [
    "df.head()"
   ]
  },
  {
   "cell_type": "markdown",
   "id": "05e22bf1",
   "metadata": {},
   "source": [
    "#### Do churners call customer service more?"
   ]
  },
  {
   "cell_type": "code",
   "execution_count": 32,
   "id": "909f3eef",
   "metadata": {},
   "outputs": [
    {
     "data": {
      "text/html": [
       "<div>\n",
       "<style scoped>\n",
       "    .dataframe tbody tr th:only-of-type {\n",
       "        vertical-align: middle;\n",
       "    }\n",
       "\n",
       "    .dataframe tbody tr th {\n",
       "        vertical-align: top;\n",
       "    }\n",
       "\n",
       "    .dataframe thead th {\n",
       "        text-align: right;\n",
       "    }\n",
       "</style>\n",
       "<table border=\"1\" class=\"dataframe\">\n",
       "  <thead>\n",
       "    <tr style=\"text-align: right;\">\n",
       "      <th></th>\n",
       "      <th>Custserv_calls</th>\n",
       "      <th>Vmail_message</th>\n",
       "      <th>Int_plan</th>\n",
       "      <th>Churn</th>\n",
       "    </tr>\n",
       "  </thead>\n",
       "  <tbody>\n",
       "    <tr>\n",
       "      <th>0</th>\n",
       "      <td>1</td>\n",
       "      <td>25</td>\n",
       "      <td>0</td>\n",
       "      <td>0</td>\n",
       "    </tr>\n",
       "    <tr>\n",
       "      <th>1</th>\n",
       "      <td>1</td>\n",
       "      <td>26</td>\n",
       "      <td>0</td>\n",
       "      <td>0</td>\n",
       "    </tr>\n",
       "    <tr>\n",
       "      <th>2</th>\n",
       "      <td>0</td>\n",
       "      <td>0</td>\n",
       "      <td>0</td>\n",
       "      <td>0</td>\n",
       "    </tr>\n",
       "    <tr>\n",
       "      <th>3</th>\n",
       "      <td>2</td>\n",
       "      <td>0</td>\n",
       "      <td>1</td>\n",
       "      <td>0</td>\n",
       "    </tr>\n",
       "    <tr>\n",
       "      <th>4</th>\n",
       "      <td>3</td>\n",
       "      <td>0</td>\n",
       "      <td>1</td>\n",
       "      <td>0</td>\n",
       "    </tr>\n",
       "  </tbody>\n",
       "</table>\n",
       "</div>"
      ],
      "text/plain": [
       "   Custserv_calls  Vmail_message  Int_plan  Churn\n",
       "0               1             25         0      0\n",
       "1               1             26         0      0\n",
       "2               0              0         0      0\n",
       "3               2              0         1      0\n",
       "4               3              0         1      0"
      ]
     },
     "execution_count": 32,
     "metadata": {},
     "output_type": "execute_result"
    }
   ],
   "source": [
    "#taking a part of the dataframe and analysing\n",
    "ff=df.loc[:,['Custserv_calls','Vmail_message','Int_plan','Churn']]\n",
    "#using groupby()\n",
    "#df.groupby(['Churn']).mean()\n",
    "ff.head()"
   ]
  },
  {
   "cell_type": "code",
   "execution_count": 33,
   "id": "576bcfd9",
   "metadata": {},
   "outputs": [
    {
     "data": {
      "text/html": [
       "<div>\n",
       "<style scoped>\n",
       "    .dataframe tbody tr th:only-of-type {\n",
       "        vertical-align: middle;\n",
       "    }\n",
       "\n",
       "    .dataframe tbody tr th {\n",
       "        vertical-align: top;\n",
       "    }\n",
       "\n",
       "    .dataframe thead th {\n",
       "        text-align: right;\n",
       "    }\n",
       "</style>\n",
       "<table border=\"1\" class=\"dataframe\">\n",
       "  <thead>\n",
       "    <tr style=\"text-align: right;\">\n",
       "      <th></th>\n",
       "      <th>Custserv_calls</th>\n",
       "      <th>Vmail_message</th>\n",
       "      <th>Int_plan</th>\n",
       "    </tr>\n",
       "    <tr>\n",
       "      <th>Churn</th>\n",
       "      <th></th>\n",
       "      <th></th>\n",
       "      <th></th>\n",
       "    </tr>\n",
       "  </thead>\n",
       "  <tbody>\n",
       "    <tr>\n",
       "      <th>0</th>\n",
       "      <td>1.163901</td>\n",
       "      <td>13.848080</td>\n",
       "      <td>0.247683</td>\n",
       "    </tr>\n",
       "    <tr>\n",
       "      <th>1</th>\n",
       "      <td>1.822432</td>\n",
       "      <td>11.418575</td>\n",
       "      <td>0.451058</td>\n",
       "    </tr>\n",
       "  </tbody>\n",
       "</table>\n",
       "</div>"
      ],
      "text/plain": [
       "       Custserv_calls  Vmail_message  Int_plan\n",
       "Churn                                         \n",
       "0            1.163901      13.848080  0.247683\n",
       "1            1.822432      11.418575  0.451058"
      ]
     },
     "execution_count": 33,
     "metadata": {},
     "output_type": "execute_result"
    }
   ],
   "source": [
    "ff.groupby(['Churn']).std()"
   ]
  },
  {
   "cell_type": "code",
   "execution_count": 34,
   "id": "618c8dc1",
   "metadata": {},
   "outputs": [
    {
     "data": {
      "text/html": [
       "<div>\n",
       "<style scoped>\n",
       "    .dataframe tbody tr th:only-of-type {\n",
       "        vertical-align: middle;\n",
       "    }\n",
       "\n",
       "    .dataframe tbody tr th {\n",
       "        vertical-align: top;\n",
       "    }\n",
       "\n",
       "    .dataframe thead th {\n",
       "        text-align: right;\n",
       "    }\n",
       "</style>\n",
       "<table border=\"1\" class=\"dataframe\">\n",
       "  <thead>\n",
       "    <tr style=\"text-align: right;\">\n",
       "      <th></th>\n",
       "      <th>Custserv_calls</th>\n",
       "      <th>Vmail_message</th>\n",
       "      <th>Int_plan</th>\n",
       "    </tr>\n",
       "    <tr>\n",
       "      <th>Churn</th>\n",
       "      <th></th>\n",
       "      <th></th>\n",
       "      <th></th>\n",
       "    </tr>\n",
       "  </thead>\n",
       "  <tbody>\n",
       "    <tr>\n",
       "      <th>0</th>\n",
       "      <td>1.455693</td>\n",
       "      <td>8.385761</td>\n",
       "      <td>0.065640</td>\n",
       "    </tr>\n",
       "    <tr>\n",
       "      <th>1</th>\n",
       "      <td>2.239329</td>\n",
       "      <td>4.614329</td>\n",
       "      <td>0.283537</td>\n",
       "    </tr>\n",
       "  </tbody>\n",
       "</table>\n",
       "</div>"
      ],
      "text/plain": [
       "       Custserv_calls  Vmail_message  Int_plan\n",
       "Churn                                         \n",
       "0            1.455693       8.385761  0.065640\n",
       "1            2.239329       4.614329  0.283537"
      ]
     },
     "execution_count": 34,
     "metadata": {},
     "output_type": "execute_result"
    }
   ],
   "source": [
    "ff.groupby(['Churn']).mean()"
   ]
  },
  {
   "cell_type": "code",
   "execution_count": 35,
   "id": "558810ca",
   "metadata": {},
   "outputs": [
    {
     "data": {
      "text/plain": [
       "Area_code  Churn\n",
       "408        0         996\n",
       "           1         165\n",
       "415        0        1981\n",
       "           1         318\n",
       "510        0         984\n",
       "           1         173\n",
       "Name: Churn, dtype: int64"
      ]
     },
     "execution_count": 35,
     "metadata": {},
     "output_type": "execute_result"
    }
   ],
   "source": [
    "gg=pd.read_csv('df_after_enc.csv')\n",
    "gg.groupby('Area_code')['Churn'].value_counts()"
   ]
  },
  {
   "cell_type": "markdown",
   "id": "8db2c0e1",
   "metadata": {},
   "source": [
    "# EDA with Visualization"
   ]
  },
  {
   "cell_type": "code",
   "execution_count": 36,
   "id": "466fbbca",
   "metadata": {},
   "outputs": [
    {
     "data": {
      "text/html": [
       "<div>\n",
       "<style scoped>\n",
       "    .dataframe tbody tr th:only-of-type {\n",
       "        vertical-align: middle;\n",
       "    }\n",
       "\n",
       "    .dataframe tbody tr th {\n",
       "        vertical-align: top;\n",
       "    }\n",
       "\n",
       "    .dataframe thead th {\n",
       "        text-align: right;\n",
       "    }\n",
       "</style>\n",
       "<table border=\"1\" class=\"dataframe\">\n",
       "  <thead>\n",
       "    <tr style=\"text-align: right;\">\n",
       "      <th></th>\n",
       "      <th>State</th>\n",
       "      <th>Acc_len</th>\n",
       "      <th>Area_code</th>\n",
       "      <th>Int_plan</th>\n",
       "      <th>Vmail_plan</th>\n",
       "      <th>Vmail_message</th>\n",
       "      <th>Day_min</th>\n",
       "      <th>Day_calls</th>\n",
       "      <th>Day_charge</th>\n",
       "      <th>Eve_mins</th>\n",
       "      <th>Eve_calls</th>\n",
       "      <th>Eve_charge</th>\n",
       "      <th>Night_mins</th>\n",
       "      <th>Night_calls</th>\n",
       "      <th>Night_charge</th>\n",
       "      <th>Int_mins</th>\n",
       "      <th>Int_calls</th>\n",
       "      <th>Int_charge</th>\n",
       "      <th>Custserv_calls</th>\n",
       "      <th>Churn</th>\n",
       "    </tr>\n",
       "  </thead>\n",
       "  <tbody>\n",
       "    <tr>\n",
       "      <th>0</th>\n",
       "      <td>16</td>\n",
       "      <td>128</td>\n",
       "      <td>415</td>\n",
       "      <td>0</td>\n",
       "      <td>1</td>\n",
       "      <td>25</td>\n",
       "      <td>265.1</td>\n",
       "      <td>110</td>\n",
       "      <td>45.07</td>\n",
       "      <td>197.4</td>\n",
       "      <td>99</td>\n",
       "      <td>16.78</td>\n",
       "      <td>244.7</td>\n",
       "      <td>91</td>\n",
       "      <td>11.01</td>\n",
       "      <td>10.0</td>\n",
       "      <td>3</td>\n",
       "      <td>2.70</td>\n",
       "      <td>1</td>\n",
       "      <td>0</td>\n",
       "    </tr>\n",
       "    <tr>\n",
       "      <th>1</th>\n",
       "      <td>35</td>\n",
       "      <td>107</td>\n",
       "      <td>415</td>\n",
       "      <td>0</td>\n",
       "      <td>1</td>\n",
       "      <td>26</td>\n",
       "      <td>161.6</td>\n",
       "      <td>123</td>\n",
       "      <td>27.47</td>\n",
       "      <td>195.5</td>\n",
       "      <td>103</td>\n",
       "      <td>16.62</td>\n",
       "      <td>254.4</td>\n",
       "      <td>103</td>\n",
       "      <td>11.45</td>\n",
       "      <td>13.7</td>\n",
       "      <td>3</td>\n",
       "      <td>3.70</td>\n",
       "      <td>1</td>\n",
       "      <td>0</td>\n",
       "    </tr>\n",
       "    <tr>\n",
       "      <th>2</th>\n",
       "      <td>31</td>\n",
       "      <td>137</td>\n",
       "      <td>415</td>\n",
       "      <td>0</td>\n",
       "      <td>0</td>\n",
       "      <td>0</td>\n",
       "      <td>243.4</td>\n",
       "      <td>114</td>\n",
       "      <td>41.38</td>\n",
       "      <td>121.2</td>\n",
       "      <td>110</td>\n",
       "      <td>10.30</td>\n",
       "      <td>162.6</td>\n",
       "      <td>104</td>\n",
       "      <td>7.32</td>\n",
       "      <td>12.2</td>\n",
       "      <td>5</td>\n",
       "      <td>3.29</td>\n",
       "      <td>0</td>\n",
       "      <td>0</td>\n",
       "    </tr>\n",
       "    <tr>\n",
       "      <th>3</th>\n",
       "      <td>35</td>\n",
       "      <td>84</td>\n",
       "      <td>408</td>\n",
       "      <td>1</td>\n",
       "      <td>0</td>\n",
       "      <td>0</td>\n",
       "      <td>299.4</td>\n",
       "      <td>71</td>\n",
       "      <td>50.90</td>\n",
       "      <td>61.9</td>\n",
       "      <td>88</td>\n",
       "      <td>5.26</td>\n",
       "      <td>196.9</td>\n",
       "      <td>89</td>\n",
       "      <td>8.86</td>\n",
       "      <td>6.6</td>\n",
       "      <td>7</td>\n",
       "      <td>1.78</td>\n",
       "      <td>2</td>\n",
       "      <td>0</td>\n",
       "    </tr>\n",
       "    <tr>\n",
       "      <th>4</th>\n",
       "      <td>36</td>\n",
       "      <td>75</td>\n",
       "      <td>415</td>\n",
       "      <td>1</td>\n",
       "      <td>0</td>\n",
       "      <td>0</td>\n",
       "      <td>166.7</td>\n",
       "      <td>113</td>\n",
       "      <td>28.34</td>\n",
       "      <td>148.3</td>\n",
       "      <td>122</td>\n",
       "      <td>12.61</td>\n",
       "      <td>186.9</td>\n",
       "      <td>121</td>\n",
       "      <td>8.41</td>\n",
       "      <td>10.1</td>\n",
       "      <td>3</td>\n",
       "      <td>2.73</td>\n",
       "      <td>3</td>\n",
       "      <td>0</td>\n",
       "    </tr>\n",
       "  </tbody>\n",
       "</table>\n",
       "</div>"
      ],
      "text/plain": [
       "   State  Acc_len  Area_code  Int_plan  Vmail_plan  Vmail_message  Day_min  \\\n",
       "0     16      128        415         0           1             25    265.1   \n",
       "1     35      107        415         0           1             26    161.6   \n",
       "2     31      137        415         0           0              0    243.4   \n",
       "3     35       84        408         1           0              0    299.4   \n",
       "4     36       75        415         1           0              0    166.7   \n",
       "\n",
       "   Day_calls  Day_charge  Eve_mins  Eve_calls  Eve_charge  Night_mins  \\\n",
       "0        110       45.07     197.4         99       16.78       244.7   \n",
       "1        123       27.47     195.5        103       16.62       254.4   \n",
       "2        114       41.38     121.2        110       10.30       162.6   \n",
       "3         71       50.90      61.9         88        5.26       196.9   \n",
       "4        113       28.34     148.3        122       12.61       186.9   \n",
       "\n",
       "   Night_calls  Night_charge  Int_mins  Int_calls  Int_charge  Custserv_calls  \\\n",
       "0           91         11.01      10.0          3        2.70               1   \n",
       "1          103         11.45      13.7          3        3.70               1   \n",
       "2          104          7.32      12.2          5        3.29               0   \n",
       "3           89          8.86       6.6          7        1.78               2   \n",
       "4          121          8.41      10.1          3        2.73               3   \n",
       "\n",
       "   Churn  \n",
       "0      0  \n",
       "1      0  \n",
       "2      0  \n",
       "3      0  \n",
       "4      0  "
      ]
     },
     "execution_count": 36,
     "metadata": {},
     "output_type": "execute_result"
    }
   ],
   "source": [
    "df.head()"
   ]
  },
  {
   "cell_type": "code",
   "execution_count": 37,
   "id": "75fc02c2",
   "metadata": {},
   "outputs": [],
   "source": [
    "from scipy import stats"
   ]
  },
  {
   "cell_type": "code",
   "execution_count": 38,
   "id": "97913e77",
   "metadata": {},
   "outputs": [
    {
     "name": "stdout",
     "output_type": "stream",
     "text": [
      "skewness and Kurtosis for Acc_len: 0.10621316744599318 and -0.0937513108437864\n",
      "skewness and Kurtosis for Area_code: 1.134964594925911 and -0.6865952826512816\n",
      "skewness and Kurtosis for Vmail_message: 1.3263030509972922 and 0.12209308548663644\n",
      "skewness and Kurtosis for Day_min: -0.002947284016695239 and -0.04365222612737929\n",
      "skewness and Kurtosis for Day_calls: -0.08098712687907403 and 0.19463514964618556\n",
      "skewness and Kurtosis for Day_charge: -0.0029508087758798626 and -0.04351742102672107\n",
      "skewness and Kurtosis for Eve_mins: -0.0052781500846280525 and 0.042283656150823745\n",
      "skewness and Kurtosis for Eve_calls: -0.01754836130740179 and 0.13453389767071755\n",
      "skewness and Kurtosis for Eve_charge: -0.005250110884106289 and 0.042175304917122514\n",
      "skewness and Kurtosis for Night_mins: 0.02050841390755843 and 0.06004343141054003\n",
      "skewness and Kurtosis for Night_calls: 0.03087626932619969 and 0.06744148412465867\n",
      "skewness and Kurtosis for Night_charge: 0.020500316821170136 and 0.06001463464630463\n",
      "skewness and Kurtosis for Int_mins: -0.22081880952903746 and 0.6695756138404381\n",
      "skewness and Kurtosis for Int_calls: 1.3659756765088018 and 3.2980521818291813\n",
      "skewness and Kurtosis for Int_charge: -0.22127033177212463 and 0.6704905004546964\n",
      "skewness and Kurtosis for Custserv_calls: 1.0464601992374216 and 1.512086924300303\n"
     ]
    }
   ],
   "source": [
    "list=['Acc_len', 'Area_code','Vmail_message', 'Day_min', 'Day_calls', 'Day_charge', 'Eve_mins',\n",
    "       'Eve_calls', 'Eve_charge', 'Night_mins', 'Night_calls', 'Night_charge',\n",
    "       'Int_mins', 'Int_calls', 'Int_charge', 'Custserv_calls']\n",
    "for i in list:\n",
    "    print('skewness and Kurtosis for '+ str(i)+': '+str(stats.skew(df[i]))+' and '+ str(stats.kurtosis(df[i])))"
   ]
  },
  {
   "cell_type": "code",
   "execution_count": 39,
   "id": "841eb5ef",
   "metadata": {},
   "outputs": [],
   "source": [
    "import seaborn as sns"
   ]
  },
  {
   "cell_type": "code",
   "execution_count": 40,
   "id": "504e2fca",
   "metadata": {},
   "outputs": [
    {
     "name": "stderr",
     "output_type": "stream",
     "text": [
      "C:\\Users\\sajid\\.conda\\envs\\machinelearning\\lib\\site-packages\\seaborn\\distributions.py:2619: FutureWarning: `distplot` is a deprecated function and will be removed in a future version. Please adapt your code to use either `displot` (a figure-level function with similar flexibility) or `histplot` (an axes-level function for histograms).\n",
      "  warnings.warn(msg, FutureWarning)\n"
     ]
    },
    {
     "data": {
      "text/plain": [
       "<AxesSubplot:ylabel='Density'>"
      ]
     },
     "execution_count": 40,
     "metadata": {},
     "output_type": "execute_result"
    },
    {
     "data": {
      "image/png": "[encoded data removed]",
      "text/plain": [
       "<Figure size 432x288 with 1 Axes>"
      ]
     },
     "metadata": {
      "needs_background": "light"
     },
     "output_type": "display_data"
    }
   ],
   "source": [
    "sns.distplot([df.Acc_len])"
   ]
  },
  {
   "cell_type": "code",
   "execution_count": 41,
   "id": "6db2a4d6",
   "metadata": {},
   "outputs": [
    {
     "name": "stderr",
     "output_type": "stream",
     "text": [
      "C:\\Users\\sajid\\.conda\\envs\\machinelearning\\lib\\site-packages\\seaborn\\distributions.py:2619: FutureWarning: `distplot` is a deprecated function and will be removed in a future version. Please adapt your code to use either `displot` (a figure-level function with similar flexibility) or `histplot` (an axes-level function for histograms).\n",
      "  warnings.warn(msg, FutureWarning)\n"
     ]
    },
    {
     "data": {
      "text/plain": [
       "<AxesSubplot:ylabel='Density'>"
      ]
     },
     "execution_count": 41,
     "metadata": {},
     "output_type": "execute_result"
    },
    {
     "data": {
      "image/png": "[encoded data removed]",
      "text/plain": [
       "<Figure size 432x288 with 1 Axes>"
      ]
     },
     "metadata": {
      "needs_background": "light"
     },
     "output_type": "display_data"
    }
   ],
   "source": [
    "sns.distplot([df.Int_calls])"
   ]
  },
  {
   "cell_type": "code",
   "execution_count": 42,
   "id": "8057da3b",
   "metadata": {},
   "outputs": [
    {
     "name": "stdout",
     "output_type": "stream",
     "text": [
      "0.9986501019683699\n"
     ]
    }
   ],
   "source": [
    "import scipy.stats as stats\n",
    "print(stats.norm.cdf(3))"
   ]
  },
  {
   "cell_type": "code",
   "execution_count": 168,
   "id": "5e067b4a",
   "metadata": {},
   "outputs": [
    {
     "data": {
      "text/plain": [
       "<AxesSubplot:xlabel='State', ylabel='Churn'>"
      ]
     },
     "execution_count": 168,
     "metadata": {},
     "output_type": "execute_result"
    },
    {
     "data": {
      "image/png": "[encoded data removed]",
      "text/plain": [
       "<Figure size 1440x432 with 1 Axes>"
      ]
     },
     "metadata": {},
     "output_type": "display_data"
    }
   ],
   "source": [
    "plt.figure(figsize=(20,6))\n",
    "sns.set_style('whitegrid')\n",
    "sns.barplot(x='State',y='Churn',data=df)"
   ]
  },
  {
   "cell_type": "code",
   "execution_count": 171,
   "id": "2541e4cc",
   "metadata": {},
   "outputs": [
    {
     "data": {
      "text/plain": [
       "<AxesSubplot:xlabel='Churn', ylabel='Custserv_calls'>"
      ]
     },
     "execution_count": 171,
     "metadata": {},
     "output_type": "execute_result"
    },
    {
     "data": {
      "image/png": "[encoded data removed]",
      "text/plain": [
       "<Figure size 432x288 with 1 Axes>"
      ]
     },
     "metadata": {},
     "output_type": "display_data"
    }
   ],
   "source": [
    "sns.barplot(x='Churn',y='Custserv_calls', data=df)"
   ]
  },
  {
   "cell_type": "code",
   "execution_count": 191,
   "id": "e3be6394",
   "metadata": {},
   "outputs": [
    {
     "data": {
      "text/plain": [
       "<AxesSubplot:xlabel='Churn', ylabel='Int_calls'>"
      ]
     },
     "execution_count": 191,
     "metadata": {},
     "output_type": "execute_result"
    },
    {
     "data": {
      "image/png": "[encoded data removed]",
      "text/plain": [
       "<Figure size 432x288 with 1 Axes>"
      ]
     },
     "metadata": {},
     "output_type": "display_data"
    }
   ],
   "source": [
    "sns.barplot(x='Churn',y='Int_calls',data=df)"
   ]
  },
  {
   "cell_type": "code",
   "execution_count": 194,
   "id": "00ac0d39",
   "metadata": {},
   "outputs": [
    {
     "data": {
      "text/plain": [
       "<AxesSubplot:xlabel='Churn', ylabel='Int_mins'>"
      ]
     },
     "execution_count": 194,
     "metadata": {},
     "output_type": "execute_result"
    },
    {
     "data": {
      "image/png": "[encoded data removed]",
      "text/plain": [
       "<Figure size 432x288 with 1 Axes>"
      ]
     },
     "metadata": {},
     "output_type": "display_data"
    }
   ],
   "source": [
    "sns.barplot(x='Churn',y='Int_mins',data=df)"
   ]
  },
  {
   "cell_type": "code",
   "execution_count": 207,
   "id": "2550d39c",
   "metadata": {},
   "outputs": [
    {
     "data": {
      "text/plain": [
       "<AxesSubplot:xlabel='Churn', ylabel='Int_charge'>"
      ]
     },
     "execution_count": 207,
     "metadata": {},
     "output_type": "execute_result"
    },
    {
     "data": {
      "image/png": "[encoded data removed]",
      "text/plain": [
       "<Figure size 432x288 with 1 Axes>"
      ]
     },
     "metadata": {},
     "output_type": "display_data"
    }
   ],
   "source": [
    "sns.barplot(x='Churn',y='Int_charge',data=df)"
   ]
  },
  {
   "cell_type": "code",
   "execution_count": 197,
   "id": "2905e0ba",
   "metadata": {},
   "outputs": [
    {
     "data": {
      "text/plain": [
       "<AxesSubplot:xlabel='Churn', ylabel='Day_charge'>"
      ]
     },
     "execution_count": 197,
     "metadata": {},
     "output_type": "execute_result"
    },
    {
     "data": {
      "image/png": "[encoded data removed]",
      "text/plain": [
       "<Figure size 432x288 with 1 Axes>"
      ]
     },
     "metadata": {},
     "output_type": "display_data"
    }
   ],
   "source": [
    "sns.barplot(x='Churn',y='Day_charge',data=df)"
   ]
  },
  {
   "cell_type": "code",
   "execution_count": 198,
   "id": "d9e2c52c",
   "metadata": {},
   "outputs": [
    {
     "data": {
      "text/plain": [
       "<AxesSubplot:xlabel='Churn', ylabel='Day_calls'>"
      ]
     },
     "execution_count": 198,
     "metadata": {},
     "output_type": "execute_result"
    },
    {
     "data": {
      "image/png": "[encoded data removed]",
      "text/plain": [
       "<Figure size 432x288 with 1 Axes>"
      ]
     },
     "metadata": {},
     "output_type": "display_data"
    }
   ],
   "source": [
    "sns.barplot(x='Churn',y='Day_calls',data=df)"
   ]
  },
  {
   "cell_type": "code",
   "execution_count": 199,
   "id": "87ec05a4",
   "metadata": {},
   "outputs": [
    {
     "data": {
      "text/plain": [
       "<AxesSubplot:xlabel='Churn', ylabel='Day_min'>"
      ]
     },
     "execution_count": 199,
     "metadata": {},
     "output_type": "execute_result"
    },
    {
     "data": {
      "image/png": "[encoded data removed]",
      "text/plain": [
       "<Figure size 432x288 with 1 Axes>"
      ]
     },
     "metadata": {},
     "output_type": "display_data"
    }
   ],
   "source": [
    "sns.barplot(x='Churn',y='Day_min',data=df)"
   ]
  },
  {
   "cell_type": "code",
   "execution_count": 200,
   "id": "8e068b8b",
   "metadata": {},
   "outputs": [
    {
     "data": {
      "text/plain": [
       "<AxesSubplot:xlabel='Churn', ylabel='Eve_charge'>"
      ]
     },
     "execution_count": 200,
     "metadata": {},
     "output_type": "execute_result"
    },
    {
     "data": {
      "image/png": "[encoded data removed]",
      "text/plain": [
       "<Figure size 432x288 with 1 Axes>"
      ]
     },
     "metadata": {},
     "output_type": "display_data"
    }
   ],
   "source": [
    "sns.barplot(x='Churn',y='Eve_charge',data=df)"
   ]
  },
  {
   "cell_type": "code",
   "execution_count": 202,
   "id": "00183ad6",
   "metadata": {},
   "outputs": [
    {
     "data": {
      "text/plain": [
       "<AxesSubplot:xlabel='Churn', ylabel='Eve_mins'>"
      ]
     },
     "execution_count": 202,
     "metadata": {},
     "output_type": "execute_result"
    },
    {
     "data": {
      "image/png": "[encoded data removed]",
      "text/plain": [
       "<Figure size 432x288 with 1 Axes>"
      ]
     },
     "metadata": {},
     "output_type": "display_data"
    }
   ],
   "source": [
    "sns.barplot(x='Churn',y='Eve_mins',data=df)"
   ]
  },
  {
   "cell_type": "code",
   "execution_count": 203,
   "id": "31aef653",
   "metadata": {},
   "outputs": [
    {
     "data": {
      "text/plain": [
       "<AxesSubplot:xlabel='Churn', ylabel='Eve_calls'>"
      ]
     },
     "execution_count": 203,
     "metadata": {},
     "output_type": "execute_result"
    },
    {
     "data": {
      "image/png": "[encoded data removed]",
      "text/plain": [
       "<Figure size 432x288 with 1 Axes>"
      ]
     },
     "metadata": {},
     "output_type": "display_data"
    }
   ],
   "source": [
    "sns.barplot(x='Churn',y='Eve_calls',data=df)"
   ]
  },
  {
   "cell_type": "code",
   "execution_count": 204,
   "id": "e78a109b",
   "metadata": {},
   "outputs": [
    {
     "data": {
      "text/plain": [
       "<AxesSubplot:xlabel='Churn', ylabel='Night_charge'>"
      ]
     },
     "execution_count": 204,
     "metadata": {},
     "output_type": "execute_result"
    },
    {
     "data": {
      "image/png": "[encoded data removed]",
      "text/plain": [
       "<Figure size 432x288 with 1 Axes>"
      ]
     },
     "metadata": {},
     "output_type": "display_data"
    }
   ],
   "source": [
    "sns.barplot(x='Churn',y='Night_charge',data=df)"
   ]
  },
  {
   "cell_type": "code",
   "execution_count": 205,
   "id": "4f6007b7",
   "metadata": {},
   "outputs": [
    {
     "data": {
      "text/plain": [
       "<AxesSubplot:xlabel='Churn', ylabel='Night_calls'>"
      ]
     },
     "execution_count": 205,
     "metadata": {},
     "output_type": "execute_result"
    },
    {
     "data": {
      "image/png": "[encoded data removed]",
      "text/plain": [
       "<Figure size 432x288 with 1 Axes>"
      ]
     },
     "metadata": {},
     "output_type": "display_data"
    }
   ],
   "source": [
    "sns.barplot(x='Churn',y='Night_calls',data=df)"
   ]
  },
  {
   "cell_type": "code",
   "execution_count": 206,
   "id": "4f9917d0",
   "metadata": {},
   "outputs": [
    {
     "data": {
      "text/plain": [
       "<AxesSubplot:xlabel='Churn', ylabel='Night_mins'>"
      ]
     },
     "execution_count": 206,
     "metadata": {},
     "output_type": "execute_result"
    },
    {
     "data": {
      "image/png": "[encoded data removed]",
      "text/plain": [
       "<Figure size 432x288 with 1 Axes>"
      ]
     },
     "metadata": {},
     "output_type": "display_data"
    }
   ],
   "source": [
    "sns.barplot(x='Churn',y='Night_mins',data=df)"
   ]
  },
  {
   "cell_type": "code",
   "execution_count": 209,
   "id": "dd18efae",
   "metadata": {},
   "outputs": [
    {
     "data": {
      "image/png": "[encoded data removed]",
      "text/plain": [
       "<Figure size 432x288 with 1 Axes>"
      ]
     },
     "metadata": {},
     "output_type": "display_data"
    }
   ],
   "source": [
    "df.int_plan = df.groupby(['Churn','Int_plan']).size()\n",
    "df.plot()\n",
    "plt.show()"
   ]
  },
  {
   "cell_type": "markdown",
   "id": "fb76757f",
   "metadata": {},
   "source": [
    "### Checking Acc_len for churners and non-churners"
   ]
  },
  {
   "cell_type": "code",
   "execution_count": null,
   "id": "be74936f",
   "metadata": {},
   "outputs": [],
   "source": []
  },
  {
   "cell_type": "code",
   "execution_count": 43,
   "id": "62bcbf34",
   "metadata": {},
   "outputs": [
    {
     "data": {
      "text/plain": [
       "<AxesSubplot:xlabel='Churn', ylabel='Acc_len'>"
      ]
     },
     "execution_count": 43,
     "metadata": {},
     "output_type": "execute_result"
    },
    {
     "data": {
      "image/png": "[encoded data removed]",
      "text/plain": [
       "<Figure size 432x288 with 1 Axes>"
      ]
     },
     "metadata": {
      "needs_background": "light"
     },
     "output_type": "display_data"
    }
   ],
   "source": [
    "#comparing the results there is not much difference\n",
    "sns.boxplot(x='Churn',y='Acc_len',data=df,sym=\"\")"
   ]
  },
  {
   "cell_type": "code",
   "execution_count": 44,
   "id": "9afd0214",
   "metadata": {},
   "outputs": [
    {
     "data": {
      "text/plain": [
       "<AxesSubplot:xlabel='Churn', ylabel='Acc_len'>"
      ]
     },
     "execution_count": 44,
     "metadata": {},
     "output_type": "execute_result"
    },
    {
     "data": {
      "image/png": "[encoded data removed]",
      "text/plain": [
       "<Figure size 432x288 with 1 Axes>"
      ]
     },
     "metadata": {
      "needs_background": "light"
     },
     "output_type": "display_data"
    }
   ],
   "source": [
    "sns.boxplot(x='Churn',y='Acc_len',data=df,sym=\"\",hue='Int_plan')"
   ]
  },
  {
   "cell_type": "markdown",
   "id": "1974c6ed",
   "metadata": {},
   "source": [
    "## Comparing churn with customer service calls and also with international plan"
   ]
  },
  {
   "cell_type": "code",
   "execution_count": 45,
   "id": "687920e6",
   "metadata": {},
   "outputs": [
    {
     "data": {
      "text/plain": [
       "<AxesSubplot:xlabel='Churn', ylabel='Custserv_calls'>"
      ]
     },
     "execution_count": 45,
     "metadata": {},
     "output_type": "execute_result"
    },
    {
     "data": {
      "image/png": "[encoded data removed]",
      "text/plain": [
       "<Figure size 432x288 with 1 Axes>"
      ]
     },
     "metadata": {
      "needs_background": "light"
     },
     "output_type": "display_data"
    }
   ],
   "source": [
    "sns.boxplot(x='Churn',y='Custserv_calls',data=df)"
   ]
  },
  {
   "cell_type": "code",
   "execution_count": null,
   "id": "5e37a66d",
   "metadata": {},
   "outputs": [],
   "source": [
    "#we can see that churners call customer service more\n",
    "# checking with international plan now"
   ]
  },
  {
   "cell_type": "code",
   "execution_count": 46,
   "id": "7ea35cfb",
   "metadata": {},
   "outputs": [
    {
     "data": {
      "text/plain": [
       "<AxesSubplot:xlabel='Churn', ylabel='Custserv_calls'>"
      ]
     },
     "execution_count": 46,
     "metadata": {},
     "output_type": "execute_result"
    },
    {
     "data": {
      "image/png": "[encoded data removed]",
      "text/plain": [
       "<Figure size 432x288 with 1 Axes>"
      ]
     },
     "metadata": {
      "needs_background": "light"
     },
     "output_type": "display_data"
    }
   ],
   "source": [
    "sns.boxplot(x='Churn',y='Custserv_calls',data=df,hue='Int_plan',sym=\"\")"
   ]
  },
  {
   "cell_type": "markdown",
   "id": "3f7e4d4f",
   "metadata": {},
   "source": [
    "## conclusion: Customer who churn call customer service more unless they have opted for international plan they do lesser number of calls\n",
    "\n",
    "\n",
    "## Comparing churn with customer service calls and voice mail plans"
   ]
  },
  {
   "cell_type": "code",
   "execution_count": 47,
   "id": "4efe7917",
   "metadata": {},
   "outputs": [
    {
     "data": {
      "text/plain": [
       "<AxesSubplot:xlabel='Churn', ylabel='Custserv_calls'>"
      ]
     },
     "execution_count": 47,
     "metadata": {},
     "output_type": "execute_result"
    },
    {
     "data": {
      "image/png": "[encoded data removed]",
      "text/plain": [
       "<Figure size 432x288 with 1 Axes>"
      ]
     },
     "metadata": {
      "needs_background": "light"
     },
     "output_type": "display_data"
    }
   ],
   "source": [
    "sns.boxplot(x='Churn',y='Custserv_calls',data=df,hue='Vmail_plan')"
   ]
  },
  {
   "cell_type": "markdown",
   "id": "beeaf756",
   "metadata": {},
   "source": [
    "# compariong churn with customer service calls and area code"
   ]
  },
  {
   "cell_type": "code",
   "execution_count": 48,
   "id": "15bb90b6",
   "metadata": {},
   "outputs": [
    {
     "data": {
      "text/plain": [
       "<AxesSubplot:xlabel='Churn', ylabel='Custserv_calls'>"
      ]
     },
     "execution_count": 48,
     "metadata": {},
     "output_type": "execute_result"
    },
    {
     "data": {
      "image/png": "[encoded data removed]",
      "text/plain": [
       "<Figure size 432x288 with 1 Axes>"
      ]
     },
     "metadata": {
      "needs_background": "light"
     },
     "output_type": "display_data"
    }
   ],
   "source": [
    "sns.boxplot(x='Churn',y='Custserv_calls',data=df,hue='Area_code',sym=\"\")"
   ]
  },
  {
   "cell_type": "code",
   "execution_count": 49,
   "id": "bd15a148",
   "metadata": {},
   "outputs": [
    {
     "data": {
      "text/plain": [
       "Index(['State', 'Acc_len', 'Area_code', 'Int_plan', 'Vmail_plan',\n",
       "       'Vmail_message', 'Day_min', 'Day_calls', 'Day_charge', 'Eve_mins',\n",
       "       'Eve_calls', 'Eve_charge', 'Night_mins', 'Night_calls', 'Night_charge',\n",
       "       'Int_mins', 'Int_calls', 'Int_charge', 'Custserv_calls', 'Churn'],\n",
       "      dtype='object')"
      ]
     },
     "execution_count": 49,
     "metadata": {},
     "output_type": "execute_result"
    }
   ],
   "source": [
    "df.columns"
   ]
  },
  {
   "cell_type": "markdown",
   "id": "8a8046f0",
   "metadata": {},
   "source": [
    "# comparing churn with minutes"
   ]
  },
  {
   "cell_type": "code",
   "execution_count": 50,
   "id": "24a732e7",
   "metadata": {},
   "outputs": [
    {
     "data": {
      "text/plain": [
       "<AxesSubplot:xlabel='Churn', ylabel='Day_min'>"
      ]
     },
     "execution_count": 50,
     "metadata": {},
     "output_type": "execute_result"
    },
    {
     "data": {
      "image/png": "[encoded data removed]",
      "text/plain": [
       "<Figure size 432x288 with 1 Axes>"
      ]
     },
     "metadata": {
      "needs_background": "light"
     },
     "output_type": "display_data"
    }
   ],
   "source": [
    "sns.boxplot(x='Churn',y='Day_min',data=df,sym=\"\")"
   ]
  },
  {
   "cell_type": "code",
   "execution_count": 51,
   "id": "70adfe1b",
   "metadata": {},
   "outputs": [
    {
     "data": {
      "text/plain": [
       "<AxesSubplot:xlabel='Churn', ylabel='Eve_mins'>"
      ]
     },
     "execution_count": 51,
     "metadata": {},
     "output_type": "execute_result"
    },
    {
     "data": {
      "image/png": "[encoded data removed]",
      "text/plain": [
       "<Figure size 432x288 with 1 Axes>"
      ]
     },
     "metadata": {
      "needs_background": "light"
     },
     "output_type": "display_data"
    }
   ],
   "source": [
    "sns.boxplot(x='Churn',y='Eve_mins',data=df,sym=\"\")"
   ]
  },
  {
   "cell_type": "code",
   "execution_count": 52,
   "id": "b271cb84",
   "metadata": {},
   "outputs": [
    {
     "data": {
      "text/plain": [
       "<AxesSubplot:xlabel='Churn', ylabel='Night_mins'>"
      ]
     },
     "execution_count": 52,
     "metadata": {},
     "output_type": "execute_result"
    },
    {
     "data": {
      "image/png": "[encoded data removed]",
      "text/plain": [
       "<Figure size 432x288 with 1 Axes>"
      ]
     },
     "metadata": {
      "needs_background": "light"
     },
     "output_type": "display_data"
    }
   ],
   "source": [
    "sns.boxplot(x='Churn',y='Night_mins',data=df,sym=\"\")"
   ]
  },
  {
   "cell_type": "markdown",
   "id": "f2d8b3ca",
   "metadata": {},
   "source": [
    "## Featurte Selection"
   ]
  },
  {
   "cell_type": "code",
   "execution_count": 175,
   "id": "1ee70a11",
   "metadata": {},
   "outputs": [
    {
     "data": {
      "text/html": [
       "<div>\n",
       "<style scoped>\n",
       "    .dataframe tbody tr th:only-of-type {\n",
       "        vertical-align: middle;\n",
       "    }\n",
       "\n",
       "    .dataframe tbody tr th {\n",
       "        vertical-align: top;\n",
       "    }\n",
       "\n",
       "    .dataframe thead th {\n",
       "        text-align: right;\n",
       "    }\n",
       "</style>\n",
       "<table border=\"1\" class=\"dataframe\">\n",
       "  <thead>\n",
       "    <tr style=\"text-align: right;\">\n",
       "      <th></th>\n",
       "      <th>State</th>\n",
       "      <th>Acc_len</th>\n",
       "      <th>Area_code</th>\n",
       "      <th>Int_plan</th>\n",
       "      <th>Vmail_plan</th>\n",
       "      <th>Vmail_message</th>\n",
       "      <th>Day_min</th>\n",
       "      <th>Day_calls</th>\n",
       "      <th>Day_charge</th>\n",
       "      <th>Eve_mins</th>\n",
       "      <th>Eve_calls</th>\n",
       "      <th>Eve_charge</th>\n",
       "      <th>Night_mins</th>\n",
       "      <th>Night_calls</th>\n",
       "      <th>Night_charge</th>\n",
       "      <th>Int_mins</th>\n",
       "      <th>Int_calls</th>\n",
       "      <th>Int_charge</th>\n",
       "      <th>Custserv_calls</th>\n",
       "      <th>Churn</th>\n",
       "    </tr>\n",
       "  </thead>\n",
       "  <tbody>\n",
       "    <tr>\n",
       "      <th>State</th>\n",
       "      <td>1.000000</td>\n",
       "      <td>0.008638</td>\n",
       "      <td>0.015370</td>\n",
       "      <td>0.009789</td>\n",
       "      <td>-0.033323</td>\n",
       "      <td>-0.028491</td>\n",
       "      <td>0.009172</td>\n",
       "      <td>-0.008418</td>\n",
       "      <td>0.009173</td>\n",
       "      <td>0.002927</td>\n",
       "      <td>-0.010696</td>\n",
       "      <td>0.002920</td>\n",
       "      <td>0.014747</td>\n",
       "      <td>-0.002134</td>\n",
       "      <td>0.014735</td>\n",
       "      <td>-0.017423</td>\n",
       "      <td>0.012466</td>\n",
       "      <td>-0.017464</td>\n",
       "      <td>-0.016943</td>\n",
       "      <td>0.010979</td>\n",
       "    </tr>\n",
       "    <tr>\n",
       "      <th>Acc_len</th>\n",
       "      <td>0.008638</td>\n",
       "      <td>1.000000</td>\n",
       "      <td>-0.020394</td>\n",
       "      <td>0.013948</td>\n",
       "      <td>-0.004602</td>\n",
       "      <td>-0.012983</td>\n",
       "      <td>0.002002</td>\n",
       "      <td>0.032783</td>\n",
       "      <td>0.001999</td>\n",
       "      <td>-0.006778</td>\n",
       "      <td>0.015598</td>\n",
       "      <td>-0.006775</td>\n",
       "      <td>-0.002077</td>\n",
       "      <td>-0.009482</td>\n",
       "      <td>-0.002095</td>\n",
       "      <td>0.003483</td>\n",
       "      <td>0.023485</td>\n",
       "      <td>0.003501</td>\n",
       "      <td>0.002620</td>\n",
       "      <td>0.018046</td>\n",
       "    </tr>\n",
       "    <tr>\n",
       "      <th>Area_code</th>\n",
       "      <td>0.015370</td>\n",
       "      <td>-0.020394</td>\n",
       "      <td>1.000000</td>\n",
       "      <td>0.039263</td>\n",
       "      <td>-0.003150</td>\n",
       "      <td>-0.002597</td>\n",
       "      <td>-0.018900</td>\n",
       "      <td>-0.013179</td>\n",
       "      <td>-0.018903</td>\n",
       "      <td>0.011513</td>\n",
       "      <td>-0.011528</td>\n",
       "      <td>0.011533</td>\n",
       "      <td>0.002794</td>\n",
       "      <td>0.015316</td>\n",
       "      <td>0.002782</td>\n",
       "      <td>-0.007292</td>\n",
       "      <td>-0.011531</td>\n",
       "      <td>-0.007386</td>\n",
       "      <td>0.021046</td>\n",
       "      <td>0.011995</td>\n",
       "    </tr>\n",
       "    <tr>\n",
       "      <th>Int_plan</th>\n",
       "      <td>0.009789</td>\n",
       "      <td>0.013948</td>\n",
       "      <td>0.039263</td>\n",
       "      <td>1.000000</td>\n",
       "      <td>0.009278</td>\n",
       "      <td>0.011596</td>\n",
       "      <td>0.028220</td>\n",
       "      <td>0.007477</td>\n",
       "      <td>0.028223</td>\n",
       "      <td>0.023740</td>\n",
       "      <td>0.003360</td>\n",
       "      <td>0.023740</td>\n",
       "      <td>-0.025951</td>\n",
       "      <td>0.007390</td>\n",
       "      <td>-0.025959</td>\n",
       "      <td>0.036973</td>\n",
       "      <td>0.006717</td>\n",
       "      <td>0.036955</td>\n",
       "      <td>-0.012846</td>\n",
       "      <td>0.257524</td>\n",
       "    </tr>\n",
       "    <tr>\n",
       "      <th>Vmail_plan</th>\n",
       "      <td>-0.033323</td>\n",
       "      <td>-0.004602</td>\n",
       "      <td>-0.003150</td>\n",
       "      <td>0.009278</td>\n",
       "      <td>1.000000</td>\n",
       "      <td>0.955280</td>\n",
       "      <td>0.004444</td>\n",
       "      <td>-0.005738</td>\n",
       "      <td>0.004441</td>\n",
       "      <td>0.021775</td>\n",
       "      <td>-0.005534</td>\n",
       "      <td>0.021779</td>\n",
       "      <td>0.006431</td>\n",
       "      <td>0.008468</td>\n",
       "      <td>0.006426</td>\n",
       "      <td>0.005872</td>\n",
       "      <td>-0.000043</td>\n",
       "      <td>0.005912</td>\n",
       "      <td>-0.014544</td>\n",
       "      <td>-0.110149</td>\n",
       "    </tr>\n",
       "    <tr>\n",
       "      <th>Vmail_message</th>\n",
       "      <td>-0.028491</td>\n",
       "      <td>-0.012983</td>\n",
       "      <td>-0.002597</td>\n",
       "      <td>0.011596</td>\n",
       "      <td>0.955280</td>\n",
       "      <td>1.000000</td>\n",
       "      <td>0.009028</td>\n",
       "      <td>-0.003846</td>\n",
       "      <td>0.009025</td>\n",
       "      <td>0.017872</td>\n",
       "      <td>-0.006508</td>\n",
       "      <td>0.017878</td>\n",
       "      <td>0.004672</td>\n",
       "      <td>0.000889</td>\n",
       "      <td>0.004665</td>\n",
       "      <td>0.005167</td>\n",
       "      <td>0.007423</td>\n",
       "      <td>0.005202</td>\n",
       "      <td>-0.006951</td>\n",
       "      <td>-0.096884</td>\n",
       "    </tr>\n",
       "    <tr>\n",
       "      <th>Day_min</th>\n",
       "      <td>0.009172</td>\n",
       "      <td>0.002002</td>\n",
       "      <td>-0.018900</td>\n",
       "      <td>0.028220</td>\n",
       "      <td>0.004444</td>\n",
       "      <td>0.009028</td>\n",
       "      <td>1.000000</td>\n",
       "      <td>-0.002823</td>\n",
       "      <td>1.000000</td>\n",
       "      <td>-0.010260</td>\n",
       "      <td>0.012990</td>\n",
       "      <td>-0.010268</td>\n",
       "      <td>0.009604</td>\n",
       "      <td>0.005165</td>\n",
       "      <td>0.009591</td>\n",
       "      <td>-0.012314</td>\n",
       "      <td>0.000166</td>\n",
       "      <td>-0.012261</td>\n",
       "      <td>-0.008149</td>\n",
       "      <td>0.202439</td>\n",
       "    </tr>\n",
       "    <tr>\n",
       "      <th>Day_calls</th>\n",
       "      <td>-0.008418</td>\n",
       "      <td>0.032783</td>\n",
       "      <td>-0.013179</td>\n",
       "      <td>0.007477</td>\n",
       "      <td>-0.005738</td>\n",
       "      <td>-0.003846</td>\n",
       "      <td>-0.002823</td>\n",
       "      <td>1.000000</td>\n",
       "      <td>-0.002821</td>\n",
       "      <td>-0.006430</td>\n",
       "      <td>0.003923</td>\n",
       "      <td>-0.006429</td>\n",
       "      <td>0.010730</td>\n",
       "      <td>-0.013299</td>\n",
       "      <td>0.010724</td>\n",
       "      <td>0.012951</td>\n",
       "      <td>0.010889</td>\n",
       "      <td>0.013055</td>\n",
       "      <td>-0.008747</td>\n",
       "      <td>0.016268</td>\n",
       "    </tr>\n",
       "    <tr>\n",
       "      <th>Day_charge</th>\n",
       "      <td>0.009173</td>\n",
       "      <td>0.001999</td>\n",
       "      <td>-0.018903</td>\n",
       "      <td>0.028223</td>\n",
       "      <td>0.004441</td>\n",
       "      <td>0.009025</td>\n",
       "      <td>1.000000</td>\n",
       "      <td>-0.002821</td>\n",
       "      <td>1.000000</td>\n",
       "      <td>-0.010255</td>\n",
       "      <td>0.012992</td>\n",
       "      <td>-0.010262</td>\n",
       "      <td>0.009606</td>\n",
       "      <td>0.005164</td>\n",
       "      <td>0.009593</td>\n",
       "      <td>-0.012315</td>\n",
       "      <td>0.000163</td>\n",
       "      <td>-0.012262</td>\n",
       "      <td>-0.008155</td>\n",
       "      <td>0.202434</td>\n",
       "    </tr>\n",
       "    <tr>\n",
       "      <th>Eve_mins</th>\n",
       "      <td>0.002927</td>\n",
       "      <td>-0.006778</td>\n",
       "      <td>0.011513</td>\n",
       "      <td>0.023740</td>\n",
       "      <td>0.021775</td>\n",
       "      <td>0.017872</td>\n",
       "      <td>-0.010260</td>\n",
       "      <td>-0.006430</td>\n",
       "      <td>-0.010255</td>\n",
       "      <td>1.000000</td>\n",
       "      <td>0.001135</td>\n",
       "      <td>1.000000</td>\n",
       "      <td>-0.018830</td>\n",
       "      <td>0.014226</td>\n",
       "      <td>-0.018837</td>\n",
       "      <td>0.000165</td>\n",
       "      <td>0.005749</td>\n",
       "      <td>0.000172</td>\n",
       "      <td>-0.015598</td>\n",
       "      <td>0.087042</td>\n",
       "    </tr>\n",
       "    <tr>\n",
       "      <th>Eve_calls</th>\n",
       "      <td>-0.010696</td>\n",
       "      <td>0.015598</td>\n",
       "      <td>-0.011528</td>\n",
       "      <td>0.003360</td>\n",
       "      <td>-0.005534</td>\n",
       "      <td>-0.006508</td>\n",
       "      <td>0.012990</td>\n",
       "      <td>0.003923</td>\n",
       "      <td>0.012992</td>\n",
       "      <td>0.001135</td>\n",
       "      <td>1.000000</td>\n",
       "      <td>0.001151</td>\n",
       "      <td>0.002610</td>\n",
       "      <td>-0.015463</td>\n",
       "      <td>0.002624</td>\n",
       "      <td>-0.002798</td>\n",
       "      <td>0.005198</td>\n",
       "      <td>-0.002831</td>\n",
       "      <td>0.007730</td>\n",
       "      <td>0.001943</td>\n",
       "    </tr>\n",
       "    <tr>\n",
       "      <th>Eve_charge</th>\n",
       "      <td>0.002920</td>\n",
       "      <td>-0.006775</td>\n",
       "      <td>0.011533</td>\n",
       "      <td>0.023740</td>\n",
       "      <td>0.021779</td>\n",
       "      <td>0.017878</td>\n",
       "      <td>-0.010268</td>\n",
       "      <td>-0.006429</td>\n",
       "      <td>-0.010262</td>\n",
       "      <td>1.000000</td>\n",
       "      <td>0.001151</td>\n",
       "      <td>1.000000</td>\n",
       "      <td>-0.018839</td>\n",
       "      <td>0.014231</td>\n",
       "      <td>-0.018846</td>\n",
       "      <td>0.000163</td>\n",
       "      <td>0.005751</td>\n",
       "      <td>0.000170</td>\n",
       "      <td>-0.015611</td>\n",
       "      <td>0.087036</td>\n",
       "    </tr>\n",
       "    <tr>\n",
       "      <th>Night_mins</th>\n",
       "      <td>0.014747</td>\n",
       "      <td>-0.002077</td>\n",
       "      <td>0.002794</td>\n",
       "      <td>-0.025951</td>\n",
       "      <td>0.006431</td>\n",
       "      <td>0.004672</td>\n",
       "      <td>0.009604</td>\n",
       "      <td>0.010730</td>\n",
       "      <td>0.009606</td>\n",
       "      <td>-0.018830</td>\n",
       "      <td>0.002610</td>\n",
       "      <td>-0.018839</td>\n",
       "      <td>1.000000</td>\n",
       "      <td>0.025742</td>\n",
       "      <td>0.999999</td>\n",
       "      <td>-0.004549</td>\n",
       "      <td>-0.014651</td>\n",
       "      <td>-0.004500</td>\n",
       "      <td>-0.013871</td>\n",
       "      <td>0.043262</td>\n",
       "    </tr>\n",
       "    <tr>\n",
       "      <th>Night_calls</th>\n",
       "      <td>-0.002134</td>\n",
       "      <td>-0.009482</td>\n",
       "      <td>0.015316</td>\n",
       "      <td>0.007390</td>\n",
       "      <td>0.008468</td>\n",
       "      <td>0.000889</td>\n",
       "      <td>0.005165</td>\n",
       "      <td>-0.013299</td>\n",
       "      <td>0.005164</td>\n",
       "      <td>0.014226</td>\n",
       "      <td>-0.015463</td>\n",
       "      <td>0.014231</td>\n",
       "      <td>0.025742</td>\n",
       "      <td>1.000000</td>\n",
       "      <td>0.025722</td>\n",
       "      <td>-0.006431</td>\n",
       "      <td>0.003294</td>\n",
       "      <td>-0.006439</td>\n",
       "      <td>-0.010258</td>\n",
       "      <td>-0.006671</td>\n",
       "    </tr>\n",
       "    <tr>\n",
       "      <th>Night_charge</th>\n",
       "      <td>0.014735</td>\n",
       "      <td>-0.002095</td>\n",
       "      <td>0.002782</td>\n",
       "      <td>-0.025959</td>\n",
       "      <td>0.006426</td>\n",
       "      <td>0.004665</td>\n",
       "      <td>0.009591</td>\n",
       "      <td>0.010724</td>\n",
       "      <td>0.009593</td>\n",
       "      <td>-0.018837</td>\n",
       "      <td>0.002624</td>\n",
       "      <td>-0.018846</td>\n",
       "      <td>0.999999</td>\n",
       "      <td>0.025722</td>\n",
       "      <td>1.000000</td>\n",
       "      <td>-0.004546</td>\n",
       "      <td>-0.014624</td>\n",
       "      <td>-0.004497</td>\n",
       "      <td>-0.013868</td>\n",
       "      <td>0.043260</td>\n",
       "    </tr>\n",
       "    <tr>\n",
       "      <th>Int_mins</th>\n",
       "      <td>-0.017423</td>\n",
       "      <td>0.003483</td>\n",
       "      <td>-0.007292</td>\n",
       "      <td>0.036973</td>\n",
       "      <td>0.005872</td>\n",
       "      <td>0.005167</td>\n",
       "      <td>-0.012314</td>\n",
       "      <td>0.012951</td>\n",
       "      <td>-0.012315</td>\n",
       "      <td>0.000165</td>\n",
       "      <td>-0.002798</td>\n",
       "      <td>0.000163</td>\n",
       "      <td>-0.004549</td>\n",
       "      <td>-0.006431</td>\n",
       "      <td>-0.004546</td>\n",
       "      <td>1.000000</td>\n",
       "      <td>0.021431</td>\n",
       "      <td>0.999993</td>\n",
       "      <td>-0.016079</td>\n",
       "      <td>0.064731</td>\n",
       "    </tr>\n",
       "    <tr>\n",
       "      <th>Int_calls</th>\n",
       "      <td>0.012466</td>\n",
       "      <td>0.023485</td>\n",
       "      <td>-0.011531</td>\n",
       "      <td>0.006717</td>\n",
       "      <td>-0.000043</td>\n",
       "      <td>0.007423</td>\n",
       "      <td>0.000166</td>\n",
       "      <td>0.010889</td>\n",
       "      <td>0.000163</td>\n",
       "      <td>0.005749</td>\n",
       "      <td>0.005198</td>\n",
       "      <td>0.005751</td>\n",
       "      <td>-0.014651</td>\n",
       "      <td>0.003294</td>\n",
       "      <td>-0.014624</td>\n",
       "      <td>0.021431</td>\n",
       "      <td>1.000000</td>\n",
       "      <td>0.021548</td>\n",
       "      <td>-0.016778</td>\n",
       "      <td>-0.045844</td>\n",
       "    </tr>\n",
       "    <tr>\n",
       "      <th>Int_charge</th>\n",
       "      <td>-0.017464</td>\n",
       "      <td>0.003501</td>\n",
       "      <td>-0.007386</td>\n",
       "      <td>0.036955</td>\n",
       "      <td>0.005912</td>\n",
       "      <td>0.005202</td>\n",
       "      <td>-0.012261</td>\n",
       "      <td>0.013055</td>\n",
       "      <td>-0.012262</td>\n",
       "      <td>0.000172</td>\n",
       "      <td>-0.002831</td>\n",
       "      <td>0.000170</td>\n",
       "      <td>-0.004500</td>\n",
       "      <td>-0.006439</td>\n",
       "      <td>-0.004497</td>\n",
       "      <td>0.999993</td>\n",
       "      <td>0.021548</td>\n",
       "      <td>1.000000</td>\n",
       "      <td>-0.016148</td>\n",
       "      <td>0.064728</td>\n",
       "    </tr>\n",
       "    <tr>\n",
       "      <th>Custserv_calls</th>\n",
       "      <td>-0.016943</td>\n",
       "      <td>0.002620</td>\n",
       "      <td>0.021046</td>\n",
       "      <td>-0.012846</td>\n",
       "      <td>-0.014544</td>\n",
       "      <td>-0.006951</td>\n",
       "      <td>-0.008149</td>\n",
       "      <td>-0.008747</td>\n",
       "      <td>-0.008155</td>\n",
       "      <td>-0.015598</td>\n",
       "      <td>0.007730</td>\n",
       "      <td>-0.015611</td>\n",
       "      <td>-0.013871</td>\n",
       "      <td>-0.010258</td>\n",
       "      <td>-0.013868</td>\n",
       "      <td>-0.016079</td>\n",
       "      <td>-0.016778</td>\n",
       "      <td>-0.016148</td>\n",
       "      <td>1.000000</td>\n",
       "      <td>0.209351</td>\n",
       "    </tr>\n",
       "    <tr>\n",
       "      <th>Churn</th>\n",
       "      <td>0.010979</td>\n",
       "      <td>0.018046</td>\n",
       "      <td>0.011995</td>\n",
       "      <td>0.257524</td>\n",
       "      <td>-0.110149</td>\n",
       "      <td>-0.096884</td>\n",
       "      <td>0.202439</td>\n",
       "      <td>0.016268</td>\n",
       "      <td>0.202434</td>\n",
       "      <td>0.087042</td>\n",
       "      <td>0.001943</td>\n",
       "      <td>0.087036</td>\n",
       "      <td>0.043262</td>\n",
       "      <td>-0.006671</td>\n",
       "      <td>0.043260</td>\n",
       "      <td>0.064731</td>\n",
       "      <td>-0.045844</td>\n",
       "      <td>0.064728</td>\n",
       "      <td>0.209351</td>\n",
       "      <td>1.000000</td>\n",
       "    </tr>\n",
       "  </tbody>\n",
       "</table>\n",
       "</div>"
      ],
      "text/plain": [
       "                   State   Acc_len  Area_code  Int_plan  Vmail_plan  \\\n",
       "State           1.000000  0.008638   0.015370  0.009789   -0.033323   \n",
       "Acc_len         0.008638  1.000000  -0.020394  0.013948   -0.004602   \n",
       "Area_code       0.015370 -0.020394   1.000000  0.039263   -0.003150   \n",
       "Int_plan        0.009789  0.013948   0.039263  1.000000    0.009278   \n",
       "Vmail_plan     -0.033323 -0.004602  -0.003150  0.009278    1.000000   \n",
       "Vmail_message  -0.028491 -0.012983  -0.002597  0.011596    0.955280   \n",
       "Day_min         0.009172  0.002002  -0.018900  0.028220    0.004444   \n",
       "Day_calls      -0.008418  0.032783  -0.013179  0.007477   -0.005738   \n",
       "Day_charge      0.009173  0.001999  -0.018903  0.028223    0.004441   \n",
       "Eve_mins        0.002927 -0.006778   0.011513  0.023740    0.021775   \n",
       "Eve_calls      -0.010696  0.015598  -0.011528  0.003360   -0.005534   \n",
       "Eve_charge      0.002920 -0.006775   0.011533  0.023740    0.021779   \n",
       "Night_mins      0.014747 -0.002077   0.002794 -0.025951    0.006431   \n",
       "Night_calls    -0.002134 -0.009482   0.015316  0.007390    0.008468   \n",
       "Night_charge    0.014735 -0.002095   0.002782 -0.025959    0.006426   \n",
       "Int_mins       -0.017423  0.003483  -0.007292  0.036973    0.005872   \n",
       "Int_calls       0.012466  0.023485  -0.011531  0.006717   -0.000043   \n",
       "Int_charge     -0.017464  0.003501  -0.007386  0.036955    0.005912   \n",
       "Custserv_calls -0.016943  0.002620   0.021046 -0.012846   -0.014544   \n",
       "Churn           0.010979  0.018046   0.011995  0.257524   -0.110149   \n",
       "\n",
       "                Vmail_message   Day_min  Day_calls  Day_charge  Eve_mins  \\\n",
       "State               -0.028491  0.009172  -0.008418    0.009173  0.002927   \n",
       "Acc_len             -0.012983  0.002002   0.032783    0.001999 -0.006778   \n",
       "Area_code           -0.002597 -0.018900  -0.013179   -0.018903  0.011513   \n",
       "Int_plan             0.011596  0.028220   0.007477    0.028223  0.023740   \n",
       "Vmail_plan           0.955280  0.004444  -0.005738    0.004441  0.021775   \n",
       "Vmail_message        1.000000  0.009028  -0.003846    0.009025  0.017872   \n",
       "Day_min              0.009028  1.000000  -0.002823    1.000000 -0.010260   \n",
       "Day_calls           -0.003846 -0.002823   1.000000   -0.002821 -0.006430   \n",
       "Day_charge           0.009025  1.000000  -0.002821    1.000000 -0.010255   \n",
       "Eve_mins             0.017872 -0.010260  -0.006430   -0.010255  1.000000   \n",
       "Eve_calls           -0.006508  0.012990   0.003923    0.012992  0.001135   \n",
       "Eve_charge           0.017878 -0.010268  -0.006429   -0.010262  1.000000   \n",
       "Night_mins           0.004672  0.009604   0.010730    0.009606 -0.018830   \n",
       "Night_calls          0.000889  0.005165  -0.013299    0.005164  0.014226   \n",
       "Night_charge         0.004665  0.009591   0.010724    0.009593 -0.018837   \n",
       "Int_mins             0.005167 -0.012314   0.012951   -0.012315  0.000165   \n",
       "Int_calls            0.007423  0.000166   0.010889    0.000163  0.005749   \n",
       "Int_charge           0.005202 -0.012261   0.013055   -0.012262  0.000172   \n",
       "Custserv_calls      -0.006951 -0.008149  -0.008747   -0.008155 -0.015598   \n",
       "Churn               -0.096884  0.202439   0.016268    0.202434  0.087042   \n",
       "\n",
       "                Eve_calls  Eve_charge  Night_mins  Night_calls  Night_charge  \\\n",
       "State           -0.010696    0.002920    0.014747    -0.002134      0.014735   \n",
       "Acc_len          0.015598   -0.006775   -0.002077    -0.009482     -0.002095   \n",
       "Area_code       -0.011528    0.011533    0.002794     0.015316      0.002782   \n",
       "Int_plan         0.003360    0.023740   -0.025951     0.007390     -0.025959   \n",
       "Vmail_plan      -0.005534    0.021779    0.006431     0.008468      0.006426   \n",
       "Vmail_message   -0.006508    0.017878    0.004672     0.000889      0.004665   \n",
       "Day_min          0.012990   -0.010268    0.009604     0.005165      0.009591   \n",
       "Day_calls        0.003923   -0.006429    0.010730    -0.013299      0.010724   \n",
       "Day_charge       0.012992   -0.010262    0.009606     0.005164      0.009593   \n",
       "Eve_mins         0.001135    1.000000   -0.018830     0.014226     -0.018837   \n",
       "Eve_calls        1.000000    0.001151    0.002610    -0.015463      0.002624   \n",
       "Eve_charge       0.001151    1.000000   -0.018839     0.014231     -0.018846   \n",
       "Night_mins       0.002610   -0.018839    1.000000     0.025742      0.999999   \n",
       "Night_calls     -0.015463    0.014231    0.025742     1.000000      0.025722   \n",
       "Night_charge     0.002624   -0.018846    0.999999     0.025722      1.000000   \n",
       "Int_mins        -0.002798    0.000163   -0.004549    -0.006431     -0.004546   \n",
       "Int_calls        0.005198    0.005751   -0.014651     0.003294     -0.014624   \n",
       "Int_charge      -0.002831    0.000170   -0.004500    -0.006439     -0.004497   \n",
       "Custserv_calls   0.007730   -0.015611   -0.013871    -0.010258     -0.013868   \n",
       "Churn            0.001943    0.087036    0.043262    -0.006671      0.043260   \n",
       "\n",
       "                Int_mins  Int_calls  Int_charge  Custserv_calls     Churn  \n",
       "State          -0.017423   0.012466   -0.017464       -0.016943  0.010979  \n",
       "Acc_len         0.003483   0.023485    0.003501        0.002620  0.018046  \n",
       "Area_code      -0.007292  -0.011531   -0.007386        0.021046  0.011995  \n",
       "Int_plan        0.036973   0.006717    0.036955       -0.012846  0.257524  \n",
       "Vmail_plan      0.005872  -0.000043    0.005912       -0.014544 -0.110149  \n",
       "Vmail_message   0.005167   0.007423    0.005202       -0.006951 -0.096884  \n",
       "Day_min        -0.012314   0.000166   -0.012261       -0.008149  0.202439  \n",
       "Day_calls       0.012951   0.010889    0.013055       -0.008747  0.016268  \n",
       "Day_charge     -0.012315   0.000163   -0.012262       -0.008155  0.202434  \n",
       "Eve_mins        0.000165   0.005749    0.000172       -0.015598  0.087042  \n",
       "Eve_calls      -0.002798   0.005198   -0.002831        0.007730  0.001943  \n",
       "Eve_charge      0.000163   0.005751    0.000170       -0.015611  0.087036  \n",
       "Night_mins     -0.004549  -0.014651   -0.004500       -0.013871  0.043262  \n",
       "Night_calls    -0.006431   0.003294   -0.006439       -0.010258 -0.006671  \n",
       "Night_charge   -0.004546  -0.014624   -0.004497       -0.013868  0.043260  \n",
       "Int_mins        1.000000   0.021431    0.999993       -0.016079  0.064731  \n",
       "Int_calls       0.021431   1.000000    0.021548       -0.016778 -0.045844  \n",
       "Int_charge      0.999993   0.021548    1.000000       -0.016148  0.064728  \n",
       "Custserv_calls -0.016079  -0.016778   -0.016148        1.000000  0.209351  \n",
       "Churn           0.064731  -0.045844    0.064728        0.209351  1.000000  "
      ]
     },
     "execution_count": 175,
     "metadata": {},
     "output_type": "execute_result"
    }
   ],
   "source": [
    "df.corr()"
   ]
  },
  {
   "cell_type": "code",
   "execution_count": 142,
   "id": "10de3f36",
   "metadata": {},
   "outputs": [
    {
     "data": {
      "image/png": "[encoded data removed]",
      "text/plain": [
       "<Figure size 1296x1296 with 2 Axes>"
      ]
     },
     "metadata": {
      "needs_background": "light"
     },
     "output_type": "display_data"
    }
   ],
   "source": [
    "plt.figure(figsize=(18,18))\n",
    "sns.heatmap(df.corr(), annot = True, cmap = \"RdYlGn\")\n",
    "\n",
    "plt.show()"
   ]
  },
  {
   "cell_type": "code",
   "execution_count": 53,
   "id": "72d387bd",
   "metadata": {},
   "outputs": [],
   "source": [
    "ff = pd.read_csv('cleaned_dataset.csv')"
   ]
  },
  {
   "cell_type": "code",
   "execution_count": 54,
   "id": "344c3679",
   "metadata": {},
   "outputs": [
    {
     "data": {
      "text/html": [
       "<div>\n",
       "<style scoped>\n",
       "    .dataframe tbody tr th:only-of-type {\n",
       "        vertical-align: middle;\n",
       "    }\n",
       "\n",
       "    .dataframe tbody tr th {\n",
       "        vertical-align: top;\n",
       "    }\n",
       "\n",
       "    .dataframe thead th {\n",
       "        text-align: right;\n",
       "    }\n",
       "</style>\n",
       "<table border=\"1\" class=\"dataframe\">\n",
       "  <thead>\n",
       "    <tr style=\"text-align: right;\">\n",
       "      <th></th>\n",
       "      <th>State</th>\n",
       "      <th>Acc_len</th>\n",
       "      <th>Area_code</th>\n",
       "      <th>Int_plan</th>\n",
       "      <th>Vmail_plan</th>\n",
       "      <th>Vmail_message</th>\n",
       "      <th>Day_min</th>\n",
       "      <th>Day_calls</th>\n",
       "      <th>Day_charge</th>\n",
       "      <th>Eve_mins</th>\n",
       "      <th>Eve_calls</th>\n",
       "      <th>Eve_charge</th>\n",
       "      <th>Night_mins</th>\n",
       "      <th>Night_calls</th>\n",
       "      <th>Night_charge</th>\n",
       "      <th>Int_mins</th>\n",
       "      <th>Int_calls</th>\n",
       "      <th>Int_charge</th>\n",
       "      <th>Custserv_calls</th>\n",
       "      <th>Churn</th>\n",
       "    </tr>\n",
       "  </thead>\n",
       "  <tbody>\n",
       "    <tr>\n",
       "      <th>0</th>\n",
       "      <td>16</td>\n",
       "      <td>128</td>\n",
       "      <td>415</td>\n",
       "      <td>0</td>\n",
       "      <td>1</td>\n",
       "      <td>25</td>\n",
       "      <td>265.1</td>\n",
       "      <td>110</td>\n",
       "      <td>45.07</td>\n",
       "      <td>197.4</td>\n",
       "      <td>99</td>\n",
       "      <td>16.78</td>\n",
       "      <td>244.7</td>\n",
       "      <td>91</td>\n",
       "      <td>11.01</td>\n",
       "      <td>10.0</td>\n",
       "      <td>3</td>\n",
       "      <td>2.70</td>\n",
       "      <td>1</td>\n",
       "      <td>0</td>\n",
       "    </tr>\n",
       "    <tr>\n",
       "      <th>1</th>\n",
       "      <td>35</td>\n",
       "      <td>107</td>\n",
       "      <td>415</td>\n",
       "      <td>0</td>\n",
       "      <td>1</td>\n",
       "      <td>26</td>\n",
       "      <td>161.6</td>\n",
       "      <td>123</td>\n",
       "      <td>27.47</td>\n",
       "      <td>195.5</td>\n",
       "      <td>103</td>\n",
       "      <td>16.62</td>\n",
       "      <td>254.4</td>\n",
       "      <td>103</td>\n",
       "      <td>11.45</td>\n",
       "      <td>13.7</td>\n",
       "      <td>3</td>\n",
       "      <td>3.70</td>\n",
       "      <td>1</td>\n",
       "      <td>0</td>\n",
       "    </tr>\n",
       "    <tr>\n",
       "      <th>2</th>\n",
       "      <td>31</td>\n",
       "      <td>137</td>\n",
       "      <td>415</td>\n",
       "      <td>0</td>\n",
       "      <td>0</td>\n",
       "      <td>0</td>\n",
       "      <td>243.4</td>\n",
       "      <td>114</td>\n",
       "      <td>41.38</td>\n",
       "      <td>121.2</td>\n",
       "      <td>110</td>\n",
       "      <td>10.30</td>\n",
       "      <td>162.6</td>\n",
       "      <td>104</td>\n",
       "      <td>7.32</td>\n",
       "      <td>12.2</td>\n",
       "      <td>5</td>\n",
       "      <td>3.29</td>\n",
       "      <td>0</td>\n",
       "      <td>0</td>\n",
       "    </tr>\n",
       "    <tr>\n",
       "      <th>3</th>\n",
       "      <td>35</td>\n",
       "      <td>84</td>\n",
       "      <td>408</td>\n",
       "      <td>1</td>\n",
       "      <td>0</td>\n",
       "      <td>0</td>\n",
       "      <td>299.4</td>\n",
       "      <td>71</td>\n",
       "      <td>50.90</td>\n",
       "      <td>61.9</td>\n",
       "      <td>88</td>\n",
       "      <td>5.26</td>\n",
       "      <td>196.9</td>\n",
       "      <td>89</td>\n",
       "      <td>8.86</td>\n",
       "      <td>6.6</td>\n",
       "      <td>7</td>\n",
       "      <td>1.78</td>\n",
       "      <td>2</td>\n",
       "      <td>0</td>\n",
       "    </tr>\n",
       "    <tr>\n",
       "      <th>4</th>\n",
       "      <td>36</td>\n",
       "      <td>75</td>\n",
       "      <td>415</td>\n",
       "      <td>1</td>\n",
       "      <td>0</td>\n",
       "      <td>0</td>\n",
       "      <td>166.7</td>\n",
       "      <td>113</td>\n",
       "      <td>28.34</td>\n",
       "      <td>148.3</td>\n",
       "      <td>122</td>\n",
       "      <td>12.61</td>\n",
       "      <td>186.9</td>\n",
       "      <td>121</td>\n",
       "      <td>8.41</td>\n",
       "      <td>10.1</td>\n",
       "      <td>3</td>\n",
       "      <td>2.73</td>\n",
       "      <td>3</td>\n",
       "      <td>0</td>\n",
       "    </tr>\n",
       "  </tbody>\n",
       "</table>\n",
       "</div>"
      ],
      "text/plain": [
       "   State  Acc_len  Area_code  Int_plan  Vmail_plan  Vmail_message  Day_min  \\\n",
       "0     16      128        415         0           1             25    265.1   \n",
       "1     35      107        415         0           1             26    161.6   \n",
       "2     31      137        415         0           0              0    243.4   \n",
       "3     35       84        408         1           0              0    299.4   \n",
       "4     36       75        415         1           0              0    166.7   \n",
       "\n",
       "   Day_calls  Day_charge  Eve_mins  Eve_calls  Eve_charge  Night_mins  \\\n",
       "0        110       45.07     197.4         99       16.78       244.7   \n",
       "1        123       27.47     195.5        103       16.62       254.4   \n",
       "2        114       41.38     121.2        110       10.30       162.6   \n",
       "3         71       50.90      61.9         88        5.26       196.9   \n",
       "4        113       28.34     148.3        122       12.61       186.9   \n",
       "\n",
       "   Night_calls  Night_charge  Int_mins  Int_calls  Int_charge  Custserv_calls  \\\n",
       "0           91         11.01      10.0          3        2.70               1   \n",
       "1          103         11.45      13.7          3        3.70               1   \n",
       "2          104          7.32      12.2          5        3.29               0   \n",
       "3           89          8.86       6.6          7        1.78               2   \n",
       "4          121          8.41      10.1          3        2.73               3   \n",
       "\n",
       "   Churn  \n",
       "0      0  \n",
       "1      0  \n",
       "2      0  \n",
       "3      0  \n",
       "4      0  "
      ]
     },
     "execution_count": 54,
     "metadata": {},
     "output_type": "execute_result"
    }
   ],
   "source": [
    "ff.head()"
   ]
  },
  {
   "cell_type": "code",
   "execution_count": 55,
   "id": "f01b3bf6",
   "metadata": {},
   "outputs": [
    {
     "data": {
      "text/html": [
       "<div>\n",
       "<style scoped>\n",
       "    .dataframe tbody tr th:only-of-type {\n",
       "        vertical-align: middle;\n",
       "    }\n",
       "\n",
       "    .dataframe tbody tr th {\n",
       "        vertical-align: top;\n",
       "    }\n",
       "\n",
       "    .dataframe thead th {\n",
       "        text-align: right;\n",
       "    }\n",
       "</style>\n",
       "<table border=\"1\" class=\"dataframe\">\n",
       "  <thead>\n",
       "    <tr style=\"text-align: right;\">\n",
       "      <th></th>\n",
       "      <th>State</th>\n",
       "      <th>Acc_len</th>\n",
       "      <th>Area_code</th>\n",
       "      <th>Int_plan</th>\n",
       "      <th>Vmail_plan</th>\n",
       "      <th>Vmail_message</th>\n",
       "      <th>Day_min</th>\n",
       "      <th>Day_calls</th>\n",
       "      <th>Day_charge</th>\n",
       "      <th>Eve_mins</th>\n",
       "      <th>Eve_calls</th>\n",
       "      <th>Eve_charge</th>\n",
       "      <th>Night_mins</th>\n",
       "      <th>Night_calls</th>\n",
       "      <th>Night_charge</th>\n",
       "      <th>Int_mins</th>\n",
       "      <th>Int_calls</th>\n",
       "      <th>Int_charge</th>\n",
       "      <th>Custserv_calls</th>\n",
       "      <th>Churn</th>\n",
       "    </tr>\n",
       "  </thead>\n",
       "  <tbody>\n",
       "    <tr>\n",
       "      <th>count</th>\n",
       "      <td>4617.000000</td>\n",
       "      <td>4617.000000</td>\n",
       "      <td>4617.000000</td>\n",
       "      <td>4617.000000</td>\n",
       "      <td>4617.000000</td>\n",
       "      <td>4617.000000</td>\n",
       "      <td>4617.000000</td>\n",
       "      <td>4617.000000</td>\n",
       "      <td>4617.000000</td>\n",
       "      <td>4617.000000</td>\n",
       "      <td>4617.000000</td>\n",
       "      <td>4617.000000</td>\n",
       "      <td>4617.000000</td>\n",
       "      <td>4617.000000</td>\n",
       "      <td>4617.000000</td>\n",
       "      <td>4617.000000</td>\n",
       "      <td>4617.000000</td>\n",
       "      <td>4617.000000</td>\n",
       "      <td>4617.000000</td>\n",
       "      <td>4617.000000</td>\n",
       "    </tr>\n",
       "    <tr>\n",
       "      <th>mean</th>\n",
       "      <td>26.041585</td>\n",
       "      <td>100.645224</td>\n",
       "      <td>437.046350</td>\n",
       "      <td>0.096600</td>\n",
       "      <td>0.267706</td>\n",
       "      <td>7.849903</td>\n",
       "      <td>180.447152</td>\n",
       "      <td>100.054364</td>\n",
       "      <td>30.676576</td>\n",
       "      <td>200.429088</td>\n",
       "      <td>100.179770</td>\n",
       "      <td>17.036703</td>\n",
       "      <td>200.623933</td>\n",
       "      <td>99.944120</td>\n",
       "      <td>9.028185</td>\n",
       "      <td>10.279294</td>\n",
       "      <td>4.433831</td>\n",
       "      <td>2.775926</td>\n",
       "      <td>1.567035</td>\n",
       "      <td>0.142084</td>\n",
       "    </tr>\n",
       "    <tr>\n",
       "      <th>std</th>\n",
       "      <td>14.790361</td>\n",
       "      <td>39.597194</td>\n",
       "      <td>42.288212</td>\n",
       "      <td>0.295444</td>\n",
       "      <td>0.442812</td>\n",
       "      <td>13.592333</td>\n",
       "      <td>53.983540</td>\n",
       "      <td>19.883027</td>\n",
       "      <td>9.177145</td>\n",
       "      <td>50.557001</td>\n",
       "      <td>19.821314</td>\n",
       "      <td>4.297332</td>\n",
       "      <td>50.543616</td>\n",
       "      <td>19.935053</td>\n",
       "      <td>2.274488</td>\n",
       "      <td>2.757361</td>\n",
       "      <td>2.457615</td>\n",
       "      <td>0.744413</td>\n",
       "      <td>1.307019</td>\n",
       "      <td>0.349174</td>\n",
       "    </tr>\n",
       "    <tr>\n",
       "      <th>min</th>\n",
       "      <td>0.000000</td>\n",
       "      <td>1.000000</td>\n",
       "      <td>408.000000</td>\n",
       "      <td>0.000000</td>\n",
       "      <td>0.000000</td>\n",
       "      <td>0.000000</td>\n",
       "      <td>0.000000</td>\n",
       "      <td>0.000000</td>\n",
       "      <td>0.000000</td>\n",
       "      <td>0.000000</td>\n",
       "      <td>0.000000</td>\n",
       "      <td>0.000000</td>\n",
       "      <td>23.200000</td>\n",
       "      <td>12.000000</td>\n",
       "      <td>1.040000</td>\n",
       "      <td>0.000000</td>\n",
       "      <td>0.000000</td>\n",
       "      <td>0.000000</td>\n",
       "      <td>0.000000</td>\n",
       "      <td>0.000000</td>\n",
       "    </tr>\n",
       "    <tr>\n",
       "      <th>25%</th>\n",
       "      <td>13.000000</td>\n",
       "      <td>74.000000</td>\n",
       "      <td>408.000000</td>\n",
       "      <td>0.000000</td>\n",
       "      <td>0.000000</td>\n",
       "      <td>0.000000</td>\n",
       "      <td>143.700000</td>\n",
       "      <td>87.000000</td>\n",
       "      <td>24.430000</td>\n",
       "      <td>165.900000</td>\n",
       "      <td>87.000000</td>\n",
       "      <td>14.100000</td>\n",
       "      <td>167.100000</td>\n",
       "      <td>87.000000</td>\n",
       "      <td>7.520000</td>\n",
       "      <td>8.600000</td>\n",
       "      <td>3.000000</td>\n",
       "      <td>2.320000</td>\n",
       "      <td>1.000000</td>\n",
       "      <td>0.000000</td>\n",
       "    </tr>\n",
       "    <tr>\n",
       "      <th>50%</th>\n",
       "      <td>26.000000</td>\n",
       "      <td>100.000000</td>\n",
       "      <td>415.000000</td>\n",
       "      <td>0.000000</td>\n",
       "      <td>0.000000</td>\n",
       "      <td>0.000000</td>\n",
       "      <td>180.000000</td>\n",
       "      <td>100.000000</td>\n",
       "      <td>30.600000</td>\n",
       "      <td>200.800000</td>\n",
       "      <td>101.000000</td>\n",
       "      <td>17.070000</td>\n",
       "      <td>200.800000</td>\n",
       "      <td>100.000000</td>\n",
       "      <td>9.040000</td>\n",
       "      <td>10.300000</td>\n",
       "      <td>4.000000</td>\n",
       "      <td>2.780000</td>\n",
       "      <td>1.000000</td>\n",
       "      <td>0.000000</td>\n",
       "    </tr>\n",
       "    <tr>\n",
       "      <th>75%</th>\n",
       "      <td>39.000000</td>\n",
       "      <td>127.000000</td>\n",
       "      <td>510.000000</td>\n",
       "      <td>0.000000</td>\n",
       "      <td>1.000000</td>\n",
       "      <td>17.000000</td>\n",
       "      <td>216.800000</td>\n",
       "      <td>113.000000</td>\n",
       "      <td>36.860000</td>\n",
       "      <td>234.000000</td>\n",
       "      <td>114.000000</td>\n",
       "      <td>19.890000</td>\n",
       "      <td>234.900000</td>\n",
       "      <td>113.000000</td>\n",
       "      <td>10.570000</td>\n",
       "      <td>12.100000</td>\n",
       "      <td>6.000000</td>\n",
       "      <td>3.270000</td>\n",
       "      <td>2.000000</td>\n",
       "      <td>0.000000</td>\n",
       "    </tr>\n",
       "    <tr>\n",
       "      <th>max</th>\n",
       "      <td>50.000000</td>\n",
       "      <td>243.000000</td>\n",
       "      <td>510.000000</td>\n",
       "      <td>1.000000</td>\n",
       "      <td>1.000000</td>\n",
       "      <td>51.000000</td>\n",
       "      <td>351.500000</td>\n",
       "      <td>165.000000</td>\n",
       "      <td>59.760000</td>\n",
       "      <td>363.700000</td>\n",
       "      <td>170.000000</td>\n",
       "      <td>30.910000</td>\n",
       "      <td>395.000000</td>\n",
       "      <td>175.000000</td>\n",
       "      <td>17.770000</td>\n",
       "      <td>20.000000</td>\n",
       "      <td>20.000000</td>\n",
       "      <td>5.400000</td>\n",
       "      <td>9.000000</td>\n",
       "      <td>1.000000</td>\n",
       "    </tr>\n",
       "  </tbody>\n",
       "</table>\n",
       "</div>"
      ],
      "text/plain": [
       "             State      Acc_len    Area_code     Int_plan   Vmail_plan  \\\n",
       "count  4617.000000  4617.000000  4617.000000  4617.000000  4617.000000   \n",
       "mean     26.041585   100.645224   437.046350     0.096600     0.267706   \n",
       "std      14.790361    39.597194    42.288212     0.295444     0.442812   \n",
       "min       0.000000     1.000000   408.000000     0.000000     0.000000   \n",
       "25%      13.000000    74.000000   408.000000     0.000000     0.000000   \n",
       "50%      26.000000   100.000000   415.000000     0.000000     0.000000   \n",
       "75%      39.000000   127.000000   510.000000     0.000000     1.000000   \n",
       "max      50.000000   243.000000   510.000000     1.000000     1.000000   \n",
       "\n",
       "       Vmail_message      Day_min    Day_calls   Day_charge     Eve_mins  \\\n",
       "count    4617.000000  4617.000000  4617.000000  4617.000000  4617.000000   \n",
       "mean        7.849903   180.447152   100.054364    30.676576   200.429088   \n",
       "std        13.592333    53.983540    19.883027     9.177145    50.557001   \n",
       "min         0.000000     0.000000     0.000000     0.000000     0.000000   \n",
       "25%         0.000000   143.700000    87.000000    24.430000   165.900000   \n",
       "50%         0.000000   180.000000   100.000000    30.600000   200.800000   \n",
       "75%        17.000000   216.800000   113.000000    36.860000   234.000000   \n",
       "max        51.000000   351.500000   165.000000    59.760000   363.700000   \n",
       "\n",
       "         Eve_calls   Eve_charge   Night_mins  Night_calls  Night_charge  \\\n",
       "count  4617.000000  4617.000000  4617.000000  4617.000000   4617.000000   \n",
       "mean    100.179770    17.036703   200.623933    99.944120      9.028185   \n",
       "std      19.821314     4.297332    50.543616    19.935053      2.274488   \n",
       "min       0.000000     0.000000    23.200000    12.000000      1.040000   \n",
       "25%      87.000000    14.100000   167.100000    87.000000      7.520000   \n",
       "50%     101.000000    17.070000   200.800000   100.000000      9.040000   \n",
       "75%     114.000000    19.890000   234.900000   113.000000     10.570000   \n",
       "max     170.000000    30.910000   395.000000   175.000000     17.770000   \n",
       "\n",
       "          Int_mins    Int_calls   Int_charge  Custserv_calls        Churn  \n",
       "count  4617.000000  4617.000000  4617.000000     4617.000000  4617.000000  \n",
       "mean     10.279294     4.433831     2.775926        1.567035     0.142084  \n",
       "std       2.757361     2.457615     0.744413        1.307019     0.349174  \n",
       "min       0.000000     0.000000     0.000000        0.000000     0.000000  \n",
       "25%       8.600000     3.000000     2.320000        1.000000     0.000000  \n",
       "50%      10.300000     4.000000     2.780000        1.000000     0.000000  \n",
       "75%      12.100000     6.000000     3.270000        2.000000     0.000000  \n",
       "max      20.000000    20.000000     5.400000        9.000000     1.000000  "
      ]
     },
     "execution_count": 55,
     "metadata": {},
     "output_type": "execute_result"
    }
   ],
   "source": [
    "ff.describe()"
   ]
  },
  {
   "cell_type": "code",
   "execution_count": 56,
   "id": "38465080",
   "metadata": {},
   "outputs": [],
   "source": [
    "from sklearn.preprocessing import StandardScaler"
   ]
  },
  {
   "cell_type": "code",
   "execution_count": 57,
   "id": "2793e0d1",
   "metadata": {},
   "outputs": [],
   "source": [
    "#scaling on the quantitative data\n",
    "list=['Acc_len','Vmail_message', 'Day_min', 'Day_calls', 'Day_charge', 'Eve_mins',\n",
    "       'Eve_calls', 'Eve_charge', 'Night_mins', 'Night_calls', 'Night_charge',\n",
    "       'Int_mins', 'Int_calls', 'Int_charge', 'Custserv_calls']\n",
    "\n",
    "#list=['State','Acc_len', 'Area_code','Int_plan','Vmail_plan','Vmail_message', 'Day_min', 'Day_calls', 'Day_charge', 'Eve_mins',\n",
    "      # 'Eve_calls', 'Eve_charge', 'Night_mins', 'Night_calls', 'Night_charge',\n",
    "       #'Int_mins', 'Int_calls', 'Int_charge', 'Custserv_calls']\n",
    "        \n",
    "ff[list] = StandardScaler().fit_transform(ff[list])"
   ]
  },
  {
   "cell_type": "code",
   "execution_count": 58,
   "id": "772d4e63",
   "metadata": {},
   "outputs": [
    {
     "name": "stdout",
     "output_type": "stream",
     "text": [
      "<class 'pandas.core.frame.DataFrame'>\n",
      "RangeIndex: 4617 entries, 0 to 4616\n",
      "Data columns (total 20 columns):\n",
      " #   Column          Non-Null Count  Dtype  \n",
      "---  ------          --------------  -----  \n",
      " 0   State           4617 non-null   int64  \n",
      " 1   Acc_len         4617 non-null   float64\n",
      " 2   Area_code       4617 non-null   int64  \n",
      " 3   Int_plan        4617 non-null   int64  \n",
      " 4   Vmail_plan      4617 non-null   int64  \n",
      " 5   Vmail_message   4617 non-null   float64\n",
      " 6   Day_min         4617 non-null   float64\n",
      " 7   Day_calls       4617 non-null   float64\n",
      " 8   Day_charge      4617 non-null   float64\n",
      " 9   Eve_mins        4617 non-null   float64\n",
      " 10  Eve_calls       4617 non-null   float64\n",
      " 11  Eve_charge      4617 non-null   float64\n",
      " 12  Night_mins      4617 non-null   float64\n",
      " 13  Night_calls     4617 non-null   float64\n",
      " 14  Night_charge    4617 non-null   float64\n",
      " 15  Int_mins        4617 non-null   float64\n",
      " 16  Int_calls       4617 non-null   float64\n",
      " 17  Int_charge      4617 non-null   float64\n",
      " 18  Custserv_calls  4617 non-null   float64\n",
      " 19  Churn           4617 non-null   int64  \n",
      "dtypes: float64(15), int64(5)\n",
      "memory usage: 721.5 KB\n"
     ]
    }
   ],
   "source": [
    "ff.info()"
   ]
  },
  {
   "cell_type": "code",
   "execution_count": 59,
   "id": "55cbba7e",
   "metadata": {},
   "outputs": [],
   "source": [
    "ff.Churn=ff.Churn.astype('int64')"
   ]
  },
  {
   "cell_type": "code",
   "execution_count": 60,
   "id": "a508e15d",
   "metadata": {},
   "outputs": [
    {
     "data": {
      "text/html": [
       "<div>\n",
       "<style scoped>\n",
       "    .dataframe tbody tr th:only-of-type {\n",
       "        vertical-align: middle;\n",
       "    }\n",
       "\n",
       "    .dataframe tbody tr th {\n",
       "        vertical-align: top;\n",
       "    }\n",
       "\n",
       "    .dataframe thead th {\n",
       "        text-align: right;\n",
       "    }\n",
       "</style>\n",
       "<table border=\"1\" class=\"dataframe\">\n",
       "  <thead>\n",
       "    <tr style=\"text-align: right;\">\n",
       "      <th></th>\n",
       "      <th>State</th>\n",
       "      <th>Acc_len</th>\n",
       "      <th>Area_code</th>\n",
       "      <th>Int_plan</th>\n",
       "      <th>Vmail_plan</th>\n",
       "      <th>Vmail_message</th>\n",
       "      <th>Day_min</th>\n",
       "      <th>Day_calls</th>\n",
       "      <th>Day_charge</th>\n",
       "      <th>Eve_mins</th>\n",
       "      <th>Eve_calls</th>\n",
       "      <th>Eve_charge</th>\n",
       "      <th>Night_mins</th>\n",
       "      <th>Night_calls</th>\n",
       "      <th>Night_charge</th>\n",
       "      <th>Int_mins</th>\n",
       "      <th>Int_calls</th>\n",
       "      <th>Int_charge</th>\n",
       "      <th>Custserv_calls</th>\n",
       "      <th>Churn</th>\n",
       "    </tr>\n",
       "  </thead>\n",
       "  <tbody>\n",
       "    <tr>\n",
       "      <th>count</th>\n",
       "      <td>4617.000000</td>\n",
       "      <td>4.617000e+03</td>\n",
       "      <td>4617.000000</td>\n",
       "      <td>4617.000000</td>\n",
       "      <td>4617.000000</td>\n",
       "      <td>4.617000e+03</td>\n",
       "      <td>4.617000e+03</td>\n",
       "      <td>4.617000e+03</td>\n",
       "      <td>4.617000e+03</td>\n",
       "      <td>4.617000e+03</td>\n",
       "      <td>4.617000e+03</td>\n",
       "      <td>4.617000e+03</td>\n",
       "      <td>4.617000e+03</td>\n",
       "      <td>4.617000e+03</td>\n",
       "      <td>4.617000e+03</td>\n",
       "      <td>4.617000e+03</td>\n",
       "      <td>4.617000e+03</td>\n",
       "      <td>4.617000e+03</td>\n",
       "      <td>4.617000e+03</td>\n",
       "      <td>4617.000000</td>\n",
       "    </tr>\n",
       "    <tr>\n",
       "      <th>mean</th>\n",
       "      <td>26.041585</td>\n",
       "      <td>-1.077279e-16</td>\n",
       "      <td>437.046350</td>\n",
       "      <td>0.096600</td>\n",
       "      <td>0.267706</td>\n",
       "      <td>1.538971e-17</td>\n",
       "      <td>2.639335e-16</td>\n",
       "      <td>-1.477412e-16</td>\n",
       "      <td>-2.539302e-17</td>\n",
       "      <td>-2.385404e-16</td>\n",
       "      <td>-9.926361e-17</td>\n",
       "      <td>4.778504e-16</td>\n",
       "      <td>3.129882e-16</td>\n",
       "      <td>2.954824e-16</td>\n",
       "      <td>-3.241457e-16</td>\n",
       "      <td>-1.600529e-16</td>\n",
       "      <td>6.155882e-18</td>\n",
       "      <td>-2.939434e-16</td>\n",
       "      <td>5.232500e-17</td>\n",
       "      <td>0.142084</td>\n",
       "    </tr>\n",
       "    <tr>\n",
       "      <th>std</th>\n",
       "      <td>14.790361</td>\n",
       "      <td>1.000108e+00</td>\n",
       "      <td>42.288212</td>\n",
       "      <td>0.295444</td>\n",
       "      <td>0.442812</td>\n",
       "      <td>1.000108e+00</td>\n",
       "      <td>1.000108e+00</td>\n",
       "      <td>1.000108e+00</td>\n",
       "      <td>1.000108e+00</td>\n",
       "      <td>1.000108e+00</td>\n",
       "      <td>1.000108e+00</td>\n",
       "      <td>1.000108e+00</td>\n",
       "      <td>1.000108e+00</td>\n",
       "      <td>1.000108e+00</td>\n",
       "      <td>1.000108e+00</td>\n",
       "      <td>1.000108e+00</td>\n",
       "      <td>1.000108e+00</td>\n",
       "      <td>1.000108e+00</td>\n",
       "      <td>1.000108e+00</td>\n",
       "      <td>0.349174</td>\n",
       "    </tr>\n",
       "    <tr>\n",
       "      <th>min</th>\n",
       "      <td>0.000000</td>\n",
       "      <td>-2.516744e+00</td>\n",
       "      <td>408.000000</td>\n",
       "      <td>0.000000</td>\n",
       "      <td>0.000000</td>\n",
       "      <td>-5.775869e-01</td>\n",
       "      <td>-3.342995e+00</td>\n",
       "      <td>-5.032694e+00</td>\n",
       "      <td>-3.343076e+00</td>\n",
       "      <td>-3.964847e+00</td>\n",
       "      <td>-5.054691e+00</td>\n",
       "      <td>-3.964913e+00</td>\n",
       "      <td>-3.510694e+00</td>\n",
       "      <td>-4.412010e+00</td>\n",
       "      <td>-3.512462e+00</td>\n",
       "      <td>-3.728350e+00</td>\n",
       "      <td>-1.804315e+00</td>\n",
       "      <td>-3.729418e+00</td>\n",
       "      <td>-1.199068e+00</td>\n",
       "      <td>0.000000</td>\n",
       "    </tr>\n",
       "    <tr>\n",
       "      <th>25%</th>\n",
       "      <td>13.000000</td>\n",
       "      <td>-6.729798e-01</td>\n",
       "      <td>408.000000</td>\n",
       "      <td>0.000000</td>\n",
       "      <td>0.000000</td>\n",
       "      <td>-5.775869e-01</td>\n",
       "      <td>-6.807840e-01</td>\n",
       "      <td>-6.566293e-01</td>\n",
       "      <td>-6.807402e-01</td>\n",
       "      <td>-6.830474e-01</td>\n",
       "      <td>-6.650012e-01</td>\n",
       "      <td>-6.834523e-01</td>\n",
       "      <td>-6.633393e-01</td>\n",
       "      <td>-6.493849e-01</td>\n",
       "      <td>-6.631596e-01</td>\n",
       "      <td>-6.090880e-01</td>\n",
       "      <td>-5.834873e-01</td>\n",
       "      <td>-6.125301e-01</td>\n",
       "      <td>-4.338854e-01</td>\n",
       "      <td>0.000000</td>\n",
       "    </tr>\n",
       "    <tr>\n",
       "      <th>50%</th>\n",
       "      <td>26.000000</td>\n",
       "      <td>-1.629646e-02</td>\n",
       "      <td>415.000000</td>\n",
       "      <td>0.000000</td>\n",
       "      <td>0.000000</td>\n",
       "      <td>-5.775869e-01</td>\n",
       "      <td>-8.284011e-03</td>\n",
       "      <td>-2.734503e-03</td>\n",
       "      <td>-8.345078e-03</td>\n",
       "      <td>7.337303e-03</td>\n",
       "      <td>4.138567e-02</td>\n",
       "      <td>7.749021e-03</td>\n",
       "      <td>3.483838e-03</td>\n",
       "      <td>2.803428e-03</td>\n",
       "      <td>5.195153e-03</td>\n",
       "      <td>7.510198e-03</td>\n",
       "      <td>-1.765446e-01</td>\n",
       "      <td>5.473462e-03</td>\n",
       "      <td>-4.338854e-01</td>\n",
       "      <td>0.000000</td>\n",
       "    </tr>\n",
       "    <tr>\n",
       "      <th>75%</th>\n",
       "      <td>39.000000</td>\n",
       "      <td>6.656439e-01</td>\n",
       "      <td>510.000000</td>\n",
       "      <td>0.000000</td>\n",
       "      <td>1.000000</td>\n",
       "      <td>6.732537e-01</td>\n",
       "      <td>6.734791e-01</td>\n",
       "      <td>6.511603e-01</td>\n",
       "      <td>6.738581e-01</td>\n",
       "      <td>6.640930e-01</td>\n",
       "      <td>6.973164e-01</td>\n",
       "      <td>6.640411e-01</td>\n",
       "      <td>6.782217e-01</td>\n",
       "      <td>6.549917e-01</td>\n",
       "      <td>6.779470e-01</td>\n",
       "      <td>6.603789e-01</td>\n",
       "      <td>6.373409e-01</td>\n",
       "      <td>6.637816e-01</td>\n",
       "      <td>3.312975e-01</td>\n",
       "      <td>0.000000</td>\n",
       "    </tr>\n",
       "    <tr>\n",
       "      <th>max</th>\n",
       "      <td>50.000000</td>\n",
       "      <td>3.595462e+00</td>\n",
       "      <td>510.000000</td>\n",
       "      <td>1.000000</td>\n",
       "      <td>1.000000</td>\n",
       "      <td>3.174935e+00</td>\n",
       "      <td>3.168954e+00</td>\n",
       "      <td>3.266739e+00</td>\n",
       "      <td>3.169458e+00</td>\n",
       "      <td>3.229792e+00</td>\n",
       "      <td>3.522864e+00</td>\n",
       "      <td>3.228700e+00</td>\n",
       "      <td>3.846126e+00</td>\n",
       "      <td>3.765428e+00</td>\n",
       "      <td>3.843838e+00</td>\n",
       "      <td>3.525747e+00</td>\n",
       "      <td>6.334539e+00</td>\n",
       "      <td>3.525407e+00</td>\n",
       "      <td>5.687578e+00</td>\n",
       "      <td>1.000000</td>\n",
       "    </tr>\n",
       "  </tbody>\n",
       "</table>\n",
       "</div>"
      ],
      "text/plain": [
       "             State       Acc_len    Area_code     Int_plan   Vmail_plan  \\\n",
       "count  4617.000000  4.617000e+03  4617.000000  4617.000000  4617.000000   \n",
       "mean     26.041585 -1.077279e-16   437.046350     0.096600     0.267706   \n",
       "std      14.790361  1.000108e+00    42.288212     0.295444     0.442812   \n",
       "min       0.000000 -2.516744e+00   408.000000     0.000000     0.000000   \n",
       "25%      13.000000 -6.729798e-01   408.000000     0.000000     0.000000   \n",
       "50%      26.000000 -1.629646e-02   415.000000     0.000000     0.000000   \n",
       "75%      39.000000  6.656439e-01   510.000000     0.000000     1.000000   \n",
       "max      50.000000  3.595462e+00   510.000000     1.000000     1.000000   \n",
       "\n",
       "       Vmail_message       Day_min     Day_calls    Day_charge      Eve_mins  \\\n",
       "count   4.617000e+03  4.617000e+03  4.617000e+03  4.617000e+03  4.617000e+03   \n",
       "mean    1.538971e-17  2.639335e-16 -1.477412e-16 -2.539302e-17 -2.385404e-16   \n",
       "std     1.000108e+00  1.000108e+00  1.000108e+00  1.000108e+00  1.000108e+00   \n",
       "min    -5.775869e-01 -3.342995e+00 -5.032694e+00 -3.343076e+00 -3.964847e+00   \n",
       "25%    -5.775869e-01 -6.807840e-01 -6.566293e-01 -6.807402e-01 -6.830474e-01   \n",
       "50%    -5.775869e-01 -8.284011e-03 -2.734503e-03 -8.345078e-03  7.337303e-03   \n",
       "75%     6.732537e-01  6.734791e-01  6.511603e-01  6.738581e-01  6.640930e-01   \n",
       "max     3.174935e+00  3.168954e+00  3.266739e+00  3.169458e+00  3.229792e+00   \n",
       "\n",
       "          Eve_calls    Eve_charge    Night_mins   Night_calls  Night_charge  \\\n",
       "count  4.617000e+03  4.617000e+03  4.617000e+03  4.617000e+03  4.617000e+03   \n",
       "mean  -9.926361e-17  4.778504e-16  3.129882e-16  2.954824e-16 -3.241457e-16   \n",
       "std    1.000108e+00  1.000108e+00  1.000108e+00  1.000108e+00  1.000108e+00   \n",
       "min   -5.054691e+00 -3.964913e+00 -3.510694e+00 -4.412010e+00 -3.512462e+00   \n",
       "25%   -6.650012e-01 -6.834523e-01 -6.633393e-01 -6.493849e-01 -6.631596e-01   \n",
       "50%    4.138567e-02  7.749021e-03  3.483838e-03  2.803428e-03  5.195153e-03   \n",
       "75%    6.973164e-01  6.640411e-01  6.782217e-01  6.549917e-01  6.779470e-01   \n",
       "max    3.522864e+00  3.228700e+00  3.846126e+00  3.765428e+00  3.843838e+00   \n",
       "\n",
       "           Int_mins     Int_calls    Int_charge  Custserv_calls        Churn  \n",
       "count  4.617000e+03  4.617000e+03  4.617000e+03    4.617000e+03  4617.000000  \n",
       "mean  -1.600529e-16  6.155882e-18 -2.939434e-16    5.232500e-17     0.142084  \n",
       "std    1.000108e+00  1.000108e+00  1.000108e+00    1.000108e+00     0.349174  \n",
       "min   -3.728350e+00 -1.804315e+00 -3.729418e+00   -1.199068e+00     0.000000  \n",
       "25%   -6.090880e-01 -5.834873e-01 -6.125301e-01   -4.338854e-01     0.000000  \n",
       "50%    7.510198e-03 -1.765446e-01  5.473462e-03   -4.338854e-01     0.000000  \n",
       "75%    6.603789e-01  6.373409e-01  6.637816e-01    3.312975e-01     0.000000  \n",
       "max    3.525747e+00  6.334539e+00  3.525407e+00    5.687578e+00     1.000000  "
      ]
     },
     "execution_count": 60,
     "metadata": {},
     "output_type": "execute_result"
    }
   ],
   "source": [
    "ff.describe()"
   ]
  },
  {
   "cell_type": "code",
   "execution_count": 61,
   "id": "aaf2345c",
   "metadata": {},
   "outputs": [],
   "source": [
    "data_corr=ff.corr()"
   ]
  },
  {
   "cell_type": "code",
   "execution_count": 62,
   "id": "3b0fe98b",
   "metadata": {},
   "outputs": [
    {
     "data": {
      "text/plain": [
       "Vmail_plan       -0.110149\n",
       "Vmail_message    -0.096884\n",
       "Int_calls        -0.045844\n",
       "Night_calls      -0.006671\n",
       "Eve_calls         0.001943\n",
       "State             0.010979\n",
       "Area_code         0.011995\n",
       "Day_calls         0.016268\n",
       "Acc_len           0.018046\n",
       "Night_charge      0.043260\n",
       "Night_mins        0.043262\n",
       "Int_charge        0.064728\n",
       "Int_mins          0.064731\n",
       "Eve_charge        0.087036\n",
       "Eve_mins          0.087042\n",
       "Day_charge        0.202434\n",
       "Day_min           0.202439\n",
       "Custserv_calls    0.209351\n",
       "Int_plan          0.257524\n",
       "Churn             1.000000\n",
       "Name: Churn, dtype: float64"
      ]
     },
     "execution_count": 62,
     "metadata": {},
     "output_type": "execute_result"
    }
   ],
   "source": [
    "data_corr.Churn.sort_values()"
   ]
  },
  {
   "cell_type": "code",
   "execution_count": 63,
   "id": "98f428ae",
   "metadata": {},
   "outputs": [],
   "source": [
    "df_after_scale = ff.to_csv('df_after_scale.csv',index=False)"
   ]
  },
  {
   "cell_type": "markdown",
   "id": "7b78b176",
   "metadata": {},
   "source": [
    "## conclusion we can see that day mins-day charge / eve_mins-eve charge / night mins -night charge/ Int mins and Int charge are highly correlated"
   ]
  },
  {
   "cell_type": "code",
   "execution_count": 64,
   "id": "de60551d",
   "metadata": {},
   "outputs": [],
   "source": [
    "df = ff.drop(['Day_charge','Eve_charge','Night_charge','Int_charge'],axis=1)"
   ]
  },
  {
   "cell_type": "code",
   "execution_count": 65,
   "id": "91a7ee43",
   "metadata": {},
   "outputs": [
    {
     "data": {
      "text/html": [
       "<div>\n",
       "<style scoped>\n",
       "    .dataframe tbody tr th:only-of-type {\n",
       "        vertical-align: middle;\n",
       "    }\n",
       "\n",
       "    .dataframe tbody tr th {\n",
       "        vertical-align: top;\n",
       "    }\n",
       "\n",
       "    .dataframe thead th {\n",
       "        text-align: right;\n",
       "    }\n",
       "</style>\n",
       "<table border=\"1\" class=\"dataframe\">\n",
       "  <thead>\n",
       "    <tr style=\"text-align: right;\">\n",
       "      <th></th>\n",
       "      <th>State</th>\n",
       "      <th>Acc_len</th>\n",
       "      <th>Area_code</th>\n",
       "      <th>Int_plan</th>\n",
       "      <th>Vmail_plan</th>\n",
       "      <th>Vmail_message</th>\n",
       "      <th>Day_min</th>\n",
       "      <th>Day_calls</th>\n",
       "      <th>Eve_mins</th>\n",
       "      <th>Eve_calls</th>\n",
       "      <th>Night_mins</th>\n",
       "      <th>Night_calls</th>\n",
       "      <th>Int_mins</th>\n",
       "      <th>Int_calls</th>\n",
       "      <th>Custserv_calls</th>\n",
       "      <th>Churn</th>\n",
       "    </tr>\n",
       "  </thead>\n",
       "  <tbody>\n",
       "    <tr>\n",
       "      <th>0</th>\n",
       "      <td>16</td>\n",
       "      <td>0.690901</td>\n",
       "      <td>415</td>\n",
       "      <td>0</td>\n",
       "      <td>1</td>\n",
       "      <td>1.261885</td>\n",
       "      <td>1.568293</td>\n",
       "      <td>0.500261</td>\n",
       "      <td>-0.059921</td>\n",
       "      <td>-0.059527</td>\n",
       "      <td>0.872135</td>\n",
       "      <td>-0.448712</td>\n",
       "      <td>-0.101301</td>\n",
       "      <td>-0.583487</td>\n",
       "      <td>-0.433885</td>\n",
       "      <td>0</td>\n",
       "    </tr>\n",
       "    <tr>\n",
       "      <th>1</th>\n",
       "      <td>35</td>\n",
       "      <td>0.160503</td>\n",
       "      <td>415</td>\n",
       "      <td>0</td>\n",
       "      <td>1</td>\n",
       "      <td>1.335463</td>\n",
       "      <td>-0.349166</td>\n",
       "      <td>1.154156</td>\n",
       "      <td>-0.097506</td>\n",
       "      <td>0.142298</td>\n",
       "      <td>1.064069</td>\n",
       "      <td>0.153308</td>\n",
       "      <td>1.240707</td>\n",
       "      <td>-0.583487</td>\n",
       "      <td>-0.433885</td>\n",
       "      <td>0</td>\n",
       "    </tr>\n",
       "    <tr>\n",
       "      <th>2</th>\n",
       "      <td>31</td>\n",
       "      <td>0.918214</td>\n",
       "      <td>415</td>\n",
       "      <td>0</td>\n",
       "      <td>0</td>\n",
       "      <td>-0.577587</td>\n",
       "      <td>1.166275</td>\n",
       "      <td>0.701460</td>\n",
       "      <td>-1.567294</td>\n",
       "      <td>0.495492</td>\n",
       "      <td>-0.752381</td>\n",
       "      <td>0.203477</td>\n",
       "      <td>0.696649</td>\n",
       "      <td>0.230398</td>\n",
       "      <td>-1.199068</td>\n",
       "      <td>0</td>\n",
       "    </tr>\n",
       "    <tr>\n",
       "      <th>3</th>\n",
       "      <td>35</td>\n",
       "      <td>-0.420409</td>\n",
       "      <td>408</td>\n",
       "      <td>1</td>\n",
       "      <td>0</td>\n",
       "      <td>-0.577587</td>\n",
       "      <td>2.203741</td>\n",
       "      <td>-1.461423</td>\n",
       "      <td>-2.740354</td>\n",
       "      <td>-0.614545</td>\n",
       "      <td>-0.073686</td>\n",
       "      <td>-0.549048</td>\n",
       "      <td>-1.334498</td>\n",
       "      <td>1.044284</td>\n",
       "      <td>0.331298</td>\n",
       "      <td>0</td>\n",
       "    </tr>\n",
       "    <tr>\n",
       "      <th>4</th>\n",
       "      <td>36</td>\n",
       "      <td>-0.647723</td>\n",
       "      <td>415</td>\n",
       "      <td>1</td>\n",
       "      <td>0</td>\n",
       "      <td>-0.577587</td>\n",
       "      <td>-0.254682</td>\n",
       "      <td>0.651160</td>\n",
       "      <td>-1.031207</td>\n",
       "      <td>1.100966</td>\n",
       "      <td>-0.271556</td>\n",
       "      <td>1.056338</td>\n",
       "      <td>-0.065031</td>\n",
       "      <td>-0.583487</td>\n",
       "      <td>1.096480</td>\n",
       "      <td>0</td>\n",
       "    </tr>\n",
       "  </tbody>\n",
       "</table>\n",
       "</div>"
      ],
      "text/plain": [
       "   State   Acc_len  Area_code  Int_plan  Vmail_plan  Vmail_message   Day_min  \\\n",
       "0     16  0.690901        415         0           1       1.261885  1.568293   \n",
       "1     35  0.160503        415         0           1       1.335463 -0.349166   \n",
       "2     31  0.918214        415         0           0      -0.577587  1.166275   \n",
       "3     35 -0.420409        408         1           0      -0.577587  2.203741   \n",
       "4     36 -0.647723        415         1           0      -0.577587 -0.254682   \n",
       "\n",
       "   Day_calls  Eve_mins  Eve_calls  Night_mins  Night_calls  Int_mins  \\\n",
       "0   0.500261 -0.059921  -0.059527    0.872135    -0.448712 -0.101301   \n",
       "1   1.154156 -0.097506   0.142298    1.064069     0.153308  1.240707   \n",
       "2   0.701460 -1.567294   0.495492   -0.752381     0.203477  0.696649   \n",
       "3  -1.461423 -2.740354  -0.614545   -0.073686    -0.549048 -1.334498   \n",
       "4   0.651160 -1.031207   1.100966   -0.271556     1.056338 -0.065031   \n",
       "\n",
       "   Int_calls  Custserv_calls  Churn  \n",
       "0  -0.583487       -0.433885      0  \n",
       "1  -0.583487       -0.433885      0  \n",
       "2   0.230398       -1.199068      0  \n",
       "3   1.044284        0.331298      0  \n",
       "4  -0.583487        1.096480      0  "
      ]
     },
     "execution_count": 65,
     "metadata": {},
     "output_type": "execute_result"
    }
   ],
   "source": [
    "df.head()"
   ]
  },
  {
   "cell_type": "code",
   "execution_count": 66,
   "id": "6a4fcb58",
   "metadata": {},
   "outputs": [
    {
     "name": "stdout",
     "output_type": "stream",
     "text": [
      "<class 'pandas.core.frame.DataFrame'>\n",
      "RangeIndex: 4617 entries, 0 to 4616\n",
      "Data columns (total 16 columns):\n",
      " #   Column          Non-Null Count  Dtype  \n",
      "---  ------          --------------  -----  \n",
      " 0   State           4617 non-null   int64  \n",
      " 1   Acc_len         4617 non-null   float64\n",
      " 2   Area_code       4617 non-null   int64  \n",
      " 3   Int_plan        4617 non-null   int64  \n",
      " 4   Vmail_plan      4617 non-null   int64  \n",
      " 5   Vmail_message   4617 non-null   float64\n",
      " 6   Day_min         4617 non-null   float64\n",
      " 7   Day_calls       4617 non-null   float64\n",
      " 8   Eve_mins        4617 non-null   float64\n",
      " 9   Eve_calls       4617 non-null   float64\n",
      " 10  Night_mins      4617 non-null   float64\n",
      " 11  Night_calls     4617 non-null   float64\n",
      " 12  Int_mins        4617 non-null   float64\n",
      " 13  Int_calls       4617 non-null   float64\n",
      " 14  Custserv_calls  4617 non-null   float64\n",
      " 15  Churn           4617 non-null   int64  \n",
      "dtypes: float64(11), int64(5)\n",
      "memory usage: 577.2 KB\n"
     ]
    }
   ],
   "source": [
    "df.info()"
   ]
  },
  {
   "cell_type": "code",
   "execution_count": 67,
   "id": "25a0890e",
   "metadata": {},
   "outputs": [],
   "source": [
    "df=df.to_csv('df_scale_corr.csv',index=False)"
   ]
  },
  {
   "cell_type": "markdown",
   "id": "bb27ec2f",
   "metadata": {},
   "source": [
    "## since the output variable is Goal- churn or no churn TRIAL AND ERROR between logistic regression ,SVM ,Randomforest"
   ]
  },
  {
   "cell_type": "code",
   "execution_count": 68,
   "id": "26d039f1",
   "metadata": {},
   "outputs": [],
   "source": [
    "from sklearn.linear_model import LogisticRegression\n",
    "from sklearn.svm import SVC\n",
    "from sklearn.ensemble import RandomForestClassifier\n",
    "from sklearn.model_selection import train_test_split\n",
    "from collections import Counter\n",
    "from imblearn.over_sampling import SMOTE\n",
    "from sklearn.metrics import accuracy_score,classification_report,confusion_matrix,recall_score,precision_score"
   ]
  },
  {
   "cell_type": "code",
   "execution_count": 69,
   "id": "ec1e16b6",
   "metadata": {},
   "outputs": [],
   "source": [
    "df= pd.read_csv('df_after_scale.csv')"
   ]
  },
  {
   "cell_type": "code",
   "execution_count": 70,
   "id": "125cc1de",
   "metadata": {},
   "outputs": [],
   "source": [
    "X = df.drop('Churn',axis=1)"
   ]
  },
  {
   "cell_type": "code",
   "execution_count": 71,
   "id": "127c8758",
   "metadata": {},
   "outputs": [
    {
     "data": {
      "text/html": [
       "<div>\n",
       "<style scoped>\n",
       "    .dataframe tbody tr th:only-of-type {\n",
       "        vertical-align: middle;\n",
       "    }\n",
       "\n",
       "    .dataframe tbody tr th {\n",
       "        vertical-align: top;\n",
       "    }\n",
       "\n",
       "    .dataframe thead th {\n",
       "        text-align: right;\n",
       "    }\n",
       "</style>\n",
       "<table border=\"1\" class=\"dataframe\">\n",
       "  <thead>\n",
       "    <tr style=\"text-align: right;\">\n",
       "      <th></th>\n",
       "      <th>State</th>\n",
       "      <th>Acc_len</th>\n",
       "      <th>Area_code</th>\n",
       "      <th>Int_plan</th>\n",
       "      <th>Vmail_plan</th>\n",
       "      <th>Vmail_message</th>\n",
       "      <th>Day_min</th>\n",
       "      <th>Day_calls</th>\n",
       "      <th>Day_charge</th>\n",
       "      <th>Eve_mins</th>\n",
       "      <th>Eve_calls</th>\n",
       "      <th>Eve_charge</th>\n",
       "      <th>Night_mins</th>\n",
       "      <th>Night_calls</th>\n",
       "      <th>Night_charge</th>\n",
       "      <th>Int_mins</th>\n",
       "      <th>Int_calls</th>\n",
       "      <th>Int_charge</th>\n",
       "      <th>Custserv_calls</th>\n",
       "    </tr>\n",
       "  </thead>\n",
       "  <tbody>\n",
       "    <tr>\n",
       "      <th>0</th>\n",
       "      <td>16</td>\n",
       "      <td>0.690901</td>\n",
       "      <td>415</td>\n",
       "      <td>0</td>\n",
       "      <td>1</td>\n",
       "      <td>1.261885</td>\n",
       "      <td>1.568293</td>\n",
       "      <td>0.500261</td>\n",
       "      <td>1.568569</td>\n",
       "      <td>-0.059921</td>\n",
       "      <td>-0.059527</td>\n",
       "      <td>-0.059742</td>\n",
       "      <td>0.872135</td>\n",
       "      <td>-0.448712</td>\n",
       "      <td>0.871418</td>\n",
       "      <td>-0.101301</td>\n",
       "      <td>-0.583487</td>\n",
       "      <td>-0.102005</td>\n",
       "      <td>-0.433885</td>\n",
       "    </tr>\n",
       "    <tr>\n",
       "      <th>1</th>\n",
       "      <td>35</td>\n",
       "      <td>0.160503</td>\n",
       "      <td>415</td>\n",
       "      <td>0</td>\n",
       "      <td>1</td>\n",
       "      <td>1.335463</td>\n",
       "      <td>-0.349166</td>\n",
       "      <td>1.154156</td>\n",
       "      <td>-0.349447</td>\n",
       "      <td>-0.097506</td>\n",
       "      <td>0.142298</td>\n",
       "      <td>-0.096978</td>\n",
       "      <td>1.064069</td>\n",
       "      <td>0.153308</td>\n",
       "      <td>1.064889</td>\n",
       "      <td>1.240707</td>\n",
       "      <td>-0.583487</td>\n",
       "      <td>1.241481</td>\n",
       "      <td>-0.433885</td>\n",
       "    </tr>\n",
       "    <tr>\n",
       "      <th>2</th>\n",
       "      <td>31</td>\n",
       "      <td>0.918214</td>\n",
       "      <td>415</td>\n",
       "      <td>0</td>\n",
       "      <td>0</td>\n",
       "      <td>-0.577587</td>\n",
       "      <td>1.166275</td>\n",
       "      <td>0.701460</td>\n",
       "      <td>1.166439</td>\n",
       "      <td>-1.567294</td>\n",
       "      <td>0.495492</td>\n",
       "      <td>-1.567818</td>\n",
       "      <td>-0.752381</td>\n",
       "      <td>0.203477</td>\n",
       "      <td>-0.751101</td>\n",
       "      <td>0.696649</td>\n",
       "      <td>0.230398</td>\n",
       "      <td>0.690651</td>\n",
       "      <td>-1.199068</td>\n",
       "    </tr>\n",
       "    <tr>\n",
       "      <th>3</th>\n",
       "      <td>35</td>\n",
       "      <td>-0.420409</td>\n",
       "      <td>408</td>\n",
       "      <td>1</td>\n",
       "      <td>0</td>\n",
       "      <td>-0.577587</td>\n",
       "      <td>2.203741</td>\n",
       "      <td>-1.461423</td>\n",
       "      <td>2.203911</td>\n",
       "      <td>-2.740354</td>\n",
       "      <td>-0.614545</td>\n",
       "      <td>-2.740765</td>\n",
       "      <td>-0.073686</td>\n",
       "      <td>-0.549048</td>\n",
       "      <td>-0.073952</td>\n",
       "      <td>-1.334498</td>\n",
       "      <td>1.044284</td>\n",
       "      <td>-1.338013</td>\n",
       "      <td>0.331298</td>\n",
       "    </tr>\n",
       "    <tr>\n",
       "      <th>4</th>\n",
       "      <td>36</td>\n",
       "      <td>-0.647723</td>\n",
       "      <td>415</td>\n",
       "      <td>1</td>\n",
       "      <td>0</td>\n",
       "      <td>-0.577587</td>\n",
       "      <td>-0.254682</td>\n",
       "      <td>0.651160</td>\n",
       "      <td>-0.254636</td>\n",
       "      <td>-1.031207</td>\n",
       "      <td>1.100966</td>\n",
       "      <td>-1.030217</td>\n",
       "      <td>-0.271556</td>\n",
       "      <td>1.056338</td>\n",
       "      <td>-0.271820</td>\n",
       "      <td>-0.065031</td>\n",
       "      <td>-0.583487</td>\n",
       "      <td>-0.061701</td>\n",
       "      <td>1.096480</td>\n",
       "    </tr>\n",
       "  </tbody>\n",
       "</table>\n",
       "</div>"
      ],
      "text/plain": [
       "   State   Acc_len  Area_code  Int_plan  Vmail_plan  Vmail_message   Day_min  \\\n",
       "0     16  0.690901        415         0           1       1.261885  1.568293   \n",
       "1     35  0.160503        415         0           1       1.335463 -0.349166   \n",
       "2     31  0.918214        415         0           0      -0.577587  1.166275   \n",
       "3     35 -0.420409        408         1           0      -0.577587  2.203741   \n",
       "4     36 -0.647723        415         1           0      -0.577587 -0.254682   \n",
       "\n",
       "   Day_calls  Day_charge  Eve_mins  Eve_calls  Eve_charge  Night_mins  \\\n",
       "0   0.500261    1.568569 -0.059921  -0.059527   -0.059742    0.872135   \n",
       "1   1.154156   -0.349447 -0.097506   0.142298   -0.096978    1.064069   \n",
       "2   0.701460    1.166439 -1.567294   0.495492   -1.567818   -0.752381   \n",
       "3  -1.461423    2.203911 -2.740354  -0.614545   -2.740765   -0.073686   \n",
       "4   0.651160   -0.254636 -1.031207   1.100966   -1.030217   -0.271556   \n",
       "\n",
       "   Night_calls  Night_charge  Int_mins  Int_calls  Int_charge  Custserv_calls  \n",
       "0    -0.448712      0.871418 -0.101301  -0.583487   -0.102005       -0.433885  \n",
       "1     0.153308      1.064889  1.240707  -0.583487    1.241481       -0.433885  \n",
       "2     0.203477     -0.751101  0.696649   0.230398    0.690651       -1.199068  \n",
       "3    -0.549048     -0.073952 -1.334498   1.044284   -1.338013        0.331298  \n",
       "4     1.056338     -0.271820 -0.065031  -0.583487   -0.061701        1.096480  "
      ]
     },
     "execution_count": 71,
     "metadata": {},
     "output_type": "execute_result"
    }
   ],
   "source": [
    "X.head()"
   ]
  },
  {
   "cell_type": "code",
   "execution_count": 72,
   "id": "7a93e59e",
   "metadata": {},
   "outputs": [],
   "source": [
    "Y = df.Churn"
   ]
  },
  {
   "cell_type": "code",
   "execution_count": 73,
   "id": "f8827b4e",
   "metadata": {},
   "outputs": [],
   "source": [
    "X_train,X_test,Y_train,Y_test = train_test_split(X,Y,test_size=0.3,random_state=10)"
   ]
  },
  {
   "cell_type": "code",
   "execution_count": 74,
   "id": "37aadcf0",
   "metadata": {},
   "outputs": [
    {
     "name": "stdout",
     "output_type": "stream",
     "text": [
      "(3231, 19)\n",
      "(1386, 19)\n"
     ]
    }
   ],
   "source": [
    "print(X_train.shape)\n",
    "print(X_test.shape)"
   ]
  },
  {
   "cell_type": "code",
   "execution_count": 75,
   "id": "a8b23c01",
   "metadata": {},
   "outputs": [
    {
     "name": "stdout",
     "output_type": "stream",
     "text": [
      "Counter({0: 2761, 1: 470})\n",
      "Counter({0: 1200, 1: 186})\n"
     ]
    }
   ],
   "source": [
    "print(Counter(Y_train))\n",
    "print(Counter(Y_test))"
   ]
  },
  {
   "cell_type": "code",
   "execution_count": 76,
   "id": "5dd1cd8f",
   "metadata": {},
   "outputs": [],
   "source": [
    "smote = SMOTE()"
   ]
  },
  {
   "cell_type": "code",
   "execution_count": 80,
   "id": "8f86353d",
   "metadata": {},
   "outputs": [],
   "source": [
    "X_train_smote,Y_train_smote = smote.fit_resample(X_train,Y_train)"
   ]
  },
  {
   "cell_type": "code",
   "execution_count": 82,
   "id": "364e5192",
   "metadata": {},
   "outputs": [
    {
     "name": "stdout",
     "output_type": "stream",
     "text": [
      "Counter({0: 2761, 1: 470})\n",
      "Counter({0: 2761, 1: 2761})\n"
     ]
    }
   ],
   "source": [
    "print(Counter(Y_train))\n",
    "print(Counter(Y_train_smote))"
   ]
  },
  {
   "cell_type": "markdown",
   "id": "dee7c093",
   "metadata": {},
   "source": [
    "# Logistic Regression"
   ]
  },
  {
   "cell_type": "code",
   "execution_count": 84,
   "id": "dfd56c29",
   "metadata": {},
   "outputs": [
    {
     "name": "stderr",
     "output_type": "stream",
     "text": [
      "C:\\Users\\sajid\\.conda\\envs\\machinelearning\\lib\\site-packages\\sklearn\\linear_model\\_logistic.py:814: ConvergenceWarning: lbfgs failed to converge (status=1):\n",
      "STOP: TOTAL NO. of ITERATIONS REACHED LIMIT.\n",
      "\n",
      "Increase the number of iterations (max_iter) or scale the data as shown in:\n",
      "    https://scikit-learn.org/stable/modules/preprocessing.html\n",
      "Please also refer to the documentation for alternative solver options:\n",
      "    https://scikit-learn.org/stable/modules/linear_model.html#logistic-regression\n",
      "  n_iter_i = _check_optimize_result(\n"
     ]
    },
    {
     "data": {
      "text/plain": [
       "LogisticRegression()"
      ]
     },
     "execution_count": 84,
     "metadata": {},
     "output_type": "execute_result"
    }
   ],
   "source": [
    "clf = LogisticRegression()\n",
    "clf.fit(X_train_smote,Y_train_smote)"
   ]
  },
  {
   "cell_type": "code",
   "execution_count": 85,
   "id": "e212a5e1",
   "metadata": {},
   "outputs": [],
   "source": [
    "Y_pred=clf.predict(X_test)"
   ]
  },
  {
   "cell_type": "code",
   "execution_count": 87,
   "id": "7fb95967",
   "metadata": {},
   "outputs": [
    {
     "data": {
      "text/plain": [
       "0.7438672438672439"
      ]
     },
     "execution_count": 87,
     "metadata": {},
     "output_type": "execute_result"
    }
   ],
   "source": [
    "accuracy_score(Y_test,Y_pred)"
   ]
  },
  {
   "cell_type": "code",
   "execution_count": 88,
   "id": "cc720dbb",
   "metadata": {},
   "outputs": [
    {
     "data": {
      "text/plain": [
       "0.7311827956989247"
      ]
     },
     "execution_count": 88,
     "metadata": {},
     "output_type": "execute_result"
    }
   ],
   "source": [
    "recall_score(Y_test,Y_pred)"
   ]
  },
  {
   "cell_type": "code",
   "execution_count": 89,
   "id": "3f51eab7",
   "metadata": {},
   "outputs": [
    {
     "data": {
      "text/plain": [
       "0.30839002267573695"
      ]
     },
     "execution_count": 89,
     "metadata": {},
     "output_type": "execute_result"
    }
   ],
   "source": [
    "precision_score(Y_test,Y_pred)"
   ]
  },
  {
   "cell_type": "code",
   "execution_count": 90,
   "id": "079dc59a",
   "metadata": {},
   "outputs": [
    {
     "data": {
      "text/plain": [
       "array([[895, 305],\n",
       "       [ 50, 136]], dtype=int64)"
      ]
     },
     "execution_count": 90,
     "metadata": {},
     "output_type": "execute_result"
    }
   ],
   "source": [
    "confusion_matrix(Y_test,Y_pred)"
   ]
  },
  {
   "cell_type": "code",
   "execution_count": 91,
   "id": "75d19b1f",
   "metadata": {},
   "outputs": [
    {
     "data": {
      "text/html": [
       "<div>\n",
       "<style scoped>\n",
       "    .dataframe tbody tr th:only-of-type {\n",
       "        vertical-align: middle;\n",
       "    }\n",
       "\n",
       "    .dataframe tbody tr th {\n",
       "        vertical-align: top;\n",
       "    }\n",
       "\n",
       "    .dataframe thead th {\n",
       "        text-align: right;\n",
       "    }\n",
       "</style>\n",
       "<table border=\"1\" class=\"dataframe\">\n",
       "  <thead>\n",
       "    <tr style=\"text-align: right;\">\n",
       "      <th>col_0</th>\n",
       "      <th>0</th>\n",
       "      <th>1</th>\n",
       "    </tr>\n",
       "    <tr>\n",
       "      <th>Churn</th>\n",
       "      <th></th>\n",
       "      <th></th>\n",
       "    </tr>\n",
       "  </thead>\n",
       "  <tbody>\n",
       "    <tr>\n",
       "      <th>0</th>\n",
       "      <td>895</td>\n",
       "      <td>305</td>\n",
       "    </tr>\n",
       "    <tr>\n",
       "      <th>1</th>\n",
       "      <td>50</td>\n",
       "      <td>136</td>\n",
       "    </tr>\n",
       "  </tbody>\n",
       "</table>\n",
       "</div>"
      ],
      "text/plain": [
       "col_0    0    1\n",
       "Churn          \n",
       "0      895  305\n",
       "1       50  136"
      ]
     },
     "execution_count": 91,
     "metadata": {},
     "output_type": "execute_result"
    }
   ],
   "source": [
    "pd.crosstab(Y_test,Y_pred)"
   ]
  },
  {
   "cell_type": "code",
   "execution_count": 92,
   "id": "a48c6807",
   "metadata": {},
   "outputs": [
    {
     "name": "stdout",
     "output_type": "stream",
     "text": [
      "              precision    recall  f1-score   support\n",
      "\n",
      "           0       0.95      0.75      0.83      1200\n",
      "           1       0.31      0.73      0.43       186\n",
      "\n",
      "    accuracy                           0.74      1386\n",
      "   macro avg       0.63      0.74      0.63      1386\n",
      "weighted avg       0.86      0.74      0.78      1386\n",
      "\n"
     ]
    }
   ],
   "source": [
    "print(classification_report(Y_test,Y_pred))"
   ]
  },
  {
   "cell_type": "code",
   "execution_count": 216,
   "id": "f65d27c4",
   "metadata": {
    "scrolled": true
   },
   "outputs": [
    {
     "data": {
      "image/png": "[encoded data removed]",
      "text/plain": [
       "<Figure size 432x288 with 2 Axes>"
      ]
     },
     "metadata": {},
     "output_type": "display_data"
    }
   ],
   "source": [
    "conf = confusion_matrix(Y_test,Y_pred)\n",
    "label = [\"0\",\"1\"]\n",
    "sns.heatmap(conf, annot=True, xticklabels=label, yticklabels=label)\n",
    "plt.show()"
   ]
  },
  {
   "cell_type": "markdown",
   "id": "d685ac20",
   "metadata": {},
   "source": [
    "# Random forest"
   ]
  },
  {
   "cell_type": "code",
   "execution_count": 93,
   "id": "e6fa9edb",
   "metadata": {},
   "outputs": [],
   "source": [
    "model = RandomForestClassifier(random_state=5,n_estimators=100,max_depth=15)"
   ]
  },
  {
   "cell_type": "code",
   "execution_count": 95,
   "id": "22531e7d",
   "metadata": {},
   "outputs": [
    {
     "data": {
      "text/plain": [
       "RandomForestClassifier(max_depth=15, random_state=5)"
      ]
     },
     "execution_count": 95,
     "metadata": {},
     "output_type": "execute_result"
    }
   ],
   "source": [
    "model.fit(X_train_smote,Y_train_smote)"
   ]
  },
  {
   "cell_type": "code",
   "execution_count": 96,
   "id": "566941dc",
   "metadata": {},
   "outputs": [
    {
     "data": {
      "text/plain": [
       "array([0.02769686, 0.02885335, 0.00768386, 0.03368727, 0.050395  ,\n",
       "       0.0540417 , 0.09897536, 0.02841393, 0.11803222, 0.04906757,\n",
       "       0.02534946, 0.04917344, 0.0356827 , 0.02545861, 0.03235453,\n",
       "       0.03473494, 0.0797391 , 0.03514137, 0.18551875])"
      ]
     },
     "execution_count": 96,
     "metadata": {},
     "output_type": "execute_result"
    }
   ],
   "source": [
    "model.feature_importances_"
   ]
  },
  {
   "cell_type": "code",
   "execution_count": 97,
   "id": "5671d9a2",
   "metadata": {},
   "outputs": [],
   "source": [
    "Y_pred_rf= model.predict(X_test)"
   ]
  },
  {
   "cell_type": "code",
   "execution_count": 98,
   "id": "37a3fee4",
   "metadata": {},
   "outputs": [
    {
     "name": "stdout",
     "output_type": "stream",
     "text": [
      "              precision    recall  f1-score   support\n",
      "\n",
      "           0       0.97      0.95      0.96      1200\n",
      "           1       0.71      0.78      0.74       186\n",
      "\n",
      "    accuracy                           0.93      1386\n",
      "   macro avg       0.84      0.87      0.85      1386\n",
      "weighted avg       0.93      0.93      0.93      1386\n",
      "\n"
     ]
    }
   ],
   "source": [
    "print(classification_report(Y_test,Y_pred_rf))"
   ]
  },
  {
   "cell_type": "code",
   "execution_count": 217,
   "id": "1856571f",
   "metadata": {},
   "outputs": [
    {
     "data": {
      "image/png": "[encoded data removed]",
      "text/plain": [
       "<Figure size 432x288 with 2 Axes>"
      ]
     },
     "metadata": {},
     "output_type": "display_data"
    }
   ],
   "source": [
    "conf = confusion_matrix(Y_test,Y_pred_rf)\n",
    "label = [\"0\",\"1\"]\n",
    "sns.heatmap(conf, annot=True, xticklabels=label, yticklabels=label)\n",
    "plt.show()"
   ]
  },
  {
   "cell_type": "code",
   "execution_count": 99,
   "id": "d2cf28ee",
   "metadata": {},
   "outputs": [
    {
     "data": {
      "text/plain": [
       "0.9278499278499278"
      ]
     },
     "execution_count": 99,
     "metadata": {},
     "output_type": "execute_result"
    }
   ],
   "source": [
    "accuracy_score(Y_test,Y_pred_rf)"
   ]
  },
  {
   "cell_type": "code",
   "execution_count": 101,
   "id": "b048e98f",
   "metadata": {},
   "outputs": [
    {
     "data": {
      "text/html": [
       "<div>\n",
       "<style scoped>\n",
       "    .dataframe tbody tr th:only-of-type {\n",
       "        vertical-align: middle;\n",
       "    }\n",
       "\n",
       "    .dataframe tbody tr th {\n",
       "        vertical-align: top;\n",
       "    }\n",
       "\n",
       "    .dataframe thead th {\n",
       "        text-align: right;\n",
       "    }\n",
       "</style>\n",
       "<table border=\"1\" class=\"dataframe\">\n",
       "  <thead>\n",
       "    <tr style=\"text-align: right;\">\n",
       "      <th>col_0</th>\n",
       "      <th>0</th>\n",
       "      <th>1</th>\n",
       "    </tr>\n",
       "    <tr>\n",
       "      <th>Churn</th>\n",
       "      <th></th>\n",
       "      <th></th>\n",
       "    </tr>\n",
       "  </thead>\n",
       "  <tbody>\n",
       "    <tr>\n",
       "      <th>0</th>\n",
       "      <td>1140</td>\n",
       "      <td>60</td>\n",
       "    </tr>\n",
       "    <tr>\n",
       "      <th>1</th>\n",
       "      <td>40</td>\n",
       "      <td>146</td>\n",
       "    </tr>\n",
       "  </tbody>\n",
       "</table>\n",
       "</div>"
      ],
      "text/plain": [
       "col_0     0    1\n",
       "Churn           \n",
       "0      1140   60\n",
       "1        40  146"
      ]
     },
     "execution_count": 101,
     "metadata": {},
     "output_type": "execute_result"
    }
   ],
   "source": [
    "pd.crosstab(Y_test,Y_pred_rf)"
   ]
  },
  {
   "cell_type": "markdown",
   "id": "deb7e566",
   "metadata": {},
   "source": [
    "# Support Vector Machine"
   ]
  },
  {
   "cell_type": "code",
   "execution_count": 102,
   "id": "4e796489",
   "metadata": {},
   "outputs": [],
   "source": [
    "svc = SVC()"
   ]
  },
  {
   "cell_type": "code",
   "execution_count": 103,
   "id": "22c0933e",
   "metadata": {},
   "outputs": [
    {
     "data": {
      "text/plain": [
       "SVC()"
      ]
     },
     "execution_count": 103,
     "metadata": {},
     "output_type": "execute_result"
    }
   ],
   "source": [
    "svc.fit(X_train_smote,Y_train_smote)"
   ]
  },
  {
   "cell_type": "code",
   "execution_count": 105,
   "id": "5fd531d2",
   "metadata": {},
   "outputs": [],
   "source": [
    "Y_pred_svc=svc.predict(X_test)"
   ]
  },
  {
   "cell_type": "code",
   "execution_count": 106,
   "id": "eda2b219",
   "metadata": {},
   "outputs": [
    {
     "data": {
      "text/plain": [
       "0.6753246753246753"
      ]
     },
     "execution_count": 106,
     "metadata": {},
     "output_type": "execute_result"
    }
   ],
   "source": [
    "accuracy_score(Y_test,Y_pred_svc)"
   ]
  },
  {
   "cell_type": "code",
   "execution_count": 108,
   "id": "e8ac29e0",
   "metadata": {},
   "outputs": [
    {
     "name": "stdout",
     "output_type": "stream",
     "text": [
      "              precision    recall  f1-score   support\n",
      "\n",
      "           0       0.87      0.74      0.80      1200\n",
      "           1       0.14      0.28      0.19       186\n",
      "\n",
      "    accuracy                           0.68      1386\n",
      "   macro avg       0.50      0.51      0.49      1386\n",
      "weighted avg       0.77      0.68      0.72      1386\n",
      "\n"
     ]
    }
   ],
   "source": [
    "print(classification_report(Y_test,Y_pred_svc))"
   ]
  },
  {
   "cell_type": "code",
   "execution_count": 218,
   "id": "f082941a",
   "metadata": {},
   "outputs": [
    {
     "data": {
      "image/png": "[encoded data removed]",
      "text/plain": [
       "<Figure size 432x288 with 2 Axes>"
      ]
     },
     "metadata": {},
     "output_type": "display_data"
    }
   ],
   "source": [
    "conf = confusion_matrix(Y_test,Y_pred_svc)\n",
    "label = [\"0\",\"1\"]\n",
    "sns.heatmap(conf, annot=True, xticklabels=label, yticklabels=label)\n",
    "plt.show()"
   ]
  },
  {
   "cell_type": "code",
   "execution_count": 109,
   "id": "6d90c861",
   "metadata": {},
   "outputs": [
    {
     "data": {
      "text/plain": [
       "array([[884, 316],\n",
       "       [134,  52]], dtype=int64)"
      ]
     },
     "execution_count": 109,
     "metadata": {},
     "output_type": "execute_result"
    }
   ],
   "source": [
    "confusion_matrix(Y_test,Y_pred_svc)"
   ]
  },
  {
   "cell_type": "code",
   "execution_count": 110,
   "id": "b519f0db",
   "metadata": {},
   "outputs": [
    {
     "data": {
      "text/html": [
       "<div>\n",
       "<style scoped>\n",
       "    .dataframe tbody tr th:only-of-type {\n",
       "        vertical-align: middle;\n",
       "    }\n",
       "\n",
       "    .dataframe tbody tr th {\n",
       "        vertical-align: top;\n",
       "    }\n",
       "\n",
       "    .dataframe thead th {\n",
       "        text-align: right;\n",
       "    }\n",
       "</style>\n",
       "<table border=\"1\" class=\"dataframe\">\n",
       "  <thead>\n",
       "    <tr style=\"text-align: right;\">\n",
       "      <th>col_0</th>\n",
       "      <th>0</th>\n",
       "      <th>1</th>\n",
       "    </tr>\n",
       "    <tr>\n",
       "      <th>Churn</th>\n",
       "      <th></th>\n",
       "      <th></th>\n",
       "    </tr>\n",
       "  </thead>\n",
       "  <tbody>\n",
       "    <tr>\n",
       "      <th>0</th>\n",
       "      <td>895</td>\n",
       "      <td>305</td>\n",
       "    </tr>\n",
       "    <tr>\n",
       "      <th>1</th>\n",
       "      <td>50</td>\n",
       "      <td>136</td>\n",
       "    </tr>\n",
       "  </tbody>\n",
       "</table>\n",
       "</div>"
      ],
      "text/plain": [
       "col_0    0    1\n",
       "Churn          \n",
       "0      895  305\n",
       "1       50  136"
      ]
     },
     "execution_count": 110,
     "metadata": {},
     "output_type": "execute_result"
    }
   ],
   "source": [
    "pd.crosstab(Y_test,Y_pred)"
   ]
  },
  {
   "cell_type": "code",
   "execution_count": 111,
   "id": "3d7cdd14",
   "metadata": {},
   "outputs": [],
   "source": [
    "from sklearn.model_selection import GridSearchCV,RandomizedSearchCV"
   ]
  },
  {
   "cell_type": "code",
   "execution_count": 112,
   "id": "1eed90af",
   "metadata": {},
   "outputs": [],
   "source": [
    "params= {'n_estimators':[10,20,50,70,80,100,120],\n",
    "         'criterion': ['entropy','gini'],\n",
    "          'max_features':['auto',5,7,10,15],\n",
    "          'random_state':range(0,10)\n",
    "          }"
   ]
  },
  {
   "cell_type": "code",
   "execution_count": 114,
   "id": "83bcd317",
   "metadata": {},
   "outputs": [],
   "source": [
    "model_cv=RandomizedSearchCV(RandomForestClassifier(),params)"
   ]
  },
  {
   "cell_type": "code",
   "execution_count": 117,
   "id": "8b085ec6",
   "metadata": {},
   "outputs": [
    {
     "data": {
      "text/plain": [
       "RandomizedSearchCV(estimator=RandomForestClassifier(),\n",
       "                   param_distributions={'criterion': ['entropy', 'gini'],\n",
       "                                        'max_features': ['auto', 5, 7, 10, 15],\n",
       "                                        'n_estimators': [10, 20, 50, 70, 80,\n",
       "                                                         100, 120],\n",
       "                                        'random_state': range(0, 10)})"
      ]
     },
     "execution_count": 117,
     "metadata": {},
     "output_type": "execute_result"
    }
   ],
   "source": [
    "model_cv.fit(X_train_smote,Y_train_smote)"
   ]
  },
  {
   "cell_type": "code",
   "execution_count": 118,
   "id": "6526c35e",
   "metadata": {},
   "outputs": [
    {
     "data": {
      "text/plain": [
       "{'random_state': 9,\n",
       " 'n_estimators': 70,\n",
       " 'max_features': 15,\n",
       " 'criterion': 'entropy'}"
      ]
     },
     "execution_count": 118,
     "metadata": {},
     "output_type": "execute_result"
    }
   ],
   "source": [
    "model_cv.best_params_"
   ]
  },
  {
   "cell_type": "code",
   "execution_count": 119,
   "id": "31bc74c3",
   "metadata": {},
   "outputs": [
    {
     "data": {
      "text/plain": [
       "RandomForestClassifier(criterion='entropy', max_features=15, n_estimators=70,\n",
       "                       random_state=9)"
      ]
     },
     "execution_count": 119,
     "metadata": {},
     "output_type": "execute_result"
    }
   ],
   "source": [
    "model_cv.best_estimator_"
   ]
  },
  {
   "cell_type": "code",
   "execution_count": 120,
   "id": "db79e5bd",
   "metadata": {},
   "outputs": [
    {
     "data": {
      "text/plain": [
       "0.9458595645616106"
      ]
     },
     "execution_count": 120,
     "metadata": {},
     "output_type": "execute_result"
    }
   ],
   "source": [
    "model_cv.best_score_"
   ]
  },
  {
   "cell_type": "code",
   "execution_count": 121,
   "id": "c7fb1e0d",
   "metadata": {},
   "outputs": [
    {
     "name": "stdout",
     "output_type": "stream",
     "text": [
      "              precision    recall  f1-score   support\n",
      "\n",
      "           0       0.97      0.97      0.97      1200\n",
      "           1       0.78      0.79      0.79       186\n",
      "\n",
      "    accuracy                           0.94      1386\n",
      "   macro avg       0.87      0.88      0.88      1386\n",
      "weighted avg       0.94      0.94      0.94      1386\n",
      "\n"
     ]
    },
    {
     "data": {
      "text/html": [
       "<div>\n",
       "<style scoped>\n",
       "    .dataframe tbody tr th:only-of-type {\n",
       "        vertical-align: middle;\n",
       "    }\n",
       "\n",
       "    .dataframe tbody tr th {\n",
       "        vertical-align: top;\n",
       "    }\n",
       "\n",
       "    .dataframe thead th {\n",
       "        text-align: right;\n",
       "    }\n",
       "</style>\n",
       "<table border=\"1\" class=\"dataframe\">\n",
       "  <thead>\n",
       "    <tr style=\"text-align: right;\">\n",
       "      <th>col_0</th>\n",
       "      <th>0</th>\n",
       "      <th>1</th>\n",
       "    </tr>\n",
       "    <tr>\n",
       "      <th>Churn</th>\n",
       "      <th></th>\n",
       "      <th></th>\n",
       "    </tr>\n",
       "  </thead>\n",
       "  <tbody>\n",
       "    <tr>\n",
       "      <th>0</th>\n",
       "      <td>1159</td>\n",
       "      <td>41</td>\n",
       "    </tr>\n",
       "    <tr>\n",
       "      <th>1</th>\n",
       "      <td>39</td>\n",
       "      <td>147</td>\n",
       "    </tr>\n",
       "  </tbody>\n",
       "</table>\n",
       "</div>"
      ],
      "text/plain": [
       "col_0     0    1\n",
       "Churn           \n",
       "0      1159   41\n",
       "1        39  147"
      ]
     },
     "execution_count": 121,
     "metadata": {},
     "output_type": "execute_result"
    }
   ],
   "source": [
    "Y_pred_grid=model_cv.predict(X_test)\n",
    "print(classification_report(Y_test,Y_pred_grid))\n",
    "pd.crosstab(Y_test,Y_pred_grid)"
   ]
  },
  {
   "cell_type": "code",
   "execution_count": 219,
   "id": "5bc4373a",
   "metadata": {},
   "outputs": [
    {
     "data": {
      "image/png": "[encoded data removed]",
      "text/plain": [
       "<Figure size 432x288 with 2 Axes>"
      ]
     },
     "metadata": {},
     "output_type": "display_data"
    }
   ],
   "source": [
    "conf = confusion_matrix(Y_test,Y_pred_grid)\n",
    "label = [\"0\",\"1\"]\n",
    "sns.heatmap(conf, annot=True, xticklabels=label, yticklabels=label)\n",
    "plt.show()"
   ]
  },
  {
   "cell_type": "markdown",
   "id": "3b016dce",
   "metadata": {},
   "source": [
    "# ROC CURVE"
   ]
  },
  {
   "cell_type": "code",
   "execution_count": 130,
   "id": "bee8d61a",
   "metadata": {},
   "outputs": [],
   "source": [
    "from sklearn.metrics import roc_curve, roc_auc_score"
   ]
  },
  {
   "cell_type": "code",
   "execution_count": 131,
   "id": "5b2a0436",
   "metadata": {},
   "outputs": [
    {
     "data": {
      "text/plain": [
       "0       0.230000\n",
       "1       0.672544\n",
       "2       0.274700\n",
       "3       0.302199\n",
       "4       0.220170\n",
       "          ...   \n",
       "1381    0.110104\n",
       "1382    0.179993\n",
       "1383    0.127728\n",
       "1384    0.578392\n",
       "1385    0.431254\n",
       "Name: 1, Length: 1386, dtype: float64"
      ]
     },
     "execution_count": 131,
     "metadata": {},
     "output_type": "execute_result"
    }
   ],
   "source": [
    "pd.DataFrame(model.predict_proba(X_test)).iloc[:,1]"
   ]
  },
  {
   "cell_type": "code",
   "execution_count": 132,
   "id": "4d8e7eaa",
   "metadata": {},
   "outputs": [
    {
     "name": "stdout",
     "output_type": "stream",
     "text": [
      "[0.23       0.6725441  0.27469971 ... 0.1277275  0.57839181 0.43125413]\n"
     ]
    }
   ],
   "source": [
    "Y_pred_prob=model.predict_proba(X_test)[:,1]\n",
    "print(Y_pred_prob)"
   ]
  },
  {
   "cell_type": "code",
   "execution_count": 133,
   "id": "67751b48",
   "metadata": {},
   "outputs": [],
   "source": [
    "fpr, tpr , thresholds = roc_curve(Y_test,Y_pred_prob)"
   ]
  },
  {
   "cell_type": "code",
   "execution_count": 134,
   "id": "9f2073d8",
   "metadata": {},
   "outputs": [
    {
     "data": {
      "text/plain": [
       "array([0.        , 0.00537634, 0.0483871 , 0.05913978, 0.08064516,\n",
       "       0.09139785, 0.22580645, 0.22580645, 0.32258065, 0.32258065,\n",
       "       0.34408602, 0.34408602, 0.37096774, 0.37096774, 0.39247312,\n",
       "       0.39247312, 0.40322581, 0.44623656, 0.44623656, 0.4516129 ,\n",
       "       0.4516129 , 0.45698925, 0.45698925, 0.5       , 0.5       ,\n",
       "       0.55913978, 0.55913978, 0.56451613, 0.56451613, 0.58064516,\n",
       "       0.59139785, 0.62365591, 0.62365591, 0.63978495, 0.63978495,\n",
       "       0.65053763, 0.65053763, 0.66129032, 0.66129032, 0.67204301,\n",
       "       0.67204301, 0.70430108, 0.71505376, 0.71505376, 0.72043011,\n",
       "       0.72043011, 0.72580645, 0.72580645, 0.7311828 , 0.7311828 ,\n",
       "       0.73655914, 0.73655914, 0.74193548, 0.74193548, 0.74731183,\n",
       "       0.74731183, 0.75268817, 0.75268817, 0.75806452, 0.75806452,\n",
       "       0.76344086, 0.76344086, 0.7688172 , 0.7688172 , 0.77419355,\n",
       "       0.77419355, 0.78494624, 0.78494624, 0.79569892, 0.79569892,\n",
       "       0.80107527, 0.80107527, 0.80645161, 0.80645161, 0.81182796,\n",
       "       0.81182796, 0.8172043 , 0.8172043 , 0.82258065, 0.82258065,\n",
       "       0.82795699, 0.82795699, 0.83333333, 0.83333333, 0.83870968,\n",
       "       0.83870968, 0.84408602, 0.84408602, 0.84946237, 0.84946237,\n",
       "       0.85483871, 0.85483871, 0.86021505, 0.86021505, 0.86021505,\n",
       "       0.86021505, 0.8655914 , 0.8655914 , 0.8655914 , 0.8655914 ,\n",
       "       0.8655914 , 0.8655914 , 0.8655914 , 0.8655914 , 0.87096774,\n",
       "       0.87096774, 0.87634409, 0.88172043, 0.88172043, 0.88709677,\n",
       "       0.88709677, 0.89247312, 0.89247312, 0.89784946, 0.89784946,\n",
       "       0.90322581, 0.90322581, 0.90322581, 0.90322581, 0.90860215,\n",
       "       0.90860215, 0.91397849, 0.91397849, 0.91935484, 0.91935484,\n",
       "       0.91935484, 0.91935484, 0.91935484, 0.91935484, 0.92473118,\n",
       "       0.92473118, 0.93010753, 0.93010753, 0.93010753, 0.93010753,\n",
       "       0.93548387, 0.93548387, 0.94623656, 0.94623656, 0.94623656,\n",
       "       0.94623656, 0.94623656, 0.94623656, 0.9516129 , 0.9516129 ,\n",
       "       0.95698925, 0.95698925, 0.95698925, 0.95698925, 0.96236559,\n",
       "       0.96236559, 0.96236559, 0.96236559, 0.96774194, 0.96774194,\n",
       "       0.97311828, 0.97311828, 0.97849462, 0.97849462, 0.98387097,\n",
       "       0.98387097, 0.98924731, 0.98924731, 0.99462366, 0.99462366,\n",
       "       1.        , 1.        ])"
      ]
     },
     "execution_count": 134,
     "metadata": {},
     "output_type": "execute_result"
    }
   ],
   "source": [
    "tpr"
   ]
  },
  {
   "cell_type": "code",
   "execution_count": 135,
   "id": "f52a02df",
   "metadata": {},
   "outputs": [
    {
     "data": {
      "text/plain": [
       "array([0.00000000e+00, 0.00000000e+00, 0.00000000e+00, 0.00000000e+00,\n",
       "       0.00000000e+00, 0.00000000e+00, 0.00000000e+00, 8.33333333e-04,\n",
       "       8.33333333e-04, 2.50000000e-03, 2.50000000e-03, 3.33333333e-03,\n",
       "       3.33333333e-03, 4.16666667e-03, 4.16666667e-03, 5.00000000e-03,\n",
       "       5.00000000e-03, 5.00000000e-03, 5.83333333e-03, 5.83333333e-03,\n",
       "       6.66666667e-03, 6.66666667e-03, 7.50000000e-03, 7.50000000e-03,\n",
       "       8.33333333e-03, 8.33333333e-03, 1.08333333e-02, 1.08333333e-02,\n",
       "       1.25000000e-02, 1.25000000e-02, 1.25000000e-02, 1.25000000e-02,\n",
       "       1.33333333e-02, 1.33333333e-02, 1.50000000e-02, 1.50000000e-02,\n",
       "       1.66666667e-02, 1.66666667e-02, 1.75000000e-02, 1.75000000e-02,\n",
       "       1.83333333e-02, 1.83333333e-02, 1.83333333e-02, 1.91666667e-02,\n",
       "       1.91666667e-02, 2.00000000e-02, 2.00000000e-02, 2.08333333e-02,\n",
       "       2.08333333e-02, 2.16666667e-02, 2.16666667e-02, 2.33333333e-02,\n",
       "       2.33333333e-02, 2.41666667e-02, 2.41666667e-02, 3.08333333e-02,\n",
       "       3.08333333e-02, 3.41666667e-02, 3.50000000e-02, 3.58333333e-02,\n",
       "       3.58333333e-02, 3.75000000e-02, 3.75000000e-02, 3.91666667e-02,\n",
       "       3.91666667e-02, 4.41666667e-02, 4.41666667e-02, 5.08333333e-02,\n",
       "       5.08333333e-02, 5.33333333e-02, 5.33333333e-02, 5.50000000e-02,\n",
       "       5.50000000e-02, 5.83333333e-02, 5.83333333e-02, 6.25000000e-02,\n",
       "       6.25000000e-02, 6.33333333e-02, 6.33333333e-02, 6.75000000e-02,\n",
       "       6.75000000e-02, 7.08333333e-02, 7.08333333e-02, 7.33333333e-02,\n",
       "       7.33333333e-02, 7.75000000e-02, 7.75000000e-02, 8.91666667e-02,\n",
       "       8.91666667e-02, 9.91666667e-02, 9.91666667e-02, 1.06666667e-01,\n",
       "       1.06666667e-01, 1.13333333e-01, 1.15000000e-01, 1.15833333e-01,\n",
       "       1.15833333e-01, 1.44166667e-01, 1.46666667e-01, 2.00833333e-01,\n",
       "       2.04166667e-01, 2.24166667e-01, 2.27500000e-01, 2.39166667e-01,\n",
       "       2.39166667e-01, 2.46666667e-01, 2.46666667e-01, 2.47500000e-01,\n",
       "       2.48333333e-01, 2.48333333e-01, 2.67500000e-01, 2.68333333e-01,\n",
       "       2.77500000e-01, 2.77500000e-01, 3.04166667e-01, 3.04166667e-01,\n",
       "       3.95000000e-01, 3.98333333e-01, 4.13333333e-01, 4.13333333e-01,\n",
       "       4.28333333e-01, 4.28333333e-01, 4.60000000e-01, 4.60000000e-01,\n",
       "       4.72500000e-01, 4.75000000e-01, 5.15833333e-01, 5.19166667e-01,\n",
       "       5.35000000e-01, 5.35000000e-01, 5.67500000e-01, 5.67500000e-01,\n",
       "       5.70000000e-01, 5.71666667e-01, 5.77500000e-01, 5.77500000e-01,\n",
       "       5.94166667e-01, 5.94166667e-01, 6.05833333e-01, 6.09166667e-01,\n",
       "       6.58333333e-01, 6.60000000e-01, 6.85833333e-01, 6.85833333e-01,\n",
       "       7.30833333e-01, 7.30833333e-01, 8.05833333e-01, 8.09166667e-01,\n",
       "       8.15833333e-01, 8.15833333e-01, 8.58333333e-01, 8.60833333e-01,\n",
       "       8.68333333e-01, 8.68333333e-01, 8.75833333e-01, 8.75833333e-01,\n",
       "       9.15000000e-01, 9.15000000e-01, 9.47500000e-01, 9.47500000e-01,\n",
       "       9.80833333e-01, 9.80833333e-01, 9.89166667e-01, 9.89166667e-01,\n",
       "       9.91666667e-01, 9.91666667e-01, 1.00000000e+00])"
      ]
     },
     "execution_count": 135,
     "metadata": {},
     "output_type": "execute_result"
    }
   ],
   "source": [
    "fpr"
   ]
  },
  {
   "cell_type": "code",
   "execution_count": 136,
   "id": "d97d83d0",
   "metadata": {},
   "outputs": [
    {
     "data": {
      "text/plain": [
       "array([1.99998102, 0.99998102, 0.98980583, 0.98978685, 0.98560822,\n",
       "       0.97998102, 0.908     , 0.90444311, 0.86364176, 0.8600434 ,\n",
       "       0.8490101 , 0.84772075, 0.83337834, 0.83067062, 0.82158895,\n",
       "       0.82090156, 0.82      , 0.80938596, 0.8048639 , 0.80454403,\n",
       "       0.80215045, 0.8       , 0.79350301, 0.7687451 , 0.76465333,\n",
       "       0.71371452, 0.69887859, 0.69795068, 0.69055822, 0.68742073,\n",
       "       0.68      , 0.66881872, 0.66751949, 0.65735705, 0.65466964,\n",
       "       0.64935312, 0.64665605, 0.63991038, 0.63788889, 0.63428297,\n",
       "       0.63333596, 0.6265    , 0.62      , 0.61975712, 0.61939315,\n",
       "       0.61882107, 0.61071429, 0.6091872 , 0.60223919, 0.6       ,\n",
       "       0.59831304, 0.59590909, 0.59453733, 0.58809858, 0.582     ,\n",
       "       0.57195882, 0.5674526 , 0.56063392, 0.56      , 0.5599396 ,\n",
       "       0.55954545, 0.55      , 0.54389349, 0.53586447, 0.53523815,\n",
       "       0.51886519, 0.516     , 0.49959131, 0.4945098 , 0.48591311,\n",
       "       0.48205312, 0.47986961, 0.47973102, 0.46818182, 0.46242587,\n",
       "       0.44916776, 0.44793347, 0.44575754, 0.445     , 0.4335614 ,\n",
       "       0.43183333, 0.42187569, 0.42164242, 0.41012324, 0.41      ,\n",
       "       0.38850649, 0.3860061 , 0.3571244 , 0.35598224, 0.34912862,\n",
       "       0.349     , 0.33555201, 0.33      , 0.31290671, 0.31      ,\n",
       "       0.30908059, 0.30584524, 0.28166667, 0.28      , 0.24002327,\n",
       "       0.24      , 0.23012737, 0.23      , 0.22361348, 0.22337892,\n",
       "       0.22010575, 0.22003879, 0.22      , 0.21963224, 0.2193295 ,\n",
       "       0.2100885 , 0.21      , 0.20366489, 0.20353426, 0.1960292 ,\n",
       "       0.19544541, 0.17025376, 0.17      , 0.16598334, 0.16591755,\n",
       "       0.16150921, 0.16143927, 0.15370962, 0.15342021, 0.15020712,\n",
       "       0.15      , 0.14001869, 0.14      , 0.13564537, 0.13554916,\n",
       "       0.13017154, 0.13013988, 0.13006261, 0.13      , 0.12877836,\n",
       "       0.12863724, 0.12414192, 0.12345111, 0.12006981, 0.12      ,\n",
       "       0.11002658, 0.11      , 0.10541528, 0.10480828, 0.09625125,\n",
       "       0.09605428, 0.08045787, 0.08      , 0.0787867 , 0.07861701,\n",
       "       0.0700065 , 0.07      , 0.06686044, 0.06684812, 0.06334936,\n",
       "       0.06331839, 0.05333333, 0.05322381, 0.04077018, 0.040538  ,\n",
       "       0.02625424, 0.02623758, 0.02184139, 0.02183041, 0.02      ,\n",
       "       0.01825879, 0.00300028])"
      ]
     },
     "execution_count": 136,
     "metadata": {},
     "output_type": "execute_result"
    }
   ],
   "source": [
    "thresholds"
   ]
  },
  {
   "cell_type": "code",
   "execution_count": 137,
   "id": "327bfa85",
   "metadata": {},
   "outputs": [],
   "source": [
    "import matplotlib.pyplot as plt"
   ]
  },
  {
   "cell_type": "code",
   "execution_count": 139,
   "id": "8e20306f",
   "metadata": {},
   "outputs": [
    {
     "data": {
      "text/plain": [
       "0.9086178315412187"
      ]
     },
     "execution_count": 139,
     "metadata": {},
     "output_type": "execute_result"
    }
   ],
   "source": [
    "auc = roc_auc_score(Y_test, model.predict_proba(X_test)[:,1])\n",
    "auc"
   ]
  },
  {
   "cell_type": "code",
   "execution_count": 140,
   "id": "c5b16d04",
   "metadata": {},
   "outputs": [
    {
     "data": {
      "image/png": "[encoded data removed]",
      "text/plain": [
       "<Figure size 432x288 with 1 Axes>"
      ]
     },
     "metadata": {
      "needs_background": "light"
     },
     "output_type": "display_data"
    }
   ],
   "source": [
    "plt.plot(fpr,tpr)\n",
    "plt.xlabel(\"False positive rate\")\n",
    "plt.ylabel(\"true postive rate\")\n",
    "plt.plot([0,1],[0,1],\"--\")\n",
    "plt.show()"
   ]
  },
  {
   "cell_type": "code",
   "execution_count": 143,
   "id": "42837cf3",
   "metadata": {},
   "outputs": [],
   "source": [
    "importances = model.feature_importances_\n",
    "sort=np.argsort(importances)\n",
    "label=X.columns[sort]"
   ]
  },
  {
   "cell_type": "code",
   "execution_count": 144,
   "id": "74fe6b71",
   "metadata": {},
   "outputs": [
    {
     "name": "stdout",
     "output_type": "stream",
     "text": [
      "range(0, 19)\n"
     ]
    }
   ],
   "source": [
    "X.shape\n",
    "ss = range(X.shape[1])\n",
    "print(ss)"
   ]
  },
  {
   "cell_type": "code",
   "execution_count": 146,
   "id": "45967838",
   "metadata": {},
   "outputs": [
    {
     "data": {
      "text/plain": [
       "<BarContainer object of 19 artists>"
      ]
     },
     "execution_count": 146,
     "metadata": {},
     "output_type": "execute_result"
    },
    {
     "data": {
      "image/png": "[encoded data removed]",
      "text/plain": [
       "<Figure size 432x288 with 1 Axes>"
      ]
     },
     "metadata": {
      "needs_background": "light"
     },
     "output_type": "display_data"
    }
   ],
   "source": [
    "plt.barh(ss,importances[sort],tick_label=label)"
   ]
  },
  {
   "cell_type": "code",
   "execution_count": 156,
   "id": "d84239a4",
   "metadata": {},
   "outputs": [],
   "source": [
    " import joblib"
   ]
  },
  {
   "cell_type": "code",
   "execution_count": 157,
   "id": "e4a560dc",
   "metadata": {},
   "outputs": [
    {
     "data": {
      "text/plain": [
       "['Telecom_trained_model.ml']"
      ]
     },
     "execution_count": 157,
     "metadata": {},
     "output_type": "execute_result"
    }
   ],
   "source": [
    "joblib.dump(model,'Telecom_trained_model.ml')"
   ]
  },
  {
   "cell_type": "code",
   "execution_count": 158,
   "id": "114a3627",
   "metadata": {},
   "outputs": [],
   "source": [
    "model=joblib.load('Telecom_trained_model.ml')"
   ]
  },
  {
   "cell_type": "markdown",
   "id": "c36172ac",
   "metadata": {},
   "source": [
    "# conclusion:"
   ]
  },
  {
   "cell_type": "markdown",
   "id": "a13b1d8a",
   "metadata": {},
   "source": [
    "## Random forest gives best accuracy for all the metrics as compared to  Logistic Regression and support vector machine"
   ]
  },
  {
   "cell_type": "code",
   "execution_count": null,
   "id": "43bf922f",
   "metadata": {},
   "outputs": [],
   "source": []
  }
 ],
 "metadata": {
  "kernelspec": {
   "display_name": "Python 3 (ipykernel)",
   "language": "python",
   "name": "python3"
  },
  "language_info": {
   "codemirror_mode": {
    "name": "ipython",
    "version": 3
   },
   "file_extension": ".py",
   "mimetype": "text/x-python",
   "name": "python",
   "nbconvert_exporter": "python",
   "pygments_lexer": "ipython3",
   "version": "3.8.12"
  }
 },
 "nbformat": 4,
 "nbformat_minor": 5
}
